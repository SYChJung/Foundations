{
 "cells": [
  {
   "cell_type": "markdown",
   "metadata": {},
   "source": [
    "## 1. Where did the dataset come from?"
   ]
  },
  {
   "cell_type": "code",
   "execution_count": 1,
   "metadata": {},
   "outputs": [
    {
     "name": "stdout",
     "output_type": "stream",
     "text": [
      "The source is : http://www.nhc.noaa.gov/data/tcr/index.php?season=2016&basin=atl\n",
      "Hurricane Alex files.\n"
     ]
    }
   ],
   "source": [
    "print(\"The source is :\", 'http://www.nhc.noaa.gov/data/tcr/index.php?season=2016&basin=atl')\n",
    "print(\"Hurricane Alex files.\")\n"
   ]
  },
  {
   "cell_type": "markdown",
   "metadata": {},
   "source": [
    "## 2. If I had questions about this dataset, who would I ask?"
   ]
  },
  {
   "cell_type": "code",
   "execution_count": 2,
   "metadata": {
    "collapsed": true
   },
   "outputs": [],
   "source": [
    "# http://www.nhc.noaa.gov/data/tcr/index.php?season=2016&basin=atl\n",
    "# http://www.emc.ncep.noaa.gov/mtt/docs/NOAA%20Training%20Slides%20(Group%20B)-NCEP(17-Apr-12)-DRAFTR2.pptx\n",
    "\n",
    "# US Dept of Commerce\n",
    "# National Oceanic and Atmospheric Administration\n",
    "# National Hurricane Center\n",
    "# 11691 SW 17th Street\n",
    "# Miami, FL, 33165\n",
    "# nhcwebmaster@noaa.gov"
   ]
  },
  {
   "cell_type": "markdown",
   "metadata": {},
   "source": [
    "## 3. Open the dataset using pandas."
   ]
  },
  {
   "cell_type": "code",
   "execution_count": 3,
   "metadata": {},
   "outputs": [
    {
     "data": {
      "text/html": [
       "<div>\n",
       "<style>\n",
       "    .dataframe thead tr:only-child th {\n",
       "        text-align: right;\n",
       "    }\n",
       "\n",
       "    .dataframe thead th {\n",
       "        text-align: left;\n",
       "    }\n",
       "\n",
       "    .dataframe tbody tr th {\n",
       "        vertical-align: top;\n",
       "    }\n",
       "</style>\n",
       "<table border=\"1\" class=\"dataframe\">\n",
       "  <thead>\n",
       "    <tr style=\"text-align: right;\">\n",
       "      <th></th>\n",
       "      <th>X</th>\n",
       "      <th>Y</th>\n",
       "      <th>STORMNAME</th>\n",
       "      <th>DTG</th>\n",
       "      <th>YEAR</th>\n",
       "      <th>MONTH</th>\n",
       "      <th>DAY</th>\n",
       "      <th>HHMM</th>\n",
       "      <th>TAU</th>\n",
       "      <th>MSLP</th>\n",
       "      <th>BASIN</th>\n",
       "      <th>STORMNUM</th>\n",
       "      <th>STORMTYPE</th>\n",
       "      <th>INTENSITY</th>\n",
       "      <th>SS</th>\n",
       "      <th>LAT</th>\n",
       "      <th>LON</th>\n",
       "    </tr>\n",
       "  </thead>\n",
       "  <tbody>\n",
       "    <tr>\n",
       "      <th>0</th>\n",
       "      <td>-75.300003</td>\n",
       "      <td>26.600000</td>\n",
       "      <td>TEST</td>\n",
       "      <td>2016010700</td>\n",
       "      <td>2016</td>\n",
       "      <td>JAN</td>\n",
       "      <td>7</td>\n",
       "      <td>0</td>\n",
       "      <td>0</td>\n",
       "      <td>1010</td>\n",
       "      <td>AL</td>\n",
       "      <td>1</td>\n",
       "      <td>Extratropical Cyclone</td>\n",
       "      <td>40</td>\n",
       "      <td>0</td>\n",
       "      <td>26.6</td>\n",
       "      <td>-75.3</td>\n",
       "    </tr>\n",
       "    <tr>\n",
       "      <th>1</th>\n",
       "      <td>-74.699997</td>\n",
       "      <td>27.600000</td>\n",
       "      <td>TEST</td>\n",
       "      <td>2016010706</td>\n",
       "      <td>2016</td>\n",
       "      <td>JAN</td>\n",
       "      <td>7</td>\n",
       "      <td>600</td>\n",
       "      <td>0</td>\n",
       "      <td>1003</td>\n",
       "      <td>AL</td>\n",
       "      <td>1</td>\n",
       "      <td>Extratropical Cyclone</td>\n",
       "      <td>45</td>\n",
       "      <td>0</td>\n",
       "      <td>27.6</td>\n",
       "      <td>-74.7</td>\n",
       "    </tr>\n",
       "    <tr>\n",
       "      <th>2</th>\n",
       "      <td>-73.800003</td>\n",
       "      <td>28.700001</td>\n",
       "      <td>TEST</td>\n",
       "      <td>2016010712</td>\n",
       "      <td>2016</td>\n",
       "      <td>JAN</td>\n",
       "      <td>7</td>\n",
       "      <td>1200</td>\n",
       "      <td>0</td>\n",
       "      <td>997</td>\n",
       "      <td>AL</td>\n",
       "      <td>1</td>\n",
       "      <td>Extratropical Cyclone</td>\n",
       "      <td>50</td>\n",
       "      <td>0</td>\n",
       "      <td>28.7</td>\n",
       "      <td>-73.8</td>\n",
       "    </tr>\n",
       "    <tr>\n",
       "      <th>3</th>\n",
       "      <td>-72.500000</td>\n",
       "      <td>30.000000</td>\n",
       "      <td>TEST</td>\n",
       "      <td>2016010718</td>\n",
       "      <td>2016</td>\n",
       "      <td>JAN</td>\n",
       "      <td>7</td>\n",
       "      <td>1800</td>\n",
       "      <td>0</td>\n",
       "      <td>987</td>\n",
       "      <td>AL</td>\n",
       "      <td>1</td>\n",
       "      <td>Extratropical Cyclone</td>\n",
       "      <td>55</td>\n",
       "      <td>0</td>\n",
       "      <td>30.0</td>\n",
       "      <td>-72.5</td>\n",
       "    </tr>\n",
       "    <tr>\n",
       "      <th>4</th>\n",
       "      <td>-70.599998</td>\n",
       "      <td>31.400000</td>\n",
       "      <td>TEST</td>\n",
       "      <td>2016010800</td>\n",
       "      <td>2016</td>\n",
       "      <td>JAN</td>\n",
       "      <td>8</td>\n",
       "      <td>0</td>\n",
       "      <td>0</td>\n",
       "      <td>986</td>\n",
       "      <td>AL</td>\n",
       "      <td>1</td>\n",
       "      <td>Extratropical Cyclone</td>\n",
       "      <td>55</td>\n",
       "      <td>0</td>\n",
       "      <td>31.4</td>\n",
       "      <td>-70.6</td>\n",
       "    </tr>\n",
       "  </tbody>\n",
       "</table>\n",
       "</div>"
      ],
      "text/plain": [
       "           X          Y STORMNAME         DTG  YEAR MONTH  DAY  HHMM  TAU  \\\n",
       "0 -75.300003  26.600000      TEST  2016010700  2016   JAN    7     0    0   \n",
       "1 -74.699997  27.600000      TEST  2016010706  2016   JAN    7   600    0   \n",
       "2 -73.800003  28.700001      TEST  2016010712  2016   JAN    7  1200    0   \n",
       "3 -72.500000  30.000000      TEST  2016010718  2016   JAN    7  1800    0   \n",
       "4 -70.599998  31.400000      TEST  2016010800  2016   JAN    8     0    0   \n",
       "\n",
       "   MSLP BASIN  STORMNUM              STORMTYPE  INTENSITY  SS   LAT   LON  \n",
       "0  1010    AL         1  Extratropical Cyclone         40   0  26.6 -75.3  \n",
       "1  1003    AL         1  Extratropical Cyclone         45   0  27.6 -74.7  \n",
       "2   997    AL         1  Extratropical Cyclone         50   0  28.7 -73.8  \n",
       "3   987    AL         1  Extratropical Cyclone         55   0  30.0 -72.5  \n",
       "4   986    AL         1  Extratropical Cyclone         55   0  31.4 -70.6  "
      ]
     },
     "execution_count": 3,
     "metadata": {},
     "output_type": "execute_result"
    }
   ],
   "source": [
    "import pandas as pd\n",
    "df = pd.read_csv(\"al012016_pts.csv\", error_bad_lines=False)\n",
    "df.head()\n"
   ]
  },
  {
   "cell_type": "markdown",
   "metadata": {},
   "source": [
    "## 4. How many columns and rows does it have?"
   ]
  },
  {
   "cell_type": "code",
   "execution_count": 4,
   "metadata": {},
   "outputs": [
    {
     "name": "stdout",
     "output_type": "stream",
     "text": [
      "It has 42 rows\n",
      "and has 17 columns\n"
     ]
    }
   ],
   "source": [
    "print(\"It has\", df.shape[0], \"rows\")\n",
    "print(\"and has\", df.shape[1], \"columns\")\n"
   ]
  },
  {
   "cell_type": "markdown",
   "metadata": {},
   "source": [
    "## 5. What are the data types of each column?"
   ]
  },
  {
   "cell_type": "code",
   "execution_count": 5,
   "metadata": {
    "scrolled": true
   },
   "outputs": [
    {
     "data": {
      "text/plain": [
       "X            float64\n",
       "Y            float64\n",
       "STORMNAME     object\n",
       "DTG            int64\n",
       "YEAR           int64\n",
       "MONTH         object\n",
       "DAY            int64\n",
       "HHMM           int64\n",
       "TAU            int64\n",
       "MSLP           int64\n",
       "BASIN         object\n",
       "STORMNUM       int64\n",
       "STORMTYPE     object\n",
       "INTENSITY      int64\n",
       "SS             int64\n",
       "LAT          float64\n",
       "LON          float64\n",
       "dtype: object"
      ]
     },
     "execution_count": 5,
     "metadata": {},
     "output_type": "execute_result"
    }
   ],
   "source": [
    "df.dtypes\n"
   ]
  },
  {
   "cell_type": "markdown",
   "metadata": {},
   "source": [
    "## 6. Tell me what four of the columns mean, and state whether you made up the definitions or used a data dictionary.\n"
   ]
  },
  {
   "cell_type": "code",
   "execution_count": 6,
   "metadata": {
    "collapsed": true
   },
   "outputs": [],
   "source": [
    "# I used a data dictionary:\n",
    "\n",
    "# X          : Longitude\n",
    "# Y          : Latitude\n",
    "# MSLP       : Mean Sea Level Pressure\n",
    "# TAU        : Tuning and Analysis Utilities\n",
    "# HHMM       : Hour Hour Minute Minute \n",
    "\n",
    "\n",
    "# I made these up:\n",
    "\n",
    "# STORMNAME  : name of the hurricane\n",
    "# DTG        : date and time\n",
    "# YEAR       \n",
    "# MONTH      \n",
    "# DAY        \n",
    "# BASIN      \n",
    "# STORMNUM   : number of storms in the year\n",
    "# STORMTYPE     \n",
    "# INTENSITY\n",
    "# SS         \n",
    "# LAT        : rounded value of Y\n",
    "# LON        : rounded value of X"
   ]
  },
  {
   "cell_type": "markdown",
   "metadata": {},
   "source": [
    "## 7. Write five questions you could ask the data. A simple way to ask decent questions is comparing a measurement across two subgroups. For example, \"how do points scored in basketball in the 1950's compare to the 1990's,\" \"how often do women punch walls vs. men punch walls?\""
   ]
  },
  {
   "cell_type": "code",
   "execution_count": 7,
   "metadata": {
    "collapsed": true
   },
   "outputs": [],
   "source": [
    "# 7-1. Compare the average intensity by STORMNAME\n",
    "# 7-2. Compare the average mean sea level pressure by STORMNAME\n",
    "# 7-3. Find the number of rows for each STORMTYPE\n",
    "# 7-4. Graph the intensity by DTG\n",
    "# 7-5. Find the time of day (out of midnight, 6 a.m., noon, 6 p.m.) for which the MSLP/INTENSITY is highest.\n"
   ]
  },
  {
   "cell_type": "markdown",
   "metadata": {},
   "source": [
    "## 8. Try to ask the data those five questions"
   ]
  },
  {
   "cell_type": "code",
   "execution_count": 8,
   "metadata": {},
   "outputs": [
    {
     "data": {
      "text/plain": [
       "STORMNAME\n",
       "ALEX      61.428571\n",
       "INVEST    47.500000\n",
       "TEST      53.181818\n",
       "Name: INTENSITY, dtype: float64"
      ]
     },
     "execution_count": 8,
     "metadata": {},
     "output_type": "execute_result"
    }
   ],
   "source": [
    "# 7-1. Compare the average intensity by STORMNAME\n",
    "df.groupby('STORMNAME')['INTENSITY'].mean()\n"
   ]
  },
  {
   "cell_type": "code",
   "execution_count": 9,
   "metadata": {},
   "outputs": [
    {
     "data": {
      "text/plain": [
       "STORMNAME\n",
       "ALEX      983.285714\n",
       "INVEST    988.666667\n",
       "TEST      987.409091\n",
       "Name: MSLP, dtype: float64"
      ]
     },
     "execution_count": 9,
     "metadata": {},
     "output_type": "execute_result"
    }
   ],
   "source": [
    "# 7-2. Compare the average mean sea level pressure by STORMNAME\n",
    "df.groupby('STORMNAME')['MSLP'].mean()\n"
   ]
  },
  {
   "cell_type": "code",
   "execution_count": 10,
   "metadata": {},
   "outputs": [
    {
     "data": {
      "text/plain": [
       "Extratropical Cyclone    29\n",
       "Subtropical Storm         6\n",
       "Hurricane1                5\n",
       "Tropical Storm            2\n",
       "Name: STORMTYPE, dtype: int64"
      ]
     },
     "execution_count": 10,
     "metadata": {},
     "output_type": "execute_result"
    }
   ],
   "source": [
    "# 7-3. Find the number of rows for each STORMTYPE\n",
    "df['STORMTYPE'].value_counts()\n"
   ]
  },
  {
   "cell_type": "code",
   "execution_count": 11,
   "metadata": {},
   "outputs": [
    {
     "data": {
      "image/png": "[encoded data removed]",
      "text/plain": [
       "<matplotlib.figure.Figure at 0x106535d30>"
      ]
     },
     "metadata": {},
     "output_type": "display_data"
    }
   ],
   "source": [
    "%matplotlib inline\n",
    "# 7-4. Graph the intensity by DTG\n",
    "ax = df.plot(x='DTG', y='INTENSITY', c='blue')"
   ]
  },
  {
   "cell_type": "code",
   "execution_count": 12,
   "metadata": {},
   "outputs": [
    {
     "name": "stdout",
     "output_type": "stream",
     "text": [
      "HHMM\n",
      "600    987.1\n",
      "Name: MSLP, dtype: float64\n",
      "HHMM\n",
      "0    55.454545\n",
      "Name: INTENSITY, dtype: float64\n"
     ]
    }
   ],
   "source": [
    "# 7-5. Find the time of day (out of midnight, 6 a.m., noon, 6 p.m.) for which the MSLP/INTENSITY is highest.\n",
    "print(df.groupby('HHMM')['MSLP'].mean().sort_values(ascending=False).head(1)  )\n",
    "print(df.groupby('HHMM')['INTENSITY'].mean().sort_values(ascending=False).head(1)  )"
   ]
  },
  {
   "cell_type": "markdown",
   "metadata": {},
   "source": [
    "## 9. If you have problems reading the data in or asking the questions, keep a lot of notes about that. I hope you all run into a hundred problems, then we can solve them next week."
   ]
  },
  {
   "cell_type": "code",
   "execution_count": null,
   "metadata": {
    "collapsed": true
   },
   "outputs": [],
   "source": []
  }
 ],
 "metadata": {
  "kernelspec": {
   "display_name": "Python 3",
   "language": "python",
   "name": "python3"
  },
  "language_info": {
   "codemirror_mode": {
    "name": "ipython",
    "version": 3
   },
   "file_extension": ".py",
   "mimetype": "text/x-python",
   "name": "python",
   "nbconvert_exporter": "python",
   "pygments_lexer": "ipython3",
   "version": "3.6.1"
  }
 },
 "nbformat": 4,
 "nbformat_minor": 2
}
