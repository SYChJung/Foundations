{
 "cells": [
  {
   "cell_type": "markdown",
   "metadata": {},
   "source": [
    "# Mine Safety\n",
    "\n",
    "We're interested in [US mine safety](https://arlweb.msha.gov/drs/drshome.htm#MID), thank goodness we can search for these things."
   ]
  },
  {
   "cell_type": "markdown",
   "metadata": {},
   "source": [
    "## Preparation: Knowing your tags\n",
    "\n",
    "These questions are the same for every data set, and might not work exactly for yours.\n",
    "\n",
    "**Search for every operator with 'dirt' in their name, including abandoned mines.**"
   ]
  },
  {
   "cell_type": "code",
   "execution_count": 1,
   "metadata": {},
   "outputs": [],
   "source": [
    "import pandas as pd\n",
    "from bs4 import BeautifulSoup\n",
    "import requests as rq\n"
   ]
  },
  {
   "cell_type": "code",
   "execution_count": 2,
   "metadata": {
    "collapsed": true
   },
   "outputs": [],
   "source": [
    "data = {\n",
    "    \"OperSearch\":\"dirt\",\n",
    "    \"Abandoned\":\"No\",\n",
    "    \"MineName\":'',\n",
    "    'StateSearch':'None',\n",
    "    'CM':'All',\n",
    "    'x':'0',\n",
    "    'y':'0',\n",
    "    'MC':\"Opersearch\",\n",
    "}\n",
    "\n",
    "headers = {\n",
    "    \"Referer\": 'https://arlweb.msha.gov/drs/drshome.htm'\n",
    "}\n",
    "\n",
    "response = rq.post(\"https://arlweb.msha.gov/drs/ASP/OprNameStatesearch.asp\", data = data, headers = headers)\n"
   ]
  },
  {
   "cell_type": "code",
   "execution_count": 3,
   "metadata": {},
   "outputs": [
    {
     "data": {
      "text/plain": [
       "<Response [200]>"
      ]
     },
     "execution_count": 3,
     "metadata": {},
     "output_type": "execute_result"
    }
   ],
   "source": [
    "response\n"
   ]
  },
  {
   "cell_type": "code",
   "execution_count": 4,
   "metadata": {},
   "outputs": [
    {
     "data": {
      "text/plain": [
       "86"
      ]
     },
     "execution_count": 4,
     "metadata": {},
     "output_type": "execute_result"
    }
   ],
   "source": [
    "doc = BeautifulSoup(response.text, \"html.parser\")\n",
    "len(doc)\n"
   ]
  },
  {
   "cell_type": "markdown",
   "metadata": {},
   "source": [
    "### What is the tag and class name for every row of data?"
   ]
  },
  {
   "cell_type": "code",
   "execution_count": 7,
   "metadata": {
    "scrolled": true
   },
   "outputs": [
    {
     "name": "stdout",
     "output_type": "stream",
     "text": [
      "3503598\n",
      "\n",
      "OR \n",
      " Newberg Rock & Dirt  \n",
      "Newberg Rock & Dirt\n",
      "Surface             \n",
      "M \n",
      "Active  \n",
      "Crushed, Broken Stone NEC\n",
      "4801789\n",
      "\n",
      "ND \n",
      "AM Dirtworks & Aggregate Sales  \n",
      "AM Dirtworks & Aggregate Sales\n",
      "Surface             \n",
      "M \n",
      "Intermittent  \n",
      "Construction Sand and Gravel\n",
      "5001797\n",
      "\n",
      "AK \n",
      "Dirt Company  \n",
      "Bush Pilot\n",
      "Surface             \n",
      "M \n",
      "Intermittent  \n",
      "Construction Sand and Gravel\n",
      "4608254\n",
      "\n",
      "WV \n",
      "Dirt Con  \n",
      "Hog Lick Quarry\n",
      "Surface             \n",
      "M \n",
      "Temporarily Idled  \n",
      "Crushed, Broken Limestone NEC\n",
      "2103723\n",
      "\n",
      "MN \n",
      "Dirt Doctor Inc  \n",
      "Rock Lake Plant\n",
      "Surface             \n",
      "M \n",
      "Intermittent  \n",
      "Construction Sand and Gravel\n",
      "4104757\n",
      "\n",
      "TX \n",
      "Dirt Works  \n",
      "Portable #1\n",
      "Surface             \n",
      "M \n",
      "Intermittent  \n",
      "Construction Sand and Gravel\n",
      "0801306\n",
      "\n",
      "FL \n",
      "Holley Dirt Company, Inc  \n",
      "River Road Pit\n",
      "Surface             \n",
      "M \n",
      "Active  \n",
      "Sand, Common\n",
      "3901432\n",
      "\n",
      "SD \n",
      "Krueger Brothers Gravel & Dirt  \n",
      "PORTABLE SCREENER\n",
      "Surface             \n",
      "M \n",
      "Intermittent  \n",
      "Construction Sand and Gravel\n",
      "3609624\n",
      "\n",
      "PA \n",
      "M R Dirt  \n",
      "Forbes Pit\n",
      "Surface             \n",
      "M \n",
      "Intermittent  \n",
      "Construction Sand and Gravel\n",
      "3609931\n",
      "\n",
      "PA \n",
      "M.R. Dirt Inc.  \n",
      "Camptown Quarry\n",
      "Surface             \n",
      "M \n",
      "Intermittent  \n",
      "Dimension Stone NEC\n",
      "1519799\n",
      "\n",
      "KY \n",
      "P B Dirt Movers, Inc  \n",
      "Fedscreek Surface\n",
      "Surface             \n",
      "C \n",
      "Active  \n",
      "Coal (Bituminous)\n",
      "4407296\n",
      "\n",
      "VA \n",
      "PB Dirt Movers  \n",
      "Mine No. 6\n",
      "Underground         \n",
      "C \n",
      "Temporarily Idled  \n",
      "Coal (Bituminous)\n",
      "4407270\n",
      "\n",
      "VA \n",
      "PB Dirt Movers, Inc  \n",
      "Surface Mine No. 1\n",
      "Surface             \n",
      "C \n",
      "NonProducing  \n",
      "Coal (Bituminous)\n",
      "0203332\n",
      "\n",
      "AZ \n",
      "Prescott Dirt, LLC  \n",
      "Sandretto Drive\n",
      "Surface             \n",
      "M \n",
      "Intermittent  \n",
      "Construction Sand and Gravel\n",
      "2901986\n",
      "\n",
      "NM \n",
      "R D Blankenship Dirt Work LLC  \n",
      "R D BLANKENSHIP DIRT WORK\n",
      "Surface             \n",
      "M \n",
      "Active  \n",
      "Construction Sand and Gravel\n",
      "4300768\n",
      "\n",
      "VT \n",
      "SIMPSON DIRTWORX LLC  \n",
      "Pettibone Jaw Crusher\n",
      "Surface             \n",
      "M \n",
      "Intermittent  \n",
      "Construction Sand and Gravel\n",
      "4300776\n",
      "\n",
      "VT \n",
      "SIMPSON DIRTWORX LLC  \n",
      "Chieftan 1400\n",
      "Surface             \n",
      "M \n",
      "Intermittent  \n",
      "Construction Sand and Gravel\n",
      "2302283\n",
      "\n",
      "MO \n",
      "Spry's Dirt & Gravel, Inc.  \n",
      "Mike's Money Pit\n",
      "Surface             \n",
      "M \n",
      "Intermittent  \n",
      "Construction Sand and Gravel\n",
      "2103518\n",
      "\n",
      "MN \n",
      "Vogt Dirt Service  \n",
      "Crusher\n",
      "Surface             \n",
      "M \n",
      "Intermittent  \n",
      "Construction Sand and Gravel\n",
      "Total Number of Mines Found:  19\n"
     ]
    }
   ],
   "source": [
    "operator_tags = doc.find_all('tr')[7:]\n",
    "# operator_tags\n",
    "for tag in operator_tags :\n",
    "    print(tag.text.strip())\n"
   ]
  },
  {
   "cell_type": "markdown",
   "metadata": {},
   "source": [
    "### What is the tag and class name for every mine operator's name?"
   ]
  },
  {
   "cell_type": "code",
   "execution_count": 26,
   "metadata": {},
   "outputs": [
    {
     "name": "stdout",
     "output_type": "stream",
     "text": [
      " Newberg Rock & Dirt  \n",
      "AM Dirtworks & Aggregate Sales  \n",
      "Dirt Company  \n",
      "Dirt Con  \n",
      "Dirt Doctor Inc  \n",
      "Dirt Works  \n",
      "Holley Dirt Company, Inc  \n",
      "Krueger Brothers Gravel & Dirt  \n",
      "M R Dirt  \n",
      "M.R. Dirt Inc.  \n",
      "P B Dirt Movers, Inc  \n",
      "PB Dirt Movers  \n",
      "PB Dirt Movers, Inc  \n",
      "Prescott Dirt, LLC  \n",
      "R D Blankenship Dirt Work LLC  \n",
      "SIMPSON DIRTWORX LLC  \n",
      "SIMPSON DIRTWORX LLC  \n",
      "Spry's Dirt & Gravel, Inc.  \n",
      "Vogt Dirt Service  \n"
     ]
    }
   ],
   "source": [
    "operator_tags = doc.find_all('tr')[7:]\n",
    "for operator in operator_tags :\n",
    "    td_list = operator.find_all('td')\n",
    "    if len(td_list) >= 3 :\n",
    "        print(td_list[2].text)\n",
    "        "
   ]
  },
  {
   "cell_type": "markdown",
   "metadata": {},
   "source": [
    "### What is the tag and class name for every mine's name?"
   ]
  },
  {
   "cell_type": "code",
   "execution_count": 29,
   "metadata": {},
   "outputs": [
    {
     "name": "stdout",
     "output_type": "stream",
     "text": [
      "Newberg Rock & Dirt\n",
      "AM Dirtworks & Aggregate Sales\n",
      "Bush Pilot\n",
      "Hog Lick Quarry\n",
      "Rock Lake Plant\n",
      "Portable #1\n",
      "River Road Pit\n",
      "PORTABLE SCREENER\n",
      "Forbes Pit\n",
      "Camptown Quarry\n",
      "Fedscreek Surface\n",
      "Mine No. 6\n",
      "Surface Mine No. 1\n",
      "Sandretto Drive\n",
      "R D BLANKENSHIP DIRT WORK\n",
      "Pettibone Jaw Crusher\n",
      "Chieftan 1400\n",
      "Mike's Money Pit\n",
      "Crusher\n"
     ]
    }
   ],
   "source": [
    "operator_tags = doc.find_all('tr')[7:]\n",
    "for mine_name in operator_tags :\n",
    "    if len(mine_name.find_all('td')) >= 4 :\n",
    "        print(mine_name.find_all('td')[3].text)\n"
   ]
  },
  {
   "cell_type": "markdown",
   "metadata": {},
   "source": [
    "## Being lazy\n",
    "\n",
    "If you only needed these results, what would you do instead of scraping them?"
   ]
  },
  {
   "cell_type": "code",
   "execution_count": null,
   "metadata": {
    "collapsed": true
   },
   "outputs": [],
   "source": [
    "# Just copy and paste in a excel file\n"
   ]
  },
  {
   "cell_type": "markdown",
   "metadata": {},
   "source": [
    "## Setup: Import what you'll need to scrape the page\n",
    "\n",
    "Use `requests`, not `urllib`."
   ]
  },
  {
   "cell_type": "code",
   "execution_count": null,
   "metadata": {
    "collapsed": true
   },
   "outputs": [],
   "source": [
    "# import pandas as pd\n",
    "# from bs4 import BeautifulSoup\n",
    "# import requests as rq\n"
   ]
  },
  {
   "cell_type": "markdown",
   "metadata": {},
   "source": [
    "## Try to scrape the page\n",
    "\n",
    "To test if you requested the page correctly, save the BeautifulSoup document as `doc` and run the code `doc.find_all('tr')[-1].text` to get the text of the last `<tr>` element.\n",
    "\n",
    "- If the result starts with **Total Number of Mines Found**, you were successful."
   ]
  },
  {
   "cell_type": "code",
   "execution_count": 11,
   "metadata": {},
   "outputs": [
    {
     "name": "stdout",
     "output_type": "stream",
     "text": [
      "Total Number of Mines Found:  19\n"
     ]
    }
   ],
   "source": [
    "doc_mine = BeautifulSoup(response.text, \"html.parser\")\n",
    "print(doc_mine.find_all('tr')[-1].text.strip()  )\n"
   ]
  },
  {
   "cell_type": "markdown",
   "metadata": {},
   "source": [
    "## Actually scraping"
   ]
  },
  {
   "cell_type": "markdown",
   "metadata": {},
   "source": [
    "### Hopefully you know that each `tr` is supposed to be your data. What is the index of the first row element that is actually a result?\n",
    "\n",
    "`.text` will help you here."
   ]
  },
  {
   "cell_type": "code",
   "execution_count": 12,
   "metadata": {},
   "outputs": [
    {
     "name": "stdout",
     "output_type": "stream",
     "text": [
      "ID\n",
      "State\n",
      "Operator\n",
      "Mine Name\n",
      "Type\n",
      "CM*\n",
      "Status\n",
      "Commodity\n",
      "More Info\n"
     ]
    }
   ],
   "source": [
    "operator_tags = doc.find_all('tr')[6]\n",
    "print(operator_tags.text.strip()  )\n"
   ]
  },
  {
   "cell_type": "markdown",
   "metadata": {},
   "source": [
    "### Loop through each operator result, printing its name\n",
    "\n",
    "Use LIST SLICING to skip the non-data row(s)."
   ]
  },
  {
   "cell_type": "code",
   "execution_count": null,
   "metadata": {
    "collapsed": true
   },
   "outputs": [],
   "source": [
    "# operator_tags = doc.find_all('tr')[7:]\n",
    "# for operator in operator_tags :\n",
    "#     if len(operator.find_all('td')) >= 3 :\n",
    "#         print(operator.find_all('td')[2].text)\n"
   ]
  },
  {
   "cell_type": "markdown",
   "metadata": {},
   "source": [
    "### Loop through each operator result, printing its ID\n",
    "\n",
    "There should be ONE code per row, and NO empty rows between them."
   ]
  },
  {
   "cell_type": "code",
   "execution_count": 21,
   "metadata": {
    "scrolled": true
   },
   "outputs": [
    {
     "name": "stdout",
     "output_type": "stream",
     "text": [
      "\n",
      "\n",
      "3503598\n",
      "\n",
      "\n",
      "\n",
      "4801789\n",
      "\n",
      "\n",
      "\n",
      "5001797\n",
      "\n",
      "\n",
      "\n",
      "4608254\n",
      "\n",
      "\n",
      "\n",
      "2103723\n",
      "\n",
      "\n",
      "\n",
      "4104757\n",
      "\n",
      "\n",
      "\n",
      "0801306\n",
      "\n",
      "\n",
      "\n",
      "3901432\n",
      "\n",
      "\n",
      "\n",
      "3609624\n",
      "\n",
      "\n",
      "\n",
      "3609931\n",
      "\n",
      "\n",
      "\n",
      "1519799\n",
      "\n",
      "\n",
      "\n",
      "4407296\n",
      "\n",
      "\n",
      "\n",
      "4407270\n",
      "\n",
      "\n",
      "\n",
      "0203332\n",
      "\n",
      "\n",
      "\n",
      "2901986\n",
      "\n",
      "\n",
      "\n",
      "4300768\n",
      "\n",
      "\n",
      "\n",
      "4300776\n",
      "\n",
      "\n",
      "\n",
      "2302283\n",
      "\n",
      "\n",
      "\n",
      "2103518\n",
      "\n",
      "Total Number of Mines Found:  19\n"
     ]
    }
   ],
   "source": [
    "operator_tags = doc.find_all('tr')[7:]\n",
    "for operator in operator_tags :\n",
    "        print(operator.find_all('td')[0].text)\n",
    "\n"
   ]
  },
  {
   "cell_type": "markdown",
   "metadata": {},
   "source": [
    "## Saving the results\n",
    "\n",
    "### Loop through each `tr` to create a list of dictionaries\n",
    "\n",
    "Each dictionary must contain\n",
    "\n",
    "- Operator ID\n",
    "- Operator name\n",
    "- Mine name\n",
    "- State\n",
    "- Mine type\n",
    "- Coal or metal\n",
    "- Status\n",
    "- Commodity\n",
    "\n",
    "Create a new dictionary for each row."
   ]
  },
  {
   "cell_type": "code",
   "execution_count": 31,
   "metadata": {
    "scrolled": true
   },
   "outputs": [
    {
     "data": {
      "text/plain": [
       "[{'Coal_or_metal': 'M',\n",
       "  'Commodity': 'Crushed, Broken Stone NEC',\n",
       "  'Mine_name': 'Newberg Rock & Dirt',\n",
       "  'Mine_type': 'Surface',\n",
       "  'Operator_ID': '3503598',\n",
       "  'Operator_name': 'Newberg Rock & Dirt',\n",
       "  'State': 'OR',\n",
       "  'Status': 'Active'},\n",
       " {'Coal_or_metal': 'M',\n",
       "  'Commodity': 'Construction Sand and Gravel',\n",
       "  'Mine_name': 'AM Dirtworks & Aggregate Sales',\n",
       "  'Mine_type': 'Surface',\n",
       "  'Operator_ID': '4801789',\n",
       "  'Operator_name': 'AM Dirtworks & Aggregate Sales',\n",
       "  'State': 'ND',\n",
       "  'Status': 'Intermittent'},\n",
       " {'Coal_or_metal': 'M',\n",
       "  'Commodity': 'Construction Sand and Gravel',\n",
       "  'Mine_name': 'Bush Pilot',\n",
       "  'Mine_type': 'Surface',\n",
       "  'Operator_ID': '5001797',\n",
       "  'Operator_name': 'Dirt Company',\n",
       "  'State': 'AK',\n",
       "  'Status': 'Intermittent'},\n",
       " {'Coal_or_metal': 'M',\n",
       "  'Commodity': 'Crushed, Broken Limestone NEC',\n",
       "  'Mine_name': 'Hog Lick Quarry',\n",
       "  'Mine_type': 'Surface',\n",
       "  'Operator_ID': '4608254',\n",
       "  'Operator_name': 'Dirt Con',\n",
       "  'State': 'WV',\n",
       "  'Status': 'Temporarily Idled'},\n",
       " {'Coal_or_metal': 'M',\n",
       "  'Commodity': 'Construction Sand and Gravel',\n",
       "  'Mine_name': 'Rock Lake Plant',\n",
       "  'Mine_type': 'Surface',\n",
       "  'Operator_ID': '2103723',\n",
       "  'Operator_name': 'Dirt Doctor Inc',\n",
       "  'State': 'MN',\n",
       "  'Status': 'Intermittent'},\n",
       " {'Coal_or_metal': 'M',\n",
       "  'Commodity': 'Construction Sand and Gravel',\n",
       "  'Mine_name': 'Portable #1',\n",
       "  'Mine_type': 'Surface',\n",
       "  'Operator_ID': '4104757',\n",
       "  'Operator_name': 'Dirt Works',\n",
       "  'State': 'TX',\n",
       "  'Status': 'Intermittent'},\n",
       " {'Coal_or_metal': 'M',\n",
       "  'Commodity': 'Sand, Common',\n",
       "  'Mine_name': 'River Road Pit',\n",
       "  'Mine_type': 'Surface',\n",
       "  'Operator_ID': '0801306',\n",
       "  'Operator_name': 'Holley Dirt Company, Inc',\n",
       "  'State': 'FL',\n",
       "  'Status': 'Active'},\n",
       " {'Coal_or_metal': 'M',\n",
       "  'Commodity': 'Construction Sand and Gravel',\n",
       "  'Mine_name': 'PORTABLE SCREENER',\n",
       "  'Mine_type': 'Surface',\n",
       "  'Operator_ID': '3901432',\n",
       "  'Operator_name': 'Krueger Brothers Gravel & Dirt',\n",
       "  'State': 'SD',\n",
       "  'Status': 'Intermittent'},\n",
       " {'Coal_or_metal': 'M',\n",
       "  'Commodity': 'Construction Sand and Gravel',\n",
       "  'Mine_name': 'Forbes Pit',\n",
       "  'Mine_type': 'Surface',\n",
       "  'Operator_ID': '3609624',\n",
       "  'Operator_name': 'M R Dirt',\n",
       "  'State': 'PA',\n",
       "  'Status': 'Intermittent'},\n",
       " {'Coal_or_metal': 'M',\n",
       "  'Commodity': 'Dimension Stone NEC',\n",
       "  'Mine_name': 'Camptown Quarry',\n",
       "  'Mine_type': 'Surface',\n",
       "  'Operator_ID': '3609931',\n",
       "  'Operator_name': 'M.R. Dirt Inc.',\n",
       "  'State': 'PA',\n",
       "  'Status': 'Intermittent'},\n",
       " {'Coal_or_metal': 'C',\n",
       "  'Commodity': 'Coal (Bituminous)',\n",
       "  'Mine_name': 'Fedscreek Surface',\n",
       "  'Mine_type': 'Surface',\n",
       "  'Operator_ID': '1519799',\n",
       "  'Operator_name': 'P B Dirt Movers, Inc',\n",
       "  'State': 'KY',\n",
       "  'Status': 'Active'},\n",
       " {'Coal_or_metal': 'C',\n",
       "  'Commodity': 'Coal (Bituminous)',\n",
       "  'Mine_name': 'Mine No. 6',\n",
       "  'Mine_type': 'Underground',\n",
       "  'Operator_ID': '4407296',\n",
       "  'Operator_name': 'PB Dirt Movers',\n",
       "  'State': 'VA',\n",
       "  'Status': 'Temporarily Idled'},\n",
       " {'Coal_or_metal': 'C',\n",
       "  'Commodity': 'Coal (Bituminous)',\n",
       "  'Mine_name': 'Surface Mine No. 1',\n",
       "  'Mine_type': 'Surface',\n",
       "  'Operator_ID': '4407270',\n",
       "  'Operator_name': 'PB Dirt Movers, Inc',\n",
       "  'State': 'VA',\n",
       "  'Status': 'NonProducing'},\n",
       " {'Coal_or_metal': 'M',\n",
       "  'Commodity': 'Construction Sand and Gravel',\n",
       "  'Mine_name': 'Sandretto Drive',\n",
       "  'Mine_type': 'Surface',\n",
       "  'Operator_ID': '0203332',\n",
       "  'Operator_name': 'Prescott Dirt, LLC',\n",
       "  'State': 'AZ',\n",
       "  'Status': 'Intermittent'},\n",
       " {'Coal_or_metal': 'M',\n",
       "  'Commodity': 'Construction Sand and Gravel',\n",
       "  'Mine_name': 'R D BLANKENSHIP DIRT WORK',\n",
       "  'Mine_type': 'Surface',\n",
       "  'Operator_ID': '2901986',\n",
       "  'Operator_name': 'R D Blankenship Dirt Work LLC',\n",
       "  'State': 'NM',\n",
       "  'Status': 'Active'},\n",
       " {'Coal_or_metal': 'M',\n",
       "  'Commodity': 'Construction Sand and Gravel',\n",
       "  'Mine_name': 'Pettibone Jaw Crusher',\n",
       "  'Mine_type': 'Surface',\n",
       "  'Operator_ID': '4300768',\n",
       "  'Operator_name': 'SIMPSON DIRTWORX LLC',\n",
       "  'State': 'VT',\n",
       "  'Status': 'Intermittent'},\n",
       " {'Coal_or_metal': 'M',\n",
       "  'Commodity': 'Construction Sand and Gravel',\n",
       "  'Mine_name': 'Chieftan 1400',\n",
       "  'Mine_type': 'Surface',\n",
       "  'Operator_ID': '4300776',\n",
       "  'Operator_name': 'SIMPSON DIRTWORX LLC',\n",
       "  'State': 'VT',\n",
       "  'Status': 'Intermittent'},\n",
       " {'Coal_or_metal': 'M',\n",
       "  'Commodity': 'Construction Sand and Gravel',\n",
       "  'Mine_name': \"Mike's Money Pit\",\n",
       "  'Mine_type': 'Surface',\n",
       "  'Operator_ID': '2302283',\n",
       "  'Operator_name': \"Spry's Dirt & Gravel, Inc.\",\n",
       "  'State': 'MO',\n",
       "  'Status': 'Intermittent'},\n",
       " {'Coal_or_metal': 'M',\n",
       "  'Commodity': 'Construction Sand and Gravel',\n",
       "  'Mine_name': 'Crusher',\n",
       "  'Mine_type': 'Surface',\n",
       "  'Operator_ID': '2103518',\n",
       "  'Operator_name': 'Vogt Dirt Service',\n",
       "  'State': 'MN',\n",
       "  'Status': 'Intermittent'}]"
      ]
     },
     "execution_count": 31,
     "metadata": {},
     "output_type": "execute_result"
    }
   ],
   "source": [
    "operator_dictionary = []\n",
    "\n",
    "for element in operator_tags[:-1]:\n",
    "    operator_row = {}\n",
    "    td_list = element.find_all('td')\n",
    "    Operator_ID = td_list[0].text.strip()\n",
    "    if Operator_ID :\n",
    "#         print(Operator_ID)\n",
    "        operator_row['Operator_ID'] = Operator_ID\n",
    "    Operator_name = td_list[2].text.strip()\n",
    "    if Operator_name :\n",
    "#         print(Operator_name)\n",
    "        operator_row['Operator_name'] = Operator_name\n",
    "    Mine_name = td_list[3].text.strip()\n",
    "    if Mine_name :\n",
    "#         print(Mine_name)\n",
    "        operator_row['Mine_name'] = Mine_name\n",
    "    State = td_list[1].text.strip()\n",
    "    if State :\n",
    "#         print(State)\n",
    "        operator_row['State'] = State\n",
    "    Mine_type = td_list[4].text.strip()\n",
    "    if Mine_type :\n",
    "#         print(Mine_type)\n",
    "        operator_row['Mine_type'] = Mine_type\n",
    "    Coal_or_metal = td_list[5].text.strip()\n",
    "    if Coal_or_metal :\n",
    "#         print(Coal_or_metal)\n",
    "        operator_row['Coal_or_metal'] = Coal_or_metal\n",
    "    Status = td_list[6].text.strip()\n",
    "    if Status :\n",
    "#         print(Status)\n",
    "        operator_row['Status'] = Status\n",
    "    Commodity = td_list[7].text.strip()\n",
    "    if Commodity :\n",
    "#         print(Commodity)\n",
    "        operator_row['Commodity'] = Commodity\n",
    "    operator_dictionary.append(operator_row)\n",
    "#     print(operator_row)\n",
    "#     print(\"-----\")\n",
    "operator_dictionary\n",
    "\n"
   ]
  },
  {
   "cell_type": "markdown",
   "metadata": {},
   "source": [
    "### Save that to a CSV"
   ]
  },
  {
   "cell_type": "code",
   "execution_count": 32,
   "metadata": {},
   "outputs": [],
   "source": [
    "import pandas as pd\n",
    "df = pd.DataFrame(operator_dictionary)\n",
    "df.head()\n",
    "df.to_csv(\"operator_dictionary.csv\", index=False)\n",
    "\n"
   ]
  },
  {
   "cell_type": "markdown",
   "metadata": {},
   "source": [
    "### Open the CSV file and examine the first few. Make sure you didn't save an extra weird unnamed column."
   ]
  },
  {
   "cell_type": "code",
   "execution_count": 33,
   "metadata": {},
   "outputs": [
    {
     "data": {
      "text/html": [
       "<div>\n",
       "<style>\n",
       "    .dataframe thead tr:only-child th {\n",
       "        text-align: right;\n",
       "    }\n",
       "\n",
       "    .dataframe thead th {\n",
       "        text-align: left;\n",
       "    }\n",
       "\n",
       "    .dataframe tbody tr th {\n",
       "        vertical-align: top;\n",
       "    }\n",
       "</style>\n",
       "<table border=\"1\" class=\"dataframe\">\n",
       "  <thead>\n",
       "    <tr style=\"text-align: right;\">\n",
       "      <th></th>\n",
       "      <th>Coal_or_metal</th>\n",
       "      <th>Commodity</th>\n",
       "      <th>Mine_name</th>\n",
       "      <th>Mine_type</th>\n",
       "      <th>Operator_ID</th>\n",
       "      <th>Operator_name</th>\n",
       "      <th>State</th>\n",
       "      <th>Status</th>\n",
       "    </tr>\n",
       "  </thead>\n",
       "  <tbody>\n",
       "    <tr>\n",
       "      <th>0</th>\n",
       "      <td>M</td>\n",
       "      <td>Crushed, Broken Stone NEC</td>\n",
       "      <td>Newberg Rock &amp; Dirt</td>\n",
       "      <td>Surface</td>\n",
       "      <td>3503598</td>\n",
       "      <td>Newberg Rock &amp; Dirt</td>\n",
       "      <td>OR</td>\n",
       "      <td>Active</td>\n",
       "    </tr>\n",
       "    <tr>\n",
       "      <th>1</th>\n",
       "      <td>M</td>\n",
       "      <td>Construction Sand and Gravel</td>\n",
       "      <td>AM Dirtworks &amp; Aggregate Sales</td>\n",
       "      <td>Surface</td>\n",
       "      <td>4801789</td>\n",
       "      <td>AM Dirtworks &amp; Aggregate Sales</td>\n",
       "      <td>ND</td>\n",
       "      <td>Intermittent</td>\n",
       "    </tr>\n",
       "    <tr>\n",
       "      <th>2</th>\n",
       "      <td>M</td>\n",
       "      <td>Construction Sand and Gravel</td>\n",
       "      <td>Bush Pilot</td>\n",
       "      <td>Surface</td>\n",
       "      <td>5001797</td>\n",
       "      <td>Dirt Company</td>\n",
       "      <td>AK</td>\n",
       "      <td>Intermittent</td>\n",
       "    </tr>\n",
       "    <tr>\n",
       "      <th>3</th>\n",
       "      <td>M</td>\n",
       "      <td>Crushed, Broken Limestone NEC</td>\n",
       "      <td>Hog Lick Quarry</td>\n",
       "      <td>Surface</td>\n",
       "      <td>4608254</td>\n",
       "      <td>Dirt Con</td>\n",
       "      <td>WV</td>\n",
       "      <td>Temporarily Idled</td>\n",
       "    </tr>\n",
       "    <tr>\n",
       "      <th>4</th>\n",
       "      <td>M</td>\n",
       "      <td>Construction Sand and Gravel</td>\n",
       "      <td>Rock Lake Plant</td>\n",
       "      <td>Surface</td>\n",
       "      <td>2103723</td>\n",
       "      <td>Dirt Doctor Inc</td>\n",
       "      <td>MN</td>\n",
       "      <td>Intermittent</td>\n",
       "    </tr>\n",
       "  </tbody>\n",
       "</table>\n",
       "</div>"
      ],
      "text/plain": [
       "  Coal_or_metal                      Commodity  \\\n",
       "0             M      Crushed, Broken Stone NEC   \n",
       "1             M   Construction Sand and Gravel   \n",
       "2             M   Construction Sand and Gravel   \n",
       "3             M  Crushed, Broken Limestone NEC   \n",
       "4             M   Construction Sand and Gravel   \n",
       "\n",
       "                        Mine_name Mine_type  Operator_ID  \\\n",
       "0             Newberg Rock & Dirt   Surface      3503598   \n",
       "1  AM Dirtworks & Aggregate Sales   Surface      4801789   \n",
       "2                      Bush Pilot   Surface      5001797   \n",
       "3                 Hog Lick Quarry   Surface      4608254   \n",
       "4                 Rock Lake Plant   Surface      2103723   \n",
       "\n",
       "                    Operator_name State             Status  \n",
       "0             Newberg Rock & Dirt    OR             Active  \n",
       "1  AM Dirtworks & Aggregate Sales    ND       Intermittent  \n",
       "2                    Dirt Company    AK       Intermittent  \n",
       "3                        Dirt Con    WV  Temporarily Idled  \n",
       "4                 Dirt Doctor Inc    MN       Intermittent  "
      ]
     },
     "execution_count": 33,
     "metadata": {},
     "output_type": "execute_result"
    }
   ],
   "source": [
    "operator_dictionary_df = pd.read_csv(\"operator_dictionary.csv\")\n",
    "operator_dictionary_df.head()\n"
   ]
  },
  {
   "cell_type": "code",
   "execution_count": null,
   "metadata": {
    "collapsed": true
   },
   "outputs": [],
   "source": []
  }
 ],
 "metadata": {
  "kernelspec": {
   "display_name": "Python 3",
   "language": "python",
   "name": "python3"
  },
  "language_info": {
   "codemirror_mode": {
    "name": "ipython",
    "version": 3
   },
   "file_extension": ".py",
   "mimetype": "text/x-python",
   "name": "python",
   "nbconvert_exporter": "python",
   "pygments_lexer": "ipython3",
   "version": "3.6.1"
  }
 },
 "nbformat": 4,
 "nbformat_minor": 2
}
