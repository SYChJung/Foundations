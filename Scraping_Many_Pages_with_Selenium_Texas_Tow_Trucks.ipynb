{
 "cells": [
  {
   "cell_type": "markdown",
   "metadata": {},
   "source": [
    "# Texas Tow Trucks (`.apply` and Selenium)\n",
    "\n",
    "We're going to scrape some [tow trucks in Texas](https://www.tdlr.texas.gov/tools_search/).\n",
    "\n",
    "Try searching for the TLDR Number `006179570C`."
   ]
  },
  {
   "cell_type": "markdown",
   "metadata": {},
   "source": [
    "## Preparation"
   ]
  },
  {
   "cell_type": "markdown",
   "metadata": {},
   "source": [
    "### What URL will Selenium be starting on?\n",
    "\n",
    "- Tip: The answer is *not* `https://www.tdlr.texas.gov/tools_search/`"
   ]
  },
  {
   "cell_type": "code",
   "execution_count": 1,
   "metadata": {
    "collapsed": true
   },
   "outputs": [],
   "source": [
    "### https://www.tdlr.texas.gov/tools_search/mccs_display.asp?mcrnumber=\n"
   ]
  },
  {
   "cell_type": "markdown",
   "metadata": {},
   "source": [
    "### Why are you using Selenium for this?"
   ]
  },
  {
   "cell_type": "code",
   "execution_count": 2,
   "metadata": {
    "collapsed": true
   },
   "outputs": [],
   "source": [
    "###"
   ]
  },
  {
   "cell_type": "markdown",
   "metadata": {},
   "source": [
    "## Scrape this page\n",
    "\n",
    "Scrape this page, displaying the\n",
    "\n",
    "- The business name\n",
    "- Phone number\n",
    "- License status\n",
    "- Physical address\n",
    "\n",
    "**You should know how to do `.post` requests by now.**\n",
    "\n",
    "- *TIP: For physical address, **ask me on the board** and I'll give you a secret trick about situations like this.*"
   ]
  },
  {
   "cell_type": "code",
   "execution_count": 3,
   "metadata": {
    "collapsed": true
   },
   "outputs": [],
   "source": [
    "###\n"
   ]
  },
  {
   "cell_type": "markdown",
   "metadata": {},
   "source": [
    "# Using .apply to find data about SEVERAL tow truck companies\n",
    "\n",
    "The file `trucks-subset.csv` has information about the trucks, we'll use it to find the pages to scrape.\n",
    "\n",
    "### Open up `trucks-subset.csv` and save it into a dataframe"
   ]
  },
  {
   "cell_type": "code",
   "execution_count": 4,
   "metadata": {},
   "outputs": [
    {
     "data": {
      "text/html": [
       "<div>\n",
       "<style>\n",
       "    .dataframe thead tr:only-child th {\n",
       "        text-align: right;\n",
       "    }\n",
       "\n",
       "    .dataframe thead th {\n",
       "        text-align: left;\n",
       "    }\n",
       "\n",
       "    .dataframe tbody tr th {\n",
       "        vertical-align: top;\n",
       "    }\n",
       "</style>\n",
       "<table border=\"1\" class=\"dataframe\">\n",
       "  <thead>\n",
       "    <tr style=\"text-align: right;\">\n",
       "      <th></th>\n",
       "      <th>TDLR Number</th>\n",
       "    </tr>\n",
       "  </thead>\n",
       "  <tbody>\n",
       "    <tr>\n",
       "      <th>0</th>\n",
       "      <td>006507931C</td>\n",
       "    </tr>\n",
       "    <tr>\n",
       "      <th>1</th>\n",
       "      <td>006179570C</td>\n",
       "    </tr>\n",
       "    <tr>\n",
       "      <th>2</th>\n",
       "      <td>006502097C</td>\n",
       "    </tr>\n",
       "  </tbody>\n",
       "</table>\n",
       "</div>"
      ],
      "text/plain": [
       "  TDLR Number\n",
       "0  006507931C\n",
       "1  006179570C\n",
       "2  006502097C"
      ]
     },
     "execution_count": 4,
     "metadata": {},
     "output_type": "execute_result"
    }
   ],
   "source": [
    "import pandas as pd\n",
    "df = pd.read_csv(\"trucks-subset.csv\")\n",
    "df\n"
   ]
  },
  {
   "cell_type": "markdown",
   "metadata": {},
   "source": [
    "### Open up `trucks-subset.csv` in a text editor, then look at your dataframe. Is something different about them? If so, make them match.\n",
    "\n",
    "- *TIP: I can help with this.*"
   ]
  },
  {
   "cell_type": "code",
   "execution_count": 5,
   "metadata": {},
   "outputs": [],
   "source": [
    "# Nothing is different\n"
   ]
  },
  {
   "cell_type": "markdown",
   "metadata": {},
   "source": [
    "## Use `.apply` to go through each row of the dataset, printing out information about each tow truck company.\n",
    "\n",
    "- The business name\n",
    "- Phone number\n",
    "- License status\n",
    "- Physical address\n",
    "\n",
    "Just print it out for now.\n",
    "\n",
    "- *TIP: use .apply and a function*\n",
    "- *TIP: If you need help with .apply, look at the \"Using apply in pandas\" notebook *"
   ]
  },
  {
   "cell_type": "code",
   "execution_count": 6,
   "metadata": {
    "collapsed": true
   },
   "outputs": [],
   "source": [
    "# def display_info(value):\n",
    "#     url = \"https://www.tdlr.texas.gov/tools_search/mccs_display.asp?mcrnumber=\"+value\n",
    "# #     print(url)\n",
    "#     return url\n",
    "# # df[\"TDLR Number\"].apply(display_info)"
   ]
  },
  {
   "cell_type": "markdown",
   "metadata": {},
   "source": [
    "## Scrape the following information for each row of the dataset, and save it into new columns in your dataframe.\n",
    "\n",
    "- The business name\n",
    "- Phone number\n",
    "- License status\n",
    "- Physical address\n",
    "\n",
    "It's basically what we did before, but using the function a little differently.\n",
    "\n",
    "- *TIP: Use .apply and a function*\n",
    "- *TIP: Remember to use `return`*"
   ]
  },
  {
   "cell_type": "code",
   "execution_count": 7,
   "metadata": {
    "collapsed": true
   },
   "outputs": [],
   "source": [
    "from selenium import webdriver\n",
    "\n",
    "chrome_options = webdriver.ChromeOptions()\n",
    "chrome_options.add_argument(\"- - icognito\")\n",
    "\n",
    "driver = webdriver.Chrome(chrome_options = chrome_options)\n",
    "driver.get(\"https://www.tdlr.texas.gov/tools_search/\")\n",
    "\n"
   ]
  },
  {
   "cell_type": "code",
   "execution_count": 8,
   "metadata": {},
   "outputs": [],
   "source": [
    "check_box = driver.find_element_by_xpath('//*[@id=\"mcrbutton\"]')\n",
    "check_box.click()\n"
   ]
  },
  {
   "cell_type": "code",
   "execution_count": 9,
   "metadata": {},
   "outputs": [],
   "source": [
    "search_input_dd = driver.find_element_by_xpath('//*[@id=\"mcrdata\"]')\n",
    "search_input_dd.send_keys(\"006179570C.\")\n"
   ]
  },
  {
   "cell_type": "code",
   "execution_count": 10,
   "metadata": {
    "collapsed": true
   },
   "outputs": [],
   "source": [
    "search_button = driver.find_element_by_xpath('//*[@id=\"submit3\"]')\n",
    "search_button.click()\n"
   ]
  },
  {
   "cell_type": "code",
   "execution_count": 11,
   "metadata": {},
   "outputs": [
    {
     "name": "stdout",
     "output_type": "stream",
     "text": [
      "12\n",
      "<class 'bs4.element.ResultSet'>\n"
     ]
    }
   ],
   "source": [
    "from bs4 import BeautifulSoup\n",
    "doc = BeautifulSoup(driver.page_source, 'html.parser')\n",
    "mine_info = doc.find_all('tr') \n",
    "print(len(mine_info)  )\n",
    "print(type(mine_info)  )\n"
   ]
  },
  {
   "cell_type": "code",
   "execution_count": 12,
   "metadata": {},
   "outputs": [
    {
     "data": {
      "text/plain": [
       "'B.D. SMITH TOWING'"
      ]
     },
     "execution_count": 12,
     "metadata": {},
     "output_type": "execute_result"
    }
   ],
   "source": [
    "name_string = doc.find_all('tr')[4].find_all('td')[0].text\n",
    "\" \".join( name_string.split()[1:]  )"
   ]
  },
  {
   "cell_type": "code",
   "execution_count": 13,
   "metadata": {},
   "outputs": [
    {
     "data": {
      "text/plain": [
       "'8173330706'"
      ]
     },
     "execution_count": 13,
     "metadata": {},
     "output_type": "execute_result"
    }
   ],
   "source": [
    "phone_number = doc.find_all('tr')[6].find_all('td')[0].text\n",
    "\" \".join( phone_number.split()[1:]  )\n"
   ]
  },
  {
   "cell_type": "code",
   "execution_count": 14,
   "metadata": {},
   "outputs": [
    {
     "data": {
      "text/plain": [
       "'Active'"
      ]
     },
     "execution_count": 14,
     "metadata": {},
     "output_type": "execute_result"
    }
   ],
   "source": [
    "license_status = doc.find_all('tr')[7].find_all('td')[1].text\n",
    "\" \".join( license_status.split()[1:]  )"
   ]
  },
  {
   "cell_type": "code",
   "execution_count": 15,
   "metadata": {},
   "outputs": [
    {
     "data": {
      "text/plain": [
       "'13619 BRETT JACKSON RD. FORT WORTH, TX. 76179'"
      ]
     },
     "execution_count": 15,
     "metadata": {},
     "output_type": "execute_result"
    }
   ],
   "source": [
    "physical_address = doc.find_all('tr')[8].find_all('td')[1].text\n",
    "\" \".join( physical_address.split()[23:] )\n"
   ]
  },
  {
   "cell_type": "markdown",
   "metadata": {},
   "source": [
    "### Save your dataframe as a CSV"
   ]
  },
  {
   "cell_type": "code",
   "execution_count": null,
   "metadata": {
    "collapsed": true
   },
   "outputs": [],
   "source": []
  },
  {
   "cell_type": "markdown",
   "metadata": {},
   "source": [
    "### Re-open your dataframe to confirm you didn't save any extra weird columns"
   ]
  },
  {
   "cell_type": "code",
   "execution_count": null,
   "metadata": {
    "collapsed": true
   },
   "outputs": [],
   "source": []
  },
  {
   "cell_type": "markdown",
   "metadata": {},
   "source": [
    "## Repeat this process for the entire `tow-trucks.csv` file"
   ]
  },
  {
   "cell_type": "code",
   "execution_count": 17,
   "metadata": {
    "scrolled": false
   },
   "outputs": [
    {
     "data": {
      "text/html": [
       "<div>\n",
       "<style>\n",
       "    .dataframe thead tr:only-child th {\n",
       "        text-align: right;\n",
       "    }\n",
       "\n",
       "    .dataframe thead th {\n",
       "        text-align: left;\n",
       "    }\n",
       "\n",
       "    .dataframe tbody tr th {\n",
       "        vertical-align: top;\n",
       "    }\n",
       "</style>\n",
       "<table border=\"1\" class=\"dataframe\">\n",
       "  <thead>\n",
       "    <tr style=\"text-align: right;\">\n",
       "      <th></th>\n",
       "      <th>TDLR Number</th>\n",
       "    </tr>\n",
       "  </thead>\n",
       "  <tbody>\n",
       "    <tr>\n",
       "      <th>0</th>\n",
       "      <td>006507931C</td>\n",
       "    </tr>\n",
       "    <tr>\n",
       "      <th>1</th>\n",
       "      <td>006179570C</td>\n",
       "    </tr>\n",
       "    <tr>\n",
       "      <th>2</th>\n",
       "      <td>006502097C</td>\n",
       "    </tr>\n",
       "    <tr>\n",
       "      <th>3</th>\n",
       "      <td>006494912C</td>\n",
       "    </tr>\n",
       "    <tr>\n",
       "      <th>4</th>\n",
       "      <td>0649468VSF</td>\n",
       "    </tr>\n",
       "    <tr>\n",
       "      <th>5</th>\n",
       "      <td>006448786C</td>\n",
       "    </tr>\n",
       "    <tr>\n",
       "      <th>6</th>\n",
       "      <td>0648444VSF</td>\n",
       "    </tr>\n",
       "    <tr>\n",
       "      <th>7</th>\n",
       "      <td>0651667VSF</td>\n",
       "    </tr>\n",
       "    <tr>\n",
       "      <th>8</th>\n",
       "      <td>006017767C</td>\n",
       "    </tr>\n",
       "    <tr>\n",
       "      <th>9</th>\n",
       "      <td>006495492C</td>\n",
       "    </tr>\n",
       "    <tr>\n",
       "      <th>10</th>\n",
       "      <td>006518521C</td>\n",
       "    </tr>\n",
       "    <tr>\n",
       "      <th>11</th>\n",
       "      <td>006521662C</td>\n",
       "    </tr>\n",
       "    <tr>\n",
       "      <th>12</th>\n",
       "      <td>006482451C</td>\n",
       "    </tr>\n",
       "    <tr>\n",
       "      <th>13</th>\n",
       "      <td>0646264VSF</td>\n",
       "    </tr>\n",
       "    <tr>\n",
       "      <th>14</th>\n",
       "      <td>0650690VSF</td>\n",
       "    </tr>\n",
       "    <tr>\n",
       "      <th>15</th>\n",
       "      <td>006505010C</td>\n",
       "    </tr>\n",
       "    <tr>\n",
       "      <th>16</th>\n",
       "      <td>0000210VSF</td>\n",
       "    </tr>\n",
       "    <tr>\n",
       "      <th>17</th>\n",
       "      <td>005029369C</td>\n",
       "    </tr>\n",
       "    <tr>\n",
       "      <th>18</th>\n",
       "      <td>006410509C</td>\n",
       "    </tr>\n",
       "    <tr>\n",
       "      <th>19</th>\n",
       "      <td>0643482VSF</td>\n",
       "    </tr>\n",
       "  </tbody>\n",
       "</table>\n",
       "</div>"
      ],
      "text/plain": [
       "   TDLR Number\n",
       "0   006507931C\n",
       "1   006179570C\n",
       "2   006502097C\n",
       "3   006494912C\n",
       "4   0649468VSF\n",
       "5   006448786C\n",
       "6   0648444VSF\n",
       "7   0651667VSF\n",
       "8   006017767C\n",
       "9   006495492C\n",
       "10  006518521C\n",
       "11  006521662C\n",
       "12  006482451C\n",
       "13  0646264VSF\n",
       "14  0650690VSF\n",
       "15  006505010C\n",
       "16  0000210VSF\n",
       "17  005029369C\n",
       "18  006410509C\n",
       "19  0643482VSF"
      ]
     },
     "execution_count": 17,
     "metadata": {},
     "output_type": "execute_result"
    }
   ],
   "source": [
    "import pandas as pd\n",
    "df = pd.read_csv(\"tow-trucks.csv\")\n",
    "df"
   ]
  },
  {
   "cell_type": "code",
   "execution_count": 18,
   "metadata": {},
   "outputs": [],
   "source": [
    "def display_info(value):\n",
    "    url = \"https://www.tdlr.texas.gov/tools_search/mccs_display.asp?mcrnumber=\"+value\n",
    "#     print(url)\n",
    "    return url\n",
    "# df[\"TDLR Number\"].apply(display_info)\n"
   ]
  },
  {
   "cell_type": "code",
   "execution_count": 19,
   "metadata": {
    "scrolled": true
   },
   "outputs": [
    {
     "data": {
      "text/plain": [
       "[{'License status': 'Active',\n",
       "  'Phone number': '9032276464',\n",
       "  'Physical address': 'N MAIN ST BONHAM, TX. 75418',\n",
       "  'The business name': 'AUGUSTUS E SMITH'},\n",
       " {'License status': 'Active',\n",
       "  'Phone number': '8173330706',\n",
       "  'Physical address': '13619 BRETT JACKSON RD. FORT WORTH, TX. 76179',\n",
       "  'The business name': 'B.D. SMITH TOWING'},\n",
       " {'License status': 'Active',\n",
       "  'Phone number': '8066544404',\n",
       "  'Physical address': 'W CEMETERY RD CANYON, TX. 79015',\n",
       "  'The business name': 'BARRY MICHAEL SMITH'},\n",
       " {'License status': 'Expired',\n",
       "  'Phone number': '940-552-0687',\n",
       "  'Physical address': 'ST VERNON, TX. 76384',\n",
       "  'The business name': 'HEATH SMITH'},\n",
       " {'License status': 'Expired',\n",
       "  'Phone number': '9405520687',\n",
       "  'Physical address': '',\n",
       "  'The business name': 'HEATH SMITH'},\n",
       " {'Phone number': 'ASHLEY ERIN HYSMITH / TREASURER',\n",
       "  'Physical address': '',\n",
       "  'The business name': 'HYSMITH AUTOMOTIVE'},\n",
       " {'Phone number': 'WILLIAM THOMAS HYSMITH / PRESIDENT',\n",
       "  'Physical address': '',\n",
       "  'The business name': 'HYSMITH AUTOMOTIVE & TRUCK REPAIR INC'},\n",
       " {'Phone number': 'ASHLEY ERIN HYSMITH / TREASURER',\n",
       "  'Physical address': '',\n",
       "  'The business name': 'HYSMITH AUTOMOTIVE & TRUCK REPAIR INC'},\n",
       " {'Phone number': 'WENDY SMITH / PARTNER',\n",
       "  'Physical address': '',\n",
       "  'The business name': 'JEFF & WENDY SMITH'},\n",
       " {'License status': 'Active',\n",
       "  'Phone number': '8324354670',\n",
       "  'Physical address': 'RD CROSBY, TX. 77532',\n",
       "  'The business name': 'JEFF SMITH'},\n",
       " {'License status': 'Active',\n",
       "  'Phone number': '281-838-9435',\n",
       "  'Physical address': 'FM 2100 RD CROSBY, TX. 77532',\n",
       "  'The business name': 'LUTHER SMITH'},\n",
       " {'License status': 'Active',\n",
       "  'Phone number': '7134544462',\n",
       "  'Physical address': 'WOODS LN ROSHARON, TX. 77583',\n",
       "  'The business name': 'MAURICE SMITH'},\n",
       " {'Phone number': 'SOCORRO M ARREOLA / OWNER',\n",
       "  'Physical address': '',\n",
       "  'The business name': 'METRO LOCKSMITHS INC'},\n",
       " {'License status': 'Suspended',\n",
       "  'Phone number': '9364997917',\n",
       "  'Physical address': '',\n",
       "  'The business name': 'RICKY SMITH'},\n",
       " {'License status': 'Suspended',\n",
       "  'Phone number': '9364997917',\n",
       "  'Physical address': '',\n",
       "  'The business name': 'RICKY SMITH'},\n",
       " {'License status': 'Expired',\n",
       "  'Phone number': '3252159496',\n",
       "  'Physical address': 'N 16TH ST JUNCTION, TX. 76849',\n",
       "  'The business name': 'SAMMY L SMITH'},\n",
       " {'Phone number': 'GLEN SMITH / PARTNER',\n",
       "  'Physical address': '',\n",
       "  'The business name': 'SMITH BRO. WRECKER SERVICE'},\n",
       " {'Phone number': 'GLEN SMITH / PARTNER',\n",
       "  'Physical address': '',\n",
       "  'The business name': 'SMITH BROS. WRECKER SERVICE'},\n",
       " {'License status': 'Active',\n",
       "  'Phone number': '9362693915',\n",
       "  'Physical address': 'Physical: 12741 HWY 84E JOAQUIN, TX. 75954',\n",
       "  'The business name': 'SMITH TOWING & RECOVERY, LLC'},\n",
       " {'License status': 'Active',\n",
       "  'Phone number': '9362693915',\n",
       "  'Physical address': 'TX. 75954',\n",
       "  'The business name': 'SMITH TOWING & RECOVERY,LLC'}]"
      ]
     },
     "execution_count": 19,
     "metadata": {},
     "output_type": "execute_result"
    }
   ],
   "source": [
    "TTT_url = df[\"TDLR Number\"].apply(display_info)\n",
    "# print(TTT_url)\n",
    "\n",
    "TTT_dictionary_list = []\n",
    "\n",
    "for TDLR_url in TTT_url :\n",
    "    TTT_dictionary = {}\n",
    "    driver.get(TDLR_url)\n",
    "    doc = BeautifulSoup(driver.page_source, 'html.parser')\n",
    "    \n",
    "    name_string = doc.find_all('tr')[4].find_all('td')[0].text\n",
    "    if name_string :\n",
    "        TTT_dictionary['The business name'] = (\" \".join( name_string.split()[1:]  )  )\n",
    "\n",
    "    phone_number = doc.find_all('tr')[6].find_all('td')[0].text\n",
    "    if phone_number :\n",
    "        TTT_dictionary['Phone number'] = (\" \".join( phone_number.split()[1:]  ) )\n",
    "    \n",
    "    license_status = doc.find_all('tr')[7].find_all('td')[1].text\n",
    "    if license_status :\n",
    "        TTT_dictionary['License status'] = (\" \".join( license_status.split()[1:]  ) )\n",
    "        \n",
    "    physical_address = doc.find_all('tr')[8].find_all('td')[1].text\n",
    "    if physical_address :\n",
    "        TTT_dictionary['Physical address'] = (\" \".join( physical_address.split()[23:]  ) )\n",
    "\n",
    "    TTT_dictionary_list.append(TTT_dictionary)\n",
    "TTT_dictionary_list\n"
   ]
  },
  {
   "cell_type": "code",
   "execution_count": 20,
   "metadata": {},
   "outputs": [],
   "source": [
    "import pandas as pd\n",
    "df_TTT = pd.DataFrame(TTT_dictionary_list)\n",
    "df_TTT.to_csv(\"Texas_Tow_Trucks.csv\", index=False)"
   ]
  },
  {
   "cell_type": "code",
   "execution_count": 21,
   "metadata": {},
   "outputs": [
    {
     "data": {
      "text/html": [
       "<div>\n",
       "<style>\n",
       "    .dataframe thead tr:only-child th {\n",
       "        text-align: right;\n",
       "    }\n",
       "\n",
       "    .dataframe thead th {\n",
       "        text-align: left;\n",
       "    }\n",
       "\n",
       "    .dataframe tbody tr th {\n",
       "        vertical-align: top;\n",
       "    }\n",
       "</style>\n",
       "<table border=\"1\" class=\"dataframe\">\n",
       "  <thead>\n",
       "    <tr style=\"text-align: right;\">\n",
       "      <th></th>\n",
       "      <th>License status</th>\n",
       "      <th>Phone number</th>\n",
       "      <th>Physical address</th>\n",
       "      <th>The business name</th>\n",
       "    </tr>\n",
       "  </thead>\n",
       "  <tbody>\n",
       "    <tr>\n",
       "      <th>0</th>\n",
       "      <td>Active</td>\n",
       "      <td>9032276464</td>\n",
       "      <td>N MAIN ST BONHAM, TX. 75418</td>\n",
       "      <td>AUGUSTUS E SMITH</td>\n",
       "    </tr>\n",
       "    <tr>\n",
       "      <th>1</th>\n",
       "      <td>Active</td>\n",
       "      <td>8173330706</td>\n",
       "      <td>13619 BRETT JACKSON RD. FORT WORTH, TX. 76179</td>\n",
       "      <td>B.D. SMITH TOWING</td>\n",
       "    </tr>\n",
       "    <tr>\n",
       "      <th>2</th>\n",
       "      <td>Active</td>\n",
       "      <td>8066544404</td>\n",
       "      <td>W CEMETERY RD CANYON, TX. 79015</td>\n",
       "      <td>BARRY MICHAEL SMITH</td>\n",
       "    </tr>\n",
       "    <tr>\n",
       "      <th>3</th>\n",
       "      <td>Expired</td>\n",
       "      <td>940-552-0687</td>\n",
       "      <td>ST VERNON, TX. 76384</td>\n",
       "      <td>HEATH SMITH</td>\n",
       "    </tr>\n",
       "    <tr>\n",
       "      <th>4</th>\n",
       "      <td>Expired</td>\n",
       "      <td>9405520687</td>\n",
       "      <td>NaN</td>\n",
       "      <td>HEATH SMITH</td>\n",
       "    </tr>\n",
       "  </tbody>\n",
       "</table>\n",
       "</div>"
      ],
      "text/plain": [
       "  License status  Phone number                               Physical address  \\\n",
       "0         Active    9032276464                    N MAIN ST BONHAM, TX. 75418   \n",
       "1         Active    8173330706  13619 BRETT JACKSON RD. FORT WORTH, TX. 76179   \n",
       "2         Active    8066544404                W CEMETERY RD CANYON, TX. 79015   \n",
       "3        Expired  940-552-0687                           ST VERNON, TX. 76384   \n",
       "4        Expired    9405520687                                            NaN   \n",
       "\n",
       "     The business name  \n",
       "0     AUGUSTUS E SMITH  \n",
       "1    B.D. SMITH TOWING  \n",
       "2  BARRY MICHAEL SMITH  \n",
       "3          HEATH SMITH  \n",
       "4          HEATH SMITH  "
      ]
     },
     "execution_count": 21,
     "metadata": {},
     "output_type": "execute_result"
    }
   ],
   "source": [
    "df_TTT_1 = pd.read_csv(\"Texas_Tow_Trucks.csv\")\n",
    "df_TTT_1.head()"
   ]
  },
  {
   "cell_type": "code",
   "execution_count": 22,
   "metadata": {},
   "outputs": [
    {
     "data": {
      "text/html": [
       "<div>\n",
       "<style>\n",
       "    .dataframe thead tr:only-child th {\n",
       "        text-align: right;\n",
       "    }\n",
       "\n",
       "    .dataframe thead th {\n",
       "        text-align: left;\n",
       "    }\n",
       "\n",
       "    .dataframe tbody tr th {\n",
       "        vertical-align: top;\n",
       "    }\n",
       "</style>\n",
       "<table border=\"1\" class=\"dataframe\">\n",
       "  <thead>\n",
       "    <tr style=\"text-align: right;\">\n",
       "      <th></th>\n",
       "      <th>License status</th>\n",
       "      <th>Phone number</th>\n",
       "      <th>Physical address</th>\n",
       "      <th>The business name</th>\n",
       "    </tr>\n",
       "  </thead>\n",
       "  <tbody>\n",
       "    <tr>\n",
       "      <th>15</th>\n",
       "      <td>Expired</td>\n",
       "      <td>3252159496</td>\n",
       "      <td>N 16TH ST JUNCTION, TX. 76849</td>\n",
       "      <td>SAMMY L SMITH</td>\n",
       "    </tr>\n",
       "    <tr>\n",
       "      <th>16</th>\n",
       "      <td>NaN</td>\n",
       "      <td>GLEN SMITH / PARTNER</td>\n",
       "      <td>NaN</td>\n",
       "      <td>SMITH BRO. WRECKER SERVICE</td>\n",
       "    </tr>\n",
       "    <tr>\n",
       "      <th>17</th>\n",
       "      <td>NaN</td>\n",
       "      <td>GLEN SMITH / PARTNER</td>\n",
       "      <td>NaN</td>\n",
       "      <td>SMITH BROS. WRECKER SERVICE</td>\n",
       "    </tr>\n",
       "    <tr>\n",
       "      <th>18</th>\n",
       "      <td>Active</td>\n",
       "      <td>9362693915</td>\n",
       "      <td>Physical: 12741 HWY 84E JOAQUIN, TX. 75954</td>\n",
       "      <td>SMITH TOWING &amp; RECOVERY, LLC</td>\n",
       "    </tr>\n",
       "    <tr>\n",
       "      <th>19</th>\n",
       "      <td>Active</td>\n",
       "      <td>9362693915</td>\n",
       "      <td>TX. 75954</td>\n",
       "      <td>SMITH TOWING &amp; RECOVERY,LLC</td>\n",
       "    </tr>\n",
       "  </tbody>\n",
       "</table>\n",
       "</div>"
      ],
      "text/plain": [
       "   License status          Phone number  \\\n",
       "15        Expired            3252159496   \n",
       "16            NaN  GLEN SMITH / PARTNER   \n",
       "17            NaN  GLEN SMITH / PARTNER   \n",
       "18         Active            9362693915   \n",
       "19         Active            9362693915   \n",
       "\n",
       "                              Physical address             The business name  \n",
       "15               N 16TH ST JUNCTION, TX. 76849                 SAMMY L SMITH  \n",
       "16                                         NaN    SMITH BRO. WRECKER SERVICE  \n",
       "17                                         NaN   SMITH BROS. WRECKER SERVICE  \n",
       "18  Physical: 12741 HWY 84E JOAQUIN, TX. 75954  SMITH TOWING & RECOVERY, LLC  \n",
       "19                                   TX. 75954   SMITH TOWING & RECOVERY,LLC  "
      ]
     },
     "execution_count": 22,
     "metadata": {},
     "output_type": "execute_result"
    }
   ],
   "source": [
    "df_TTT_1.tail()"
   ]
  },
  {
   "cell_type": "code",
   "execution_count": null,
   "metadata": {
    "collapsed": true
   },
   "outputs": [],
   "source": []
  }
 ],
 "metadata": {
  "kernelspec": {
   "display_name": "Python 3",
   "language": "python",
   "name": "python3"
  },
  "language_info": {
   "codemirror_mode": {
    "name": "ipython",
    "version": 3
   },
   "file_extension": ".py",
   "mimetype": "text/x-python",
   "name": "python",
   "nbconvert_exporter": "python",
   "pygments_lexer": "ipython3",
   "version": "3.6.1"
  }
 },
 "nbformat": 4,
 "nbformat_minor": 2
}
