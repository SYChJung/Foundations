{
 "cells": [
  {
   "cell_type": "markdown",
   "metadata": {},
   "source": [
    "# Exercise: NEISS, Question Set F\n",
    "\n",
    "#### Summary\n",
    "\n",
    "The [National Electronic Injury Surveillance System](https://www.cpsc.gov/Safety-Education/Safety-Guides/General-Information/National-Electronic-Injury-Surveillance-System-NEISS) is a data product produced by the US Consumer Product Safety Commission. It tracks emergency room injuries related to consumer products (e.g., \"a door fell on me!\").\n",
    "\n",
    "#### Files\n",
    "\n",
    "- **nss15.tsv**: injury data (one injury per row)\n",
    "- **2017NEISSCodingManualCPSConlyNontrauma.pdf**: column definitions and explanations\n",
    "- **2015 Neiss data highlights.pdf**: a partial summary of the data\n",
    "- **2017ComparabilityTable.pdf**: product code definitions\n",
    "- **categories-cleaned.txt**: product code definitions in CSV format (great for joining!)\n",
    "\n",
    "#### Source\n",
    "\n",
    "https://www.cpsc.gov/Safety-Education/Safety-Guides/General-Information/National-Electronic-Injury-Surveillance-System-NEISS\n",
    "\n",
    "#### Skills\n",
    "\n",
    "- Reading tab-separated files\n",
    "- Ignoring bad lines\n",
    "- Replacing values\n",
    "- Using numpy/`np.nan`\n",
    "- String search using regular expressions\n",
    "- String replacement using regular expressions\n",
    "- Using codebooks"
   ]
  },
  {
   "cell_type": "markdown",
   "metadata": {},
   "source": [
    "# Read in `nss15.tsv`\n",
    "\n",
    "Some of the lines just **aren't formatted correctly**. Maybe we can avoid those?"
   ]
  },
  {
   "cell_type": "code",
   "execution_count": 1,
   "metadata": {
    "scrolled": false
   },
   "outputs": [
    {
     "name": "stderr",
     "output_type": "stream",
     "text": [
      "b'Skipping line 10822: expected 19 fields, saw 20\\n'\n",
      "b'Skipping line 48623: expected 19 fields, saw 20\\nSkipping line 62534: expected 19 fields, saw 20\\n'\n",
      "b'Skipping line 103739: expected 19 fields, saw 20\\n'\n",
      "b'Skipping line 135495: expected 19 fields, saw 20\\nSkipping line 151678: expected 19 fields, saw 20\\n'\n",
      "b'Skipping line 237135: expected 19 fields, saw 20\\nSkipping line 240597: expected 19 fields, saw 20\\n'\n",
      "b'Skipping line 274270: expected 19 fields, saw 20\\nSkipping line 277461: expected 19 fields, saw 20\\n'\n"
     ]
    },
    {
     "data": {
      "text/html": [
       "<div>\n",
       "<style>\n",
       "    .dataframe thead tr:only-child th {\n",
       "        text-align: right;\n",
       "    }\n",
       "\n",
       "    .dataframe thead th {\n",
       "        text-align: left;\n",
       "    }\n",
       "\n",
       "    .dataframe tbody tr th {\n",
       "        vertical-align: top;\n",
       "    }\n",
       "</style>\n",
       "<table border=\"1\" class=\"dataframe\">\n",
       "  <thead>\n",
       "    <tr style=\"text-align: right;\">\n",
       "      <th></th>\n",
       "      <th>CPSC Case #</th>\n",
       "      <th>trmt_date</th>\n",
       "      <th>psu</th>\n",
       "      <th>weight</th>\n",
       "      <th>stratum</th>\n",
       "      <th>age</th>\n",
       "      <th>sex</th>\n",
       "      <th>race</th>\n",
       "      <th>race_other</th>\n",
       "      <th>diag</th>\n",
       "      <th>diag_other</th>\n",
       "      <th>body_part</th>\n",
       "      <th>disposition</th>\n",
       "      <th>location</th>\n",
       "      <th>fmv</th>\n",
       "      <th>prod1</th>\n",
       "      <th>prod2</th>\n",
       "      <th>narr1</th>\n",
       "      <th>narr2</th>\n",
       "    </tr>\n",
       "  </thead>\n",
       "  <tbody>\n",
       "    <tr>\n",
       "      <th>0</th>\n",
       "      <td>150733174</td>\n",
       "      <td>07/11/2015</td>\n",
       "      <td>38</td>\n",
       "      <td>15.7762</td>\n",
       "      <td>V</td>\n",
       "      <td>5</td>\n",
       "      <td>1</td>\n",
       "      <td>0</td>\n",
       "      <td>NaN</td>\n",
       "      <td>57</td>\n",
       "      <td>NaN</td>\n",
       "      <td>33</td>\n",
       "      <td>1</td>\n",
       "      <td>9</td>\n",
       "      <td>0</td>\n",
       "      <td>1267</td>\n",
       "      <td>NaN</td>\n",
       "      <td>5 YR OLD MALE PLAYING SOCCER BLOCKING BALL AND...</td>\n",
       "      <td>X IT</td>\n",
       "    </tr>\n",
       "    <tr>\n",
       "      <th>1</th>\n",
       "      <td>150734723</td>\n",
       "      <td>07/06/2015</td>\n",
       "      <td>43</td>\n",
       "      <td>83.2157</td>\n",
       "      <td>S</td>\n",
       "      <td>36</td>\n",
       "      <td>1</td>\n",
       "      <td>1</td>\n",
       "      <td>NaN</td>\n",
       "      <td>57</td>\n",
       "      <td>NaN</td>\n",
       "      <td>34</td>\n",
       "      <td>1</td>\n",
       "      <td>1</td>\n",
       "      <td>0</td>\n",
       "      <td>1439</td>\n",
       "      <td>4057.0</td>\n",
       "      <td>L WRIST FX(?)/36YOWM 2 WKS AGO@G-FRIENDS HM,MO...</td>\n",
       "      <td>AN OBJECT&amp;TWISTED WRIST TRYING TO CONTOL MOWER...</td>\n",
       "    </tr>\n",
       "    <tr>\n",
       "      <th>2</th>\n",
       "      <td>150817487</td>\n",
       "      <td>08/02/2015</td>\n",
       "      <td>51</td>\n",
       "      <td>74.8813</td>\n",
       "      <td>L</td>\n",
       "      <td>20</td>\n",
       "      <td>2</td>\n",
       "      <td>0</td>\n",
       "      <td>NaN</td>\n",
       "      <td>71</td>\n",
       "      <td>OTITIS EXTERNA</td>\n",
       "      <td>94</td>\n",
       "      <td>1</td>\n",
       "      <td>0</td>\n",
       "      <td>0</td>\n",
       "      <td>3274</td>\n",
       "      <td>NaN</td>\n",
       "      <td>20 YO F C/O EAR PAIN 1 DAY SAS WAS SWIMMING YE...</td>\n",
       "      <td>T TRIED TO USE ***S TO REMOVE WAX MADE IT WORS...</td>\n",
       "    </tr>\n",
       "    <tr>\n",
       "      <th>3</th>\n",
       "      <td>150717776</td>\n",
       "      <td>06/26/2015</td>\n",
       "      <td>41</td>\n",
       "      <td>15.7762</td>\n",
       "      <td>V</td>\n",
       "      <td>61</td>\n",
       "      <td>1</td>\n",
       "      <td>0</td>\n",
       "      <td>NaN</td>\n",
       "      <td>71</td>\n",
       "      <td>PAIN</td>\n",
       "      <td>35</td>\n",
       "      <td>1</td>\n",
       "      <td>0</td>\n",
       "      <td>0</td>\n",
       "      <td>611</td>\n",
       "      <td>NaN</td>\n",
       "      <td>61YOM W/KNEE PAIN S/P FALLING IN SHOWER 2 DAYS...</td>\n",
       "      <td>NaN</td>\n",
       "    </tr>\n",
       "    <tr>\n",
       "      <th>4</th>\n",
       "      <td>150721694</td>\n",
       "      <td>07/04/2015</td>\n",
       "      <td>42</td>\n",
       "      <td>74.8813</td>\n",
       "      <td>L</td>\n",
       "      <td>88</td>\n",
       "      <td>2</td>\n",
       "      <td>3</td>\n",
       "      <td>HISPANIC</td>\n",
       "      <td>62</td>\n",
       "      <td>NaN</td>\n",
       "      <td>75</td>\n",
       "      <td>1</td>\n",
       "      <td>0</td>\n",
       "      <td>0</td>\n",
       "      <td>1893</td>\n",
       "      <td>1807.0</td>\n",
       "      <td>88YOF PAIN TO HEAD WHEN FALL TO FLOOR WHEN WAL...</td>\n",
       "      <td>DOOR AND FELL.DENIES LOC. DX HEAD INJURY</td>\n",
       "    </tr>\n",
       "  </tbody>\n",
       "</table>\n",
       "</div>"
      ],
      "text/plain": [
       "   CPSC Case #   trmt_date  psu   weight stratum  age  sex  race race_other  \\\n",
       "0    150733174  07/11/2015   38  15.7762       V    5    1     0        NaN   \n",
       "1    150734723  07/06/2015   43  83.2157       S   36    1     1        NaN   \n",
       "2    150817487  08/02/2015   51  74.8813       L   20    2     0        NaN   \n",
       "3    150717776  06/26/2015   41  15.7762       V   61    1     0        NaN   \n",
       "4    150721694  07/04/2015   42  74.8813       L   88    2     3   HISPANIC   \n",
       "\n",
       "   diag      diag_other  body_part  disposition  location  fmv  prod1   prod2  \\\n",
       "0    57             NaN         33            1         9    0   1267     NaN   \n",
       "1    57             NaN         34            1         1    0   1439  4057.0   \n",
       "2    71  OTITIS EXTERNA         94            1         0    0   3274     NaN   \n",
       "3    71            PAIN         35            1         0    0    611     NaN   \n",
       "4    62             NaN         75            1         0    0   1893  1807.0   \n",
       "\n",
       "                                               narr1  \\\n",
       "0  5 YR OLD MALE PLAYING SOCCER BLOCKING BALL AND...   \n",
       "1  L WRIST FX(?)/36YOWM 2 WKS AGO@G-FRIENDS HM,MO...   \n",
       "2  20 YO F C/O EAR PAIN 1 DAY SAS WAS SWIMMING YE...   \n",
       "3  61YOM W/KNEE PAIN S/P FALLING IN SHOWER 2 DAYS...   \n",
       "4  88YOF PAIN TO HEAD WHEN FALL TO FLOOR WHEN WAL...   \n",
       "\n",
       "                                               narr2  \n",
       "0                                               X IT  \n",
       "1  AN OBJECT&TWISTED WRIST TRYING TO CONTOL MOWER...  \n",
       "2  T TRIED TO USE ***S TO REMOVE WAX MADE IT WORS...  \n",
       "3                                                NaN  \n",
       "4           DOOR AND FELL.DENIES LOC. DX HEAD INJURY  "
      ]
     },
     "execution_count": 1,
     "metadata": {},
     "output_type": "execute_result"
    }
   ],
   "source": [
    "import pandas as pd\n",
    "df = pd.read_csv(\"nss15.tsv\", sep=\"\\t\", error_bad_lines=False)\n",
    "df.head()\n"
   ]
  },
  {
   "cell_type": "markdown",
   "metadata": {},
   "source": [
    "### Check that your dataframe has 357727 rows and 19 columns."
   ]
  },
  {
   "cell_type": "code",
   "execution_count": 2,
   "metadata": {},
   "outputs": [
    {
     "data": {
      "text/plain": [
       "(357727, 19)"
      ]
     },
     "execution_count": 2,
     "metadata": {},
     "output_type": "execute_result"
    }
   ],
   "source": [
    "df.shape\n"
   ]
  },
  {
   "cell_type": "markdown",
   "metadata": {},
   "source": [
    "### List the columns and their data types"
   ]
  },
  {
   "cell_type": "code",
   "execution_count": 3,
   "metadata": {
    "scrolled": true
   },
   "outputs": [
    {
     "data": {
      "text/plain": [
       "CPSC Case #      int64\n",
       "trmt_date       object\n",
       "psu              int64\n",
       "weight         float64\n",
       "stratum         object\n",
       "age              int64\n",
       "sex              int64\n",
       "race             int64\n",
       "race_other      object\n",
       "diag             int64\n",
       "diag_other      object\n",
       "body_part        int64\n",
       "disposition      int64\n",
       "location         int64\n",
       "fmv              int64\n",
       "prod1            int64\n",
       "prod2          float64\n",
       "narr1           object\n",
       "narr2           object\n",
       "dtype: object"
      ]
     },
     "execution_count": 3,
     "metadata": {},
     "output_type": "execute_result"
    }
   ],
   "source": [
    "df.dtypes\n"
   ]
  },
  {
   "cell_type": "markdown",
   "metadata": {},
   "source": [
    "### What does each column mean?"
   ]
  },
  {
   "cell_type": "code",
   "execution_count": 4,
   "metadata": {},
   "outputs": [],
   "source": [
    "# CPSC Case #  : Case Number\n",
    "# trmt_date    : Date of Treatment\n",
    "# psu          : \n",
    "# weight       : patient's weight\n",
    "# stratum      : \n",
    "# age          : patient's age\n",
    "# sex          : patient's gender\n",
    "# race         : patient's race\n",
    "# race_other   : record indicates more than one race or none of the 'race'\n",
    "# diag         : diagnosis \n",
    "# diag_other   : none of the listed diagnoses in 'diag'\n",
    "# body_part    : injured body part\n",
    "# disposition  : code indicating the disposition of the case from the emergency department.\n",
    "# location     : code for whereabouts of injuries\n",
    "# fmv          : code for Smoke inhalation\n",
    "# prod1        : The PC-NEISS program provides two 4-digit spaces for coding up to two products involved in an injury\n",
    "# prod2        : record when there were two products involved in an injury\n",
    "# narr1, narr2 : Comments/Narrative. Every case MUST include descriptive comments or remarks.\n",
    " "
   ]
  },
  {
   "cell_type": "markdown",
   "metadata": {},
   "source": [
    "# Cleaning up a column\n",
    "\n",
    "Take a look at the **race** column. How many rows of each race are there?"
   ]
  },
  {
   "cell_type": "code",
   "execution_count": 5,
   "metadata": {
    "scrolled": true
   },
   "outputs": [
    {
     "data": {
      "text/plain": [
       "array([0, 1, 3, 2, 4, 5, 6])"
      ]
     },
     "execution_count": 5,
     "metadata": {},
     "output_type": "execute_result"
    }
   ],
   "source": [
    "df['race'] #357727 rows\n",
    "df['race'].unique() # 7 kinds of races\n"
   ]
  },
  {
   "cell_type": "markdown",
   "metadata": {},
   "source": [
    "## Replace the numbers with the appropriate words they stand for.\n",
    "\n",
    "Those numbers are terrible - codes are fine for storage but not really for reading. **Replace the numbers with the  words they stand for.**\n",
    "\n",
    "Refer to page 28 of the column definitions file."
   ]
  },
  {
   "cell_type": "code",
   "execution_count": 6,
   "metadata": {},
   "outputs": [],
   "source": [
    "# df['sex'].unique()"
   ]
  },
  {
   "cell_type": "code",
   "execution_count": 7,
   "metadata": {},
   "outputs": [],
   "source": [
    "# # save it back into the column\n",
    "# df.sex = df.sex.replace(1, \"Male\")\n",
    "# df.sex.replace(2, \"Female\", inplace = True)\n",
    "# df.sex = df.sex.replace(3, \"Not Recorded\")\n",
    "# df.head()"
   ]
  },
  {
   "cell_type": "code",
   "execution_count": 6,
   "metadata": {
    "scrolled": true
   },
   "outputs": [
    {
     "data": {
      "text/html": [
       "<div>\n",
       "<style>\n",
       "    .dataframe thead tr:only-child th {\n",
       "        text-align: right;\n",
       "    }\n",
       "\n",
       "    .dataframe thead th {\n",
       "        text-align: left;\n",
       "    }\n",
       "\n",
       "    .dataframe tbody tr th {\n",
       "        vertical-align: top;\n",
       "    }\n",
       "</style>\n",
       "<table border=\"1\" class=\"dataframe\">\n",
       "  <thead>\n",
       "    <tr style=\"text-align: right;\">\n",
       "      <th></th>\n",
       "      <th>CPSC Case #</th>\n",
       "      <th>trmt_date</th>\n",
       "      <th>psu</th>\n",
       "      <th>weight</th>\n",
       "      <th>stratum</th>\n",
       "      <th>age</th>\n",
       "      <th>sex</th>\n",
       "      <th>race</th>\n",
       "      <th>race_other</th>\n",
       "      <th>diag</th>\n",
       "      <th>diag_other</th>\n",
       "      <th>body_part</th>\n",
       "      <th>disposition</th>\n",
       "      <th>location</th>\n",
       "      <th>fmv</th>\n",
       "      <th>prod1</th>\n",
       "      <th>prod2</th>\n",
       "      <th>narr1</th>\n",
       "      <th>narr2</th>\n",
       "    </tr>\n",
       "  </thead>\n",
       "  <tbody>\n",
       "    <tr>\n",
       "      <th>0</th>\n",
       "      <td>150733174</td>\n",
       "      <td>07/11/2015</td>\n",
       "      <td>38</td>\n",
       "      <td>15.7762</td>\n",
       "      <td>V</td>\n",
       "      <td>5</td>\n",
       "      <td>1</td>\n",
       "      <td>Not Stated in ED record</td>\n",
       "      <td>NaN</td>\n",
       "      <td>57</td>\n",
       "      <td>NaN</td>\n",
       "      <td>33</td>\n",
       "      <td>1</td>\n",
       "      <td>9</td>\n",
       "      <td>0</td>\n",
       "      <td>1267</td>\n",
       "      <td>NaN</td>\n",
       "      <td>5 YR OLD MALE PLAYING SOCCER BLOCKING BALL AND...</td>\n",
       "      <td>X IT</td>\n",
       "    </tr>\n",
       "    <tr>\n",
       "      <th>1</th>\n",
       "      <td>150734723</td>\n",
       "      <td>07/06/2015</td>\n",
       "      <td>43</td>\n",
       "      <td>83.2157</td>\n",
       "      <td>S</td>\n",
       "      <td>36</td>\n",
       "      <td>1</td>\n",
       "      <td>White</td>\n",
       "      <td>NaN</td>\n",
       "      <td>57</td>\n",
       "      <td>NaN</td>\n",
       "      <td>34</td>\n",
       "      <td>1</td>\n",
       "      <td>1</td>\n",
       "      <td>0</td>\n",
       "      <td>1439</td>\n",
       "      <td>4057.0</td>\n",
       "      <td>L WRIST FX(?)/36YOWM 2 WKS AGO@G-FRIENDS HM,MO...</td>\n",
       "      <td>AN OBJECT&amp;TWISTED WRIST TRYING TO CONTOL MOWER...</td>\n",
       "    </tr>\n",
       "    <tr>\n",
       "      <th>2</th>\n",
       "      <td>150817487</td>\n",
       "      <td>08/02/2015</td>\n",
       "      <td>51</td>\n",
       "      <td>74.8813</td>\n",
       "      <td>L</td>\n",
       "      <td>20</td>\n",
       "      <td>2</td>\n",
       "      <td>Not Stated in ED record</td>\n",
       "      <td>NaN</td>\n",
       "      <td>71</td>\n",
       "      <td>OTITIS EXTERNA</td>\n",
       "      <td>94</td>\n",
       "      <td>1</td>\n",
       "      <td>0</td>\n",
       "      <td>0</td>\n",
       "      <td>3274</td>\n",
       "      <td>NaN</td>\n",
       "      <td>20 YO F C/O EAR PAIN 1 DAY SAS WAS SWIMMING YE...</td>\n",
       "      <td>T TRIED TO USE ***S TO REMOVE WAX MADE IT WORS...</td>\n",
       "    </tr>\n",
       "    <tr>\n",
       "      <th>3</th>\n",
       "      <td>150717776</td>\n",
       "      <td>06/26/2015</td>\n",
       "      <td>41</td>\n",
       "      <td>15.7762</td>\n",
       "      <td>V</td>\n",
       "      <td>61</td>\n",
       "      <td>1</td>\n",
       "      <td>Not Stated in ED record</td>\n",
       "      <td>NaN</td>\n",
       "      <td>71</td>\n",
       "      <td>PAIN</td>\n",
       "      <td>35</td>\n",
       "      <td>1</td>\n",
       "      <td>0</td>\n",
       "      <td>0</td>\n",
       "      <td>611</td>\n",
       "      <td>NaN</td>\n",
       "      <td>61YOM W/KNEE PAIN S/P FALLING IN SHOWER 2 DAYS...</td>\n",
       "      <td>NaN</td>\n",
       "    </tr>\n",
       "    <tr>\n",
       "      <th>4</th>\n",
       "      <td>150721694</td>\n",
       "      <td>07/04/2015</td>\n",
       "      <td>42</td>\n",
       "      <td>74.8813</td>\n",
       "      <td>L</td>\n",
       "      <td>88</td>\n",
       "      <td>2</td>\n",
       "      <td>Other</td>\n",
       "      <td>HISPANIC</td>\n",
       "      <td>62</td>\n",
       "      <td>NaN</td>\n",
       "      <td>75</td>\n",
       "      <td>1</td>\n",
       "      <td>0</td>\n",
       "      <td>0</td>\n",
       "      <td>1893</td>\n",
       "      <td>1807.0</td>\n",
       "      <td>88YOF PAIN TO HEAD WHEN FALL TO FLOOR WHEN WAL...</td>\n",
       "      <td>DOOR AND FELL.DENIES LOC. DX HEAD INJURY</td>\n",
       "    </tr>\n",
       "  </tbody>\n",
       "</table>\n",
       "</div>"
      ],
      "text/plain": [
       "   CPSC Case #   trmt_date  psu   weight stratum  age  sex  \\\n",
       "0    150733174  07/11/2015   38  15.7762       V    5    1   \n",
       "1    150734723  07/06/2015   43  83.2157       S   36    1   \n",
       "2    150817487  08/02/2015   51  74.8813       L   20    2   \n",
       "3    150717776  06/26/2015   41  15.7762       V   61    1   \n",
       "4    150721694  07/04/2015   42  74.8813       L   88    2   \n",
       "\n",
       "                      race race_other  diag      diag_other  body_part  \\\n",
       "0  Not Stated in ED record        NaN    57             NaN         33   \n",
       "1                    White        NaN    57             NaN         34   \n",
       "2  Not Stated in ED record        NaN    71  OTITIS EXTERNA         94   \n",
       "3  Not Stated in ED record        NaN    71            PAIN         35   \n",
       "4                    Other   HISPANIC    62             NaN         75   \n",
       "\n",
       "   disposition  location  fmv  prod1   prod2  \\\n",
       "0            1         9    0   1267     NaN   \n",
       "1            1         1    0   1439  4057.0   \n",
       "2            1         0    0   3274     NaN   \n",
       "3            1         0    0    611     NaN   \n",
       "4            1         0    0   1893  1807.0   \n",
       "\n",
       "                                               narr1  \\\n",
       "0  5 YR OLD MALE PLAYING SOCCER BLOCKING BALL AND...   \n",
       "1  L WRIST FX(?)/36YOWM 2 WKS AGO@G-FRIENDS HM,MO...   \n",
       "2  20 YO F C/O EAR PAIN 1 DAY SAS WAS SWIMMING YE...   \n",
       "3  61YOM W/KNEE PAIN S/P FALLING IN SHOWER 2 DAYS...   \n",
       "4  88YOF PAIN TO HEAD WHEN FALL TO FLOOR WHEN WAL...   \n",
       "\n",
       "                                               narr2  \n",
       "0                                               X IT  \n",
       "1  AN OBJECT&TWISTED WRIST TRYING TO CONTOL MOWER...  \n",
       "2  T TRIED TO USE ***S TO REMOVE WAX MADE IT WORS...  \n",
       "3                                                NaN  \n",
       "4           DOOR AND FELL.DENIES LOC. DX HEAD INJURY  "
      ]
     },
     "execution_count": 6,
     "metadata": {},
     "output_type": "execute_result"
    }
   ],
   "source": [
    "replacements = {\n",
    "    0: 'Not Stated in ED record',\n",
    "    1: 'White',\n",
    "    2: 'Black/African American',\n",
    "    3: 'Other',\n",
    "    4: 'Asian',\n",
    "    5: 'American Indian/Alaska Native',\n",
    "    6: 'Native Hawaiian/Pacific Islander'\n",
    "}\n",
    "\n",
    "df.race.replace(replacements, inplace=True)\n",
    "df.head()\n"
   ]
  },
  {
   "cell_type": "markdown",
   "metadata": {},
   "source": [
    "## Confirm you have 145813 White, 138666 not stated, and 48868 Black."
   ]
  },
  {
   "cell_type": "code",
   "execution_count": 7,
   "metadata": {},
   "outputs": [
    {
     "name": "stdout",
     "output_type": "stream",
     "text": [
      "White    145813\n",
      "Name: race, dtype: int64\n",
      "Not Stated in ED record    138666\n",
      "Name: race, dtype: int64\n",
      "Black/African American    48868\n",
      "Name: race, dtype: int64\n"
     ]
    }
   ],
   "source": [
    "df.race.value_counts()\n",
    "print(df[df.race == 'White'].race.value_counts()  )\n",
    "print(df[df.race == 'Not Stated in ED record'].race.value_counts()  )\n",
    "print(df[df.race == 'Black/African American'].race.value_counts()  )\n"
   ]
  },
  {
   "cell_type": "markdown",
   "metadata": {},
   "source": [
    "## Graph the number of each race, but don’t included the “Not Stated” records"
   ]
  },
  {
   "cell_type": "code",
   "execution_count": 8,
   "metadata": {
    "collapsed": true
   },
   "outputs": [],
   "source": [
    "%matplotlib inline\n"
   ]
  },
  {
   "cell_type": "code",
   "execution_count": 9,
   "metadata": {},
   "outputs": [],
   "source": [
    "# df.race.value_counts().plot(kind = 'barh')\n"
   ]
  },
  {
   "cell_type": "code",
   "execution_count": 10,
   "metadata": {},
   "outputs": [
    {
     "data": {
      "text/plain": [
       "White                               145813\n",
       "Black/African American               48868\n",
       "Other                                18884\n",
       "Asian                                 4130\n",
       "American Indian/Alaska Native         1000\n",
       "Native Hawaiian/Pacific Islander       366\n",
       "Name: race, dtype: int64"
      ]
     },
     "execution_count": 10,
     "metadata": {},
     "output_type": "execute_result"
    }
   ],
   "source": [
    "df[df.race != 'Not Stated in ED record'].race.value_counts()\n"
   ]
  },
  {
   "cell_type": "code",
   "execution_count": 11,
   "metadata": {},
   "outputs": [
    {
     "data": {
      "text/plain": [
       "<matplotlib.axes._subplots.AxesSubplot at 0x108d6bb38>"
      ]
     },
     "execution_count": 11,
     "metadata": {},
     "output_type": "execute_result"
    },
    {
     "data": {
      "image/png": "[encoded data removed]",
      "text/plain": [
       "<matplotlib.figure.Figure at 0x108d6b240>"
      ]
     },
     "metadata": {},
     "output_type": "display_data"
    }
   ],
   "source": [
    "df[df.race != 'Not Stated in ED record'].race.value_counts().plot(kind = 'barh')\n"
   ]
  },
  {
   "cell_type": "code",
   "execution_count": 12,
   "metadata": {},
   "outputs": [
    {
     "data": {
      "text/plain": [
       "<matplotlib.axes._subplots.AxesSubplot at 0x107fc1a20>"
      ]
     },
     "execution_count": 12,
     "metadata": {},
     "output_type": "execute_result"
    },
    {
     "data": {
      "image/png": "[encoded data removed]",
      "text/plain": [
       "<matplotlib.figure.Figure at 0x108d54da0>"
      ]
     },
     "metadata": {},
     "output_type": "display_data"
    }
   ],
   "source": [
    "# changing plot size\n",
    "df[df.race != 'Not Stated in ED record'].race.value_counts().plot(kind = 'barh', figsize=(5, 20))\n"
   ]
  },
  {
   "cell_type": "markdown",
   "metadata": {},
   "source": [
    "## \"Not Stated\" seems silly - change it to be `NaN` instead\n",
    "\n",
    "Don't use `na_values` for this."
   ]
  },
  {
   "cell_type": "code",
   "execution_count": 13,
   "metadata": {},
   "outputs": [
    {
     "data": {
      "text/plain": [
       "nan"
      ]
     },
     "execution_count": 13,
     "metadata": {},
     "output_type": "execute_result"
    }
   ],
   "source": [
    "import numpy as np\n",
    "np.nan"
   ]
  },
  {
   "cell_type": "code",
   "execution_count": 14,
   "metadata": {
    "scrolled": true
   },
   "outputs": [
    {
     "data": {
      "text/html": [
       "<div>\n",
       "<style>\n",
       "    .dataframe thead tr:only-child th {\n",
       "        text-align: right;\n",
       "    }\n",
       "\n",
       "    .dataframe thead th {\n",
       "        text-align: left;\n",
       "    }\n",
       "\n",
       "    .dataframe tbody tr th {\n",
       "        vertical-align: top;\n",
       "    }\n",
       "</style>\n",
       "<table border=\"1\" class=\"dataframe\">\n",
       "  <thead>\n",
       "    <tr style=\"text-align: right;\">\n",
       "      <th></th>\n",
       "      <th>CPSC Case #</th>\n",
       "      <th>trmt_date</th>\n",
       "      <th>psu</th>\n",
       "      <th>weight</th>\n",
       "      <th>stratum</th>\n",
       "      <th>age</th>\n",
       "      <th>sex</th>\n",
       "      <th>race</th>\n",
       "      <th>race_other</th>\n",
       "      <th>diag</th>\n",
       "      <th>diag_other</th>\n",
       "      <th>body_part</th>\n",
       "      <th>disposition</th>\n",
       "      <th>location</th>\n",
       "      <th>fmv</th>\n",
       "      <th>prod1</th>\n",
       "      <th>prod2</th>\n",
       "      <th>narr1</th>\n",
       "      <th>narr2</th>\n",
       "    </tr>\n",
       "  </thead>\n",
       "  <tbody>\n",
       "    <tr>\n",
       "      <th>0</th>\n",
       "      <td>150733174</td>\n",
       "      <td>07/11/2015</td>\n",
       "      <td>38</td>\n",
       "      <td>15.7762</td>\n",
       "      <td>V</td>\n",
       "      <td>5</td>\n",
       "      <td>1</td>\n",
       "      <td>NaN</td>\n",
       "      <td>NaN</td>\n",
       "      <td>57</td>\n",
       "      <td>NaN</td>\n",
       "      <td>33</td>\n",
       "      <td>1</td>\n",
       "      <td>9</td>\n",
       "      <td>0</td>\n",
       "      <td>1267</td>\n",
       "      <td>NaN</td>\n",
       "      <td>5 YR OLD MALE PLAYING SOCCER BLOCKING BALL AND...</td>\n",
       "      <td>X IT</td>\n",
       "    </tr>\n",
       "    <tr>\n",
       "      <th>1</th>\n",
       "      <td>150734723</td>\n",
       "      <td>07/06/2015</td>\n",
       "      <td>43</td>\n",
       "      <td>83.2157</td>\n",
       "      <td>S</td>\n",
       "      <td>36</td>\n",
       "      <td>1</td>\n",
       "      <td>White</td>\n",
       "      <td>NaN</td>\n",
       "      <td>57</td>\n",
       "      <td>NaN</td>\n",
       "      <td>34</td>\n",
       "      <td>1</td>\n",
       "      <td>1</td>\n",
       "      <td>0</td>\n",
       "      <td>1439</td>\n",
       "      <td>4057.0</td>\n",
       "      <td>L WRIST FX(?)/36YOWM 2 WKS AGO@G-FRIENDS HM,MO...</td>\n",
       "      <td>AN OBJECT&amp;TWISTED WRIST TRYING TO CONTOL MOWER...</td>\n",
       "    </tr>\n",
       "    <tr>\n",
       "      <th>2</th>\n",
       "      <td>150817487</td>\n",
       "      <td>08/02/2015</td>\n",
       "      <td>51</td>\n",
       "      <td>74.8813</td>\n",
       "      <td>L</td>\n",
       "      <td>20</td>\n",
       "      <td>2</td>\n",
       "      <td>NaN</td>\n",
       "      <td>NaN</td>\n",
       "      <td>71</td>\n",
       "      <td>OTITIS EXTERNA</td>\n",
       "      <td>94</td>\n",
       "      <td>1</td>\n",
       "      <td>0</td>\n",
       "      <td>0</td>\n",
       "      <td>3274</td>\n",
       "      <td>NaN</td>\n",
       "      <td>20 YO F C/O EAR PAIN 1 DAY SAS WAS SWIMMING YE...</td>\n",
       "      <td>T TRIED TO USE ***S TO REMOVE WAX MADE IT WORS...</td>\n",
       "    </tr>\n",
       "    <tr>\n",
       "      <th>3</th>\n",
       "      <td>150717776</td>\n",
       "      <td>06/26/2015</td>\n",
       "      <td>41</td>\n",
       "      <td>15.7762</td>\n",
       "      <td>V</td>\n",
       "      <td>61</td>\n",
       "      <td>1</td>\n",
       "      <td>NaN</td>\n",
       "      <td>NaN</td>\n",
       "      <td>71</td>\n",
       "      <td>PAIN</td>\n",
       "      <td>35</td>\n",
       "      <td>1</td>\n",
       "      <td>0</td>\n",
       "      <td>0</td>\n",
       "      <td>611</td>\n",
       "      <td>NaN</td>\n",
       "      <td>61YOM W/KNEE PAIN S/P FALLING IN SHOWER 2 DAYS...</td>\n",
       "      <td>NaN</td>\n",
       "    </tr>\n",
       "    <tr>\n",
       "      <th>4</th>\n",
       "      <td>150721694</td>\n",
       "      <td>07/04/2015</td>\n",
       "      <td>42</td>\n",
       "      <td>74.8813</td>\n",
       "      <td>L</td>\n",
       "      <td>88</td>\n",
       "      <td>2</td>\n",
       "      <td>Other</td>\n",
       "      <td>HISPANIC</td>\n",
       "      <td>62</td>\n",
       "      <td>NaN</td>\n",
       "      <td>75</td>\n",
       "      <td>1</td>\n",
       "      <td>0</td>\n",
       "      <td>0</td>\n",
       "      <td>1893</td>\n",
       "      <td>1807.0</td>\n",
       "      <td>88YOF PAIN TO HEAD WHEN FALL TO FLOOR WHEN WAL...</td>\n",
       "      <td>DOOR AND FELL.DENIES LOC. DX HEAD INJURY</td>\n",
       "    </tr>\n",
       "  </tbody>\n",
       "</table>\n",
       "</div>"
      ],
      "text/plain": [
       "   CPSC Case #   trmt_date  psu   weight stratum  age  sex   race race_other  \\\n",
       "0    150733174  07/11/2015   38  15.7762       V    5    1    NaN        NaN   \n",
       "1    150734723  07/06/2015   43  83.2157       S   36    1  White        NaN   \n",
       "2    150817487  08/02/2015   51  74.8813       L   20    2    NaN        NaN   \n",
       "3    150717776  06/26/2015   41  15.7762       V   61    1    NaN        NaN   \n",
       "4    150721694  07/04/2015   42  74.8813       L   88    2  Other   HISPANIC   \n",
       "\n",
       "   diag      diag_other  body_part  disposition  location  fmv  prod1   prod2  \\\n",
       "0    57             NaN         33            1         9    0   1267     NaN   \n",
       "1    57             NaN         34            1         1    0   1439  4057.0   \n",
       "2    71  OTITIS EXTERNA         94            1         0    0   3274     NaN   \n",
       "3    71            PAIN         35            1         0    0    611     NaN   \n",
       "4    62             NaN         75            1         0    0   1893  1807.0   \n",
       "\n",
       "                                               narr1  \\\n",
       "0  5 YR OLD MALE PLAYING SOCCER BLOCKING BALL AND...   \n",
       "1  L WRIST FX(?)/36YOWM 2 WKS AGO@G-FRIENDS HM,MO...   \n",
       "2  20 YO F C/O EAR PAIN 1 DAY SAS WAS SWIMMING YE...   \n",
       "3  61YOM W/KNEE PAIN S/P FALLING IN SHOWER 2 DAYS...   \n",
       "4  88YOF PAIN TO HEAD WHEN FALL TO FLOOR WHEN WAL...   \n",
       "\n",
       "                                               narr2  \n",
       "0                                               X IT  \n",
       "1  AN OBJECT&TWISTED WRIST TRYING TO CONTOL MOWER...  \n",
       "2  T TRIED TO USE ***S TO REMOVE WAX MADE IT WORS...  \n",
       "3                                                NaN  \n",
       "4           DOOR AND FELL.DENIES LOC. DX HEAD INJURY  "
      ]
     },
     "execution_count": 14,
     "metadata": {},
     "output_type": "execute_result"
    }
   ],
   "source": [
    "df.race.replace('Not Stated in ED record', np.nan, inplace = True) # don't write \"NaN\"\n",
    "# df.race.replace('NaN', np.nan, inplace = True)\n",
    "df.head()"
   ]
  },
  {
   "cell_type": "code",
   "execution_count": 15,
   "metadata": {},
   "outputs": [
    {
     "data": {
      "text/plain": [
       "White                               145813\n",
       "Black/African American               48868\n",
       "Other                                18884\n",
       "Asian                                 4130\n",
       "American Indian/Alaska Native         1000\n",
       "Native Hawaiian/Pacific Islander       366\n",
       "Name: race, dtype: int64"
      ]
     },
     "execution_count": 15,
     "metadata": {},
     "output_type": "execute_result"
    }
   ],
   "source": [
    "df.race.value_counts()\n"
   ]
  },
  {
   "cell_type": "code",
   "execution_count": 16,
   "metadata": {},
   "outputs": [
    {
     "data": {
      "text/plain": [
       "White                               145813\n",
       "NaN                                 138666\n",
       "Black/African American               48868\n",
       "Other                                18884\n",
       "Asian                                 4130\n",
       "American Indian/Alaska Native         1000\n",
       "Native Hawaiian/Pacific Islander       366\n",
       "Name: race, dtype: int64"
      ]
     },
     "execution_count": 16,
     "metadata": {},
     "output_type": "execute_result"
    }
   ],
   "source": [
    "df.race.value_counts(dropna=False)\n"
   ]
  },
  {
   "cell_type": "markdown",
   "metadata": {},
   "source": [
    "## Graph the count of each race, but don’t included the “Not Stated” records\n",
    "\n",
    "Yes, again! The code you use should be different this time."
   ]
  },
  {
   "cell_type": "code",
   "execution_count": 17,
   "metadata": {},
   "outputs": [
    {
     "data": {
      "text/plain": [
       "<matplotlib.axes._subplots.AxesSubplot at 0x107fd9a90>"
      ]
     },
     "execution_count": 17,
     "metadata": {},
     "output_type": "execute_result"
    },
    {
     "data": {
      "image/png": "[encoded data removed]",
      "text/plain": [
       "<matplotlib.figure.Figure at 0x1080412b0>"
      ]
     },
     "metadata": {},
     "output_type": "display_data"
    }
   ],
   "source": [
    "df.race.value_counts().plot(kind = 'barh')\n"
   ]
  },
  {
   "cell_type": "markdown",
   "metadata": {},
   "source": [
    "## Graph the top 10 most popular products for injuries "
   ]
  },
  {
   "cell_type": "code",
   "execution_count": 19,
   "metadata": {},
   "outputs": [],
   "source": [
    "# df.groupby('race')['prod1'].\n"
   ]
  },
  {
   "cell_type": "code",
   "execution_count": 22,
   "metadata": {},
   "outputs": [],
   "source": [
    "# df.prod1.value_counts().sort_values()\n"
   ]
  },
  {
   "cell_type": "code",
   "execution_count": 18,
   "metadata": {},
   "outputs": [
    {
     "data": {
      "text/plain": [
       "<matplotlib.axes._subplots.AxesSubplot at 0x10a33a278>"
      ]
     },
     "execution_count": 18,
     "metadata": {},
     "output_type": "execute_result"
    },
    {
     "data": {
      "image/png": "[encoded data removed]",
      "text/plain": [
       "<matplotlib.figure.Figure at 0x1053e84a8>"
      ]
     },
     "metadata": {},
     "output_type": "display_data"
    }
   ],
   "source": [
    "df.prod1.value_counts().head(10).plot(kind = 'barh')\n",
    "# df.prod1.sort_values.value_counts().head(10).plot(kind = 'barh')\n"
   ]
  },
  {
   "cell_type": "code",
   "execution_count": 19,
   "metadata": {
    "scrolled": true
   },
   "outputs": [
    {
     "data": {
      "text/html": [
       "<div>\n",
       "<style>\n",
       "    .dataframe thead tr:only-child th {\n",
       "        text-align: right;\n",
       "    }\n",
       "\n",
       "    .dataframe thead th {\n",
       "        text-align: left;\n",
       "    }\n",
       "\n",
       "    .dataframe tbody tr th {\n",
       "        vertical-align: top;\n",
       "    }\n",
       "</style>\n",
       "<table border=\"1\" class=\"dataframe\">\n",
       "  <thead>\n",
       "    <tr style=\"text-align: right;\">\n",
       "      <th></th>\n",
       "      <th>CPSC Case #</th>\n",
       "      <th>trmt_date</th>\n",
       "      <th>psu</th>\n",
       "      <th>weight</th>\n",
       "      <th>stratum</th>\n",
       "      <th>age</th>\n",
       "      <th>sex</th>\n",
       "      <th>race</th>\n",
       "      <th>race_other</th>\n",
       "      <th>diag</th>\n",
       "      <th>diag_other</th>\n",
       "      <th>body_part</th>\n",
       "      <th>disposition</th>\n",
       "      <th>location</th>\n",
       "      <th>fmv</th>\n",
       "      <th>prod1</th>\n",
       "      <th>prod2</th>\n",
       "      <th>narr1</th>\n",
       "      <th>narr2</th>\n",
       "    </tr>\n",
       "  </thead>\n",
       "  <tbody>\n",
       "    <tr>\n",
       "      <th>0</th>\n",
       "      <td>150733174</td>\n",
       "      <td>07/11/2015</td>\n",
       "      <td>38</td>\n",
       "      <td>15.7762</td>\n",
       "      <td>V</td>\n",
       "      <td>5</td>\n",
       "      <td>1</td>\n",
       "      <td>NaN</td>\n",
       "      <td>NaN</td>\n",
       "      <td>57</td>\n",
       "      <td>NaN</td>\n",
       "      <td>33</td>\n",
       "      <td>1</td>\n",
       "      <td>9</td>\n",
       "      <td>0</td>\n",
       "      <td>1267</td>\n",
       "      <td>NaN</td>\n",
       "      <td>5 YR OLD MALE PLAYING SOCCER BLOCKING BALL AND...</td>\n",
       "      <td>X IT</td>\n",
       "    </tr>\n",
       "    <tr>\n",
       "      <th>1</th>\n",
       "      <td>150734723</td>\n",
       "      <td>07/06/2015</td>\n",
       "      <td>43</td>\n",
       "      <td>83.2157</td>\n",
       "      <td>S</td>\n",
       "      <td>36</td>\n",
       "      <td>1</td>\n",
       "      <td>White</td>\n",
       "      <td>NaN</td>\n",
       "      <td>57</td>\n",
       "      <td>NaN</td>\n",
       "      <td>34</td>\n",
       "      <td>1</td>\n",
       "      <td>1</td>\n",
       "      <td>0</td>\n",
       "      <td>1439</td>\n",
       "      <td>4057.0</td>\n",
       "      <td>L WRIST FX(?)/36YOWM 2 WKS AGO@G-FRIENDS HM,MO...</td>\n",
       "      <td>AN OBJECT&amp;TWISTED WRIST TRYING TO CONTOL MOWER...</td>\n",
       "    </tr>\n",
       "    <tr>\n",
       "      <th>2</th>\n",
       "      <td>150817487</td>\n",
       "      <td>08/02/2015</td>\n",
       "      <td>51</td>\n",
       "      <td>74.8813</td>\n",
       "      <td>L</td>\n",
       "      <td>20</td>\n",
       "      <td>2</td>\n",
       "      <td>NaN</td>\n",
       "      <td>NaN</td>\n",
       "      <td>71</td>\n",
       "      <td>OTITIS EXTERNA</td>\n",
       "      <td>94</td>\n",
       "      <td>1</td>\n",
       "      <td>0</td>\n",
       "      <td>0</td>\n",
       "      <td>3274</td>\n",
       "      <td>NaN</td>\n",
       "      <td>20 YO F C/O EAR PAIN 1 DAY SAS WAS SWIMMING YE...</td>\n",
       "      <td>T TRIED TO USE ***S TO REMOVE WAX MADE IT WORS...</td>\n",
       "    </tr>\n",
       "    <tr>\n",
       "      <th>3</th>\n",
       "      <td>150717776</td>\n",
       "      <td>06/26/2015</td>\n",
       "      <td>41</td>\n",
       "      <td>15.7762</td>\n",
       "      <td>V</td>\n",
       "      <td>61</td>\n",
       "      <td>1</td>\n",
       "      <td>NaN</td>\n",
       "      <td>NaN</td>\n",
       "      <td>71</td>\n",
       "      <td>PAIN</td>\n",
       "      <td>35</td>\n",
       "      <td>1</td>\n",
       "      <td>0</td>\n",
       "      <td>0</td>\n",
       "      <td>611</td>\n",
       "      <td>NaN</td>\n",
       "      <td>61YOM W/KNEE PAIN S/P FALLING IN SHOWER 2 DAYS...</td>\n",
       "      <td>NaN</td>\n",
       "    </tr>\n",
       "    <tr>\n",
       "      <th>4</th>\n",
       "      <td>150721694</td>\n",
       "      <td>07/04/2015</td>\n",
       "      <td>42</td>\n",
       "      <td>74.8813</td>\n",
       "      <td>L</td>\n",
       "      <td>88</td>\n",
       "      <td>2</td>\n",
       "      <td>Other</td>\n",
       "      <td>HISPANIC</td>\n",
       "      <td>62</td>\n",
       "      <td>NaN</td>\n",
       "      <td>75</td>\n",
       "      <td>1</td>\n",
       "      <td>0</td>\n",
       "      <td>0</td>\n",
       "      <td>Bathroom stall</td>\n",
       "      <td>1807.0</td>\n",
       "      <td>88YOF PAIN TO HEAD WHEN FALL TO FLOOR WHEN WAL...</td>\n",
       "      <td>DOOR AND FELL.DENIES LOC. DX HEAD INJURY</td>\n",
       "    </tr>\n",
       "  </tbody>\n",
       "</table>\n",
       "</div>"
      ],
      "text/plain": [
       "   CPSC Case #   trmt_date  psu   weight stratum  age  sex   race race_other  \\\n",
       "0    150733174  07/11/2015   38  15.7762       V    5    1    NaN        NaN   \n",
       "1    150734723  07/06/2015   43  83.2157       S   36    1  White        NaN   \n",
       "2    150817487  08/02/2015   51  74.8813       L   20    2    NaN        NaN   \n",
       "3    150717776  06/26/2015   41  15.7762       V   61    1    NaN        NaN   \n",
       "4    150721694  07/04/2015   42  74.8813       L   88    2  Other   HISPANIC   \n",
       "\n",
       "   diag      diag_other  body_part  disposition  location  fmv  \\\n",
       "0    57             NaN         33            1         9    0   \n",
       "1    57             NaN         34            1         1    0   \n",
       "2    71  OTITIS EXTERNA         94            1         0    0   \n",
       "3    71            PAIN         35            1         0    0   \n",
       "4    62             NaN         75            1         0    0   \n",
       "\n",
       "            prod1   prod2                                              narr1  \\\n",
       "0            1267     NaN  5 YR OLD MALE PLAYING SOCCER BLOCKING BALL AND...   \n",
       "1            1439  4057.0  L WRIST FX(?)/36YOWM 2 WKS AGO@G-FRIENDS HM,MO...   \n",
       "2            3274     NaN  20 YO F C/O EAR PAIN 1 DAY SAS WAS SWIMMING YE...   \n",
       "3             611     NaN  61YOM W/KNEE PAIN S/P FALLING IN SHOWER 2 DAYS...   \n",
       "4  Bathroom stall  1807.0  88YOF PAIN TO HEAD WHEN FALL TO FLOOR WHEN WAL...   \n",
       "\n",
       "                                               narr2  \n",
       "0                                               X IT  \n",
       "1  AN OBJECT&TWISTED WRIST TRYING TO CONTOL MOWER...  \n",
       "2  T TRIED TO USE ***S TO REMOVE WAX MADE IT WORS...  \n",
       "3                                                NaN  \n",
       "4           DOOR AND FELL.DENIES LOC. DX HEAD INJURY  "
      ]
     },
     "execution_count": 19,
     "metadata": {},
     "output_type": "execute_result"
    }
   ],
   "source": [
    "replacements = {\n",
    "    4057: 'Alter',\n",
    "    1893: 'Bathroom stall',\n",
    "    1884: 'Ceilings',\n",
    "    4074: 'Baby chairs or seats, other or not specified',\n",
    "    1211: 'Football',\n",
    "    5040: 'Bicycles',\n",
    "    1205: 'Basketball',\n",
    "    4076: 'Bedsprings',\n",
    "    1807: 'Building materials, Floors or flooring materials',\n",
    "    1842: 'Stairs'\n",
    "}\n",
    "\n",
    "df.prod1.replace(replacements, inplace=True)\n",
    "df.head()\n"
   ]
  },
  {
   "cell_type": "code",
   "execution_count": 20,
   "metadata": {},
   "outputs": [
    {
     "data": {
      "text/plain": [
       "<matplotlib.axes._subplots.AxesSubplot at 0x108034c88>"
      ]
     },
     "execution_count": 20,
     "metadata": {},
     "output_type": "execute_result"
    },
    {
     "data": {
      "image/png": "[encoded data removed]",
      "text/plain": [
       "<matplotlib.figure.Figure at 0x1054af4e0>"
      ]
     },
     "metadata": {},
     "output_type": "display_data"
    }
   ],
   "source": [
    "df.prod1.value_counts().head(10).plot(kind = 'barh')\n"
   ]
  },
  {
   "cell_type": "code",
   "execution_count": null,
   "metadata": {
    "collapsed": true
   },
   "outputs": [],
   "source": [
    "# #Find fell off bicycle, fall off bike, etc\n",
    "# df[df.narr1.str.contains(\"F[AE]LL.*BI[CK]\")]\n"
   ]
  },
  {
   "cell_type": "markdown",
   "metadata": {
    "collapsed": true
   },
   "source": [
    "# Cleaning up `race_other`"
   ]
  },
  {
   "cell_type": "markdown",
   "metadata": {},
   "source": [
    "## `race_other` is a field for free-form race input. How many patients have a race of \"HISPANIC\"?"
   ]
  },
  {
   "cell_type": "code",
   "execution_count": 21,
   "metadata": {
    "scrolled": true
   },
   "outputs": [
    {
     "data": {
      "text/plain": [
       "14389"
      ]
     },
     "execution_count": 21,
     "metadata": {},
     "output_type": "execute_result"
    }
   ],
   "source": [
    "# df.race_other.value_counts()\n",
    "df[df['race_other']==\"HISPANIC\"].shape[0]\n"
   ]
  },
  {
   "cell_type": "markdown",
   "metadata": {},
   "source": [
    "## What are the top 5 most popular \"other\" races?"
   ]
  },
  {
   "cell_type": "code",
   "execution_count": 22,
   "metadata": {},
   "outputs": [
    {
     "data": {
      "text/plain": [
       "HISPANIC        14389\n",
       "MULTI-RACIAL     1727\n",
       "UNKNOWN          1554\n",
       "HISP             1334\n",
       "NS                495\n",
       "Name: race_other, dtype: int64"
      ]
     },
     "execution_count": 22,
     "metadata": {},
     "output_type": "execute_result"
    }
   ],
   "source": [
    "df.race_other.value_counts().head()\n"
   ]
  },
  {
   "cell_type": "markdown",
   "metadata": {},
   "source": [
    "## Searching for multiracial patients\n",
    "\n",
    "Wow, this data entry is terrible. “Multiracial” is spelled as **MULT RACIAL**, **MULTIPLE RACIAL**, and many more. How many different spellings can you find? **Use only one line to find the spellings.**\n",
    "\n",
    "- Tip: Be sure to **ignore the na values**.\n",
    "- Tip: You should probably find the multiracial-ish rows and then `value_counts` their `other_race`\n",
    "- Tip: Maybe... ask me about .str.contains support for regular expressions?"
   ]
  },
  {
   "cell_type": "code",
   "execution_count": 23,
   "metadata": {},
   "outputs": [
    {
     "data": {
      "text/plain": [
       "MULTI-RACIAL       1727\n",
       "MULTIRACIAL         146\n",
       "MULTI                22\n",
       "MULTI RACIAL         12\n",
       "MULT RACIAL           1\n",
       "MULTIPLE RACIAL       1\n",
       "MULTRACIAL            1\n",
       "MULTIRACAIL           1\n",
       "Name: race_other, dtype: int64"
      ]
     },
     "execution_count": 23,
     "metadata": {},
     "output_type": "execute_result"
    }
   ],
   "source": [
    "df[df.race_other.str.contains(r\"^MU.*\", na=False)].race_other.value_counts()\n"
   ]
  },
  {
   "cell_type": "markdown",
   "metadata": {},
   "source": [
    "## Replace all of those spellings with “MULTIRACIAL.”\n",
    "\n",
    "Confirm that you’ve ended up with about 1900 MULTIRACIAL rows (yours might be anywhere between 1899-1910, depending on how many spellings you caught)"
   ]
  },
  {
   "cell_type": "code",
   "execution_count": 24,
   "metadata": {},
   "outputs": [
    {
     "data": {
      "text/plain": [
       "MULTIRACIAL    1911\n",
       "Name: race_other, dtype: int64"
      ]
     },
     "execution_count": 24,
     "metadata": {},
     "output_type": "execute_result"
    }
   ],
   "source": [
    "df.race_other.replace(('MULTI-RACIAL', 'MULTI', 'MULTI RACIAL', 'MULTIRACAIL', 'MULT RACIAL', 'MULTRACIAL', 'MULTIPLE RACIAL'), 'MULTIRACIAL', inplace = True)\n",
    "df[df.race_other.str.contains(r\"^MU.*\", na=False)].race_other.value_counts()\n"
   ]
  },
  {
   "cell_type": "markdown",
   "metadata": {},
   "source": [
    "## Do the same thing with misspellings of \"Unknown\"\n",
    "\n",
    "You should end up with around 1660-1670 UNKNOWN entries"
   ]
  },
  {
   "cell_type": "code",
   "execution_count": 25,
   "metadata": {
    "scrolled": false
   },
   "outputs": [
    {
     "data": {
      "text/plain": [
       "UNKNOWN     1554\n",
       "UKNOWN        14\n",
       "UNKNKOWN       1\n",
       "UNKNONW        1\n",
       "UNKNOKWN       1\n",
       "UNKNONWN       1\n",
       "UNNOWN         1\n",
       "UINKNOWN       1\n",
       "UNKOWN         1\n",
       "Name: race_other, dtype: int64"
      ]
     },
     "execution_count": 25,
     "metadata": {},
     "output_type": "execute_result"
    }
   ],
   "source": [
    "df[df.race_other.str.contains(r\"^U.*W\", na=False)].race_other.value_counts()\n",
    "# df[df.race_other.str.contains(\"u.*n\", na=False)].race_other.value_counts()\n"
   ]
  },
  {
   "cell_type": "code",
   "execution_count": 26,
   "metadata": {},
   "outputs": [
    {
     "data": {
      "text/plain": [
       "Unknown      1682\n",
       "UKRAINIAN       2\n",
       "UKRANIAN        2\n",
       "Name: race_other, dtype: int64"
      ]
     },
     "execution_count": 26,
     "metadata": {},
     "output_type": "execute_result"
    }
   ],
   "source": [
    "df.race_other.replace(('UNKNOWN', 'UNKN', 'UKNOWN', 'UNK', 'UNKNOKWN', 'UNKNONW', 'UNKNONWN','UNKOWN','UNKNKOWN','UNNOWN','UINKNOWN'), 'Unknown', inplace = True)\n",
    "df[df.race_other.str.contains(\"^U.*\", na=False)].race_other.value_counts()\n",
    "\n",
    "\n",
    "# df.race.replace('Not Stated in ED record', np.nan, inplace = True)\n"
   ]
  },
  {
   "cell_type": "markdown",
   "metadata": {},
   "source": [
    "## What variations on HISPANIC can you find? Standardize them to HISPANIC."
   ]
  },
  {
   "cell_type": "code",
   "execution_count": 27,
   "metadata": {},
   "outputs": [
    {
     "data": {
      "text/plain": [
       "HISPANIC           14389\n",
       "HISPNANIC              3\n",
       "HISPANIC/LATINO        1\n",
       "QRYOMHISPANIC          1\n",
       "HISPPANIC              1\n",
       "HISPNIC                1\n",
       "HSIPANIC               1\n",
       "HISPAINC               1\n",
       "HISPAINIC              1\n",
       "HISPAANIC              1\n",
       "AMHARIC                1\n",
       "HISPANIC S/P B         1\n",
       "Name: race_other, dtype: int64"
      ]
     },
     "execution_count": 27,
     "metadata": {},
     "output_type": "execute_result"
    }
   ],
   "source": [
    "df[df.race_other.str.contains(\"H.*C\", na=False)].race_other.value_counts()\n"
   ]
  },
  {
   "cell_type": "code",
   "execution_count": 28,
   "metadata": {},
   "outputs": [],
   "source": [
    "df.race_other.replace(('HISPNANIC', 'HISPPANIC', 'HISPNIC', 'HISPANIC/LATINO', 'HISPAINC', 'HISPANIC S/P B', 'HISPAANIC','HSIPANIC','HISPAINIC'), 'HISPANIC', inplace = True)\n"
   ]
  },
  {
   "cell_type": "markdown",
   "metadata": {},
   "source": [
    "## Now try counting the number of hispanic people again."
   ]
  },
  {
   "cell_type": "code",
   "execution_count": 29,
   "metadata": {},
   "outputs": [
    {
     "data": {
      "text/plain": [
       "HISPANIC         14400\n",
       "QRYOMHISPANIC        1\n",
       "AMHARIC              1\n",
       "Name: race_other, dtype: int64"
      ]
     },
     "execution_count": 29,
     "metadata": {},
     "output_type": "execute_result"
    }
   ],
   "source": [
    "df[df.race_other.str.contains(\"H.*C\", na=False)].race_other.value_counts()\n"
   ]
  },
  {
   "cell_type": "markdown",
   "metadata": {},
   "source": [
    "## Seems like a lot! Update their race column to be ‘Hispanic’ instead of “Other”\n",
    "\n",
    "You'll try to do this using skills you know, but pandas will probably yell at you. You get to learn this new thing called `loc` now! \n",
    "\n",
    "```\n",
    "df.loc[df.country == 'Angola', \"continent\"] = \"Africa\"\n",
    "```\n",
    "\n",
    "This updates the `continent` column to be `Africa` for every row where `country == 'Angola'`. You CANNOT do the following, which is probably what you've wanted to do:\n",
    "\n",
    "```\n",
    "df[df.country == 'Angola']['continent'] = 'Africa'\n",
    "```\n",
    "\n",
    "And now you know."
   ]
  },
  {
   "cell_type": "code",
   "execution_count": 30,
   "metadata": {},
   "outputs": [
    {
     "data": {
      "text/plain": [
       "White                               145131\n",
       "NaN                                 138592\n",
       "Black/African American               48848\n",
       "Hispanic                             14400\n",
       "Other                                 5270\n",
       "Asian                                 4124\n",
       "American Indian/Alaska Native          998\n",
       "Native Hawaiian/Pacific Islander       364\n",
       "Name: race, dtype: int64"
      ]
     },
     "execution_count": 30,
     "metadata": {},
     "output_type": "execute_result"
    }
   ],
   "source": [
    "df.loc[df.race_other == 'HISPANIC', \"race\"] = \"Hispanic\"\n",
    "df.race.value_counts(dropna=False)\n"
   ]
  },
  {
   "cell_type": "markdown",
   "metadata": {},
   "source": [
    "## Graph the frequency of each race in the dataset"
   ]
  },
  {
   "cell_type": "code",
   "execution_count": 31,
   "metadata": {
    "scrolled": true
   },
   "outputs": [
    {
     "data": {
      "text/plain": [
       "<matplotlib.axes._subplots.AxesSubplot at 0x1054db940>"
      ]
     },
     "execution_count": 31,
     "metadata": {},
     "output_type": "execute_result"
    },
    {
     "data": {
      "image/png": "[encoded data removed]",
      "text/plain": [
       "<matplotlib.figure.Figure at 0x10903beb8>"
      ]
     },
     "metadata": {},
     "output_type": "display_data"
    }
   ],
   "source": [
    "df.race.value_counts().plot(kind='barh')\n"
   ]
  },
  {
   "cell_type": "markdown",
   "metadata": {},
   "source": [
    "## Find every injury involving unicycles."
   ]
  },
  {
   "cell_type": "code",
   "execution_count": 32,
   "metadata": {
    "scrolled": true
   },
   "outputs": [
    {
     "data": {
      "text/html": [
       "<div>\n",
       "<style>\n",
       "    .dataframe thead tr:only-child th {\n",
       "        text-align: right;\n",
       "    }\n",
       "\n",
       "    .dataframe thead th {\n",
       "        text-align: left;\n",
       "    }\n",
       "\n",
       "    .dataframe tbody tr th {\n",
       "        vertical-align: top;\n",
       "    }\n",
       "</style>\n",
       "<table border=\"1\" class=\"dataframe\">\n",
       "  <thead>\n",
       "    <tr style=\"text-align: right;\">\n",
       "      <th></th>\n",
       "      <th>CPSC Case #</th>\n",
       "      <th>trmt_date</th>\n",
       "      <th>psu</th>\n",
       "      <th>weight</th>\n",
       "      <th>stratum</th>\n",
       "      <th>age</th>\n",
       "      <th>sex</th>\n",
       "      <th>race</th>\n",
       "      <th>race_other</th>\n",
       "      <th>diag</th>\n",
       "      <th>diag_other</th>\n",
       "      <th>body_part</th>\n",
       "      <th>disposition</th>\n",
       "      <th>location</th>\n",
       "      <th>fmv</th>\n",
       "      <th>prod1</th>\n",
       "      <th>prod2</th>\n",
       "      <th>narr1</th>\n",
       "      <th>narr2</th>\n",
       "    </tr>\n",
       "  </thead>\n",
       "  <tbody>\n",
       "    <tr>\n",
       "      <th>4171</th>\n",
       "      <td>150744255</td>\n",
       "      <td>06/23/2015</td>\n",
       "      <td>8</td>\n",
       "      <td>5.6748</td>\n",
       "      <td>C</td>\n",
       "      <td>12</td>\n",
       "      <td>2</td>\n",
       "      <td>White</td>\n",
       "      <td>NaN</td>\n",
       "      <td>57</td>\n",
       "      <td>NaN</td>\n",
       "      <td>33</td>\n",
       "      <td>1</td>\n",
       "      <td>0</td>\n",
       "      <td>0</td>\n",
       "      <td>1283</td>\n",
       "      <td>NaN</td>\n",
       "      <td>12YOF FELL OFF A UNICYCLE; FOREARM FX.</td>\n",
       "      <td>NaN</td>\n",
       "    </tr>\n",
       "    <tr>\n",
       "      <th>46499</th>\n",
       "      <td>150502967</td>\n",
       "      <td>04/22/2015</td>\n",
       "      <td>41</td>\n",
       "      <td>15.0591</td>\n",
       "      <td>V</td>\n",
       "      <td>62</td>\n",
       "      <td>1</td>\n",
       "      <td>NaN</td>\n",
       "      <td>NaN</td>\n",
       "      <td>57</td>\n",
       "      <td>NaN</td>\n",
       "      <td>33</td>\n",
       "      <td>4</td>\n",
       "      <td>9</td>\n",
       "      <td>0</td>\n",
       "      <td>1283</td>\n",
       "      <td>NaN</td>\n",
       "      <td>62YOM RIDING A UNICYCLE AT THE PARK AND FELL. ...</td>\n",
       "      <td>NaN</td>\n",
       "    </tr>\n",
       "    <tr>\n",
       "      <th>51052</th>\n",
       "      <td>150337697</td>\n",
       "      <td>03/15/2015</td>\n",
       "      <td>67</td>\n",
       "      <td>15.0591</td>\n",
       "      <td>V</td>\n",
       "      <td>9</td>\n",
       "      <td>2</td>\n",
       "      <td>NaN</td>\n",
       "      <td>NaN</td>\n",
       "      <td>71</td>\n",
       "      <td>ARM PAIN</td>\n",
       "      <td>33</td>\n",
       "      <td>1</td>\n",
       "      <td>8</td>\n",
       "      <td>0</td>\n",
       "      <td>1283</td>\n",
       "      <td>NaN</td>\n",
       "      <td>DX PN RT ARM 9YOF PATIENT WITH RT ARM PN SHE H...</td>\n",
       "      <td>FELL OFF UNICYCLE AT SCHOOL  NOW WITH ARM PAIN RT</td>\n",
       "    </tr>\n",
       "    <tr>\n",
       "      <th>119639</th>\n",
       "      <td>151223619</td>\n",
       "      <td>12/08/2015</td>\n",
       "      <td>51</td>\n",
       "      <td>74.8813</td>\n",
       "      <td>L</td>\n",
       "      <td>56</td>\n",
       "      <td>1</td>\n",
       "      <td>Black/African American</td>\n",
       "      <td>NaN</td>\n",
       "      <td>71</td>\n",
       "      <td>PAIN</td>\n",
       "      <td>35</td>\n",
       "      <td>6</td>\n",
       "      <td>0</td>\n",
       "      <td>0</td>\n",
       "      <td>1283</td>\n",
       "      <td>1807.0</td>\n",
       "      <td>56 YO M PT WAS TRYING TO TEACH A COUPLE OF KID...</td>\n",
       "      <td>FELL BACKWARDS ONTO FLOOR C/O LEFT KNEE PAIN W...</td>\n",
       "    </tr>\n",
       "    <tr>\n",
       "      <th>180961</th>\n",
       "      <td>150919495</td>\n",
       "      <td>08/18/2015</td>\n",
       "      <td>93</td>\n",
       "      <td>15.7762</td>\n",
       "      <td>V</td>\n",
       "      <td>52</td>\n",
       "      <td>1</td>\n",
       "      <td>White</td>\n",
       "      <td>NaN</td>\n",
       "      <td>53</td>\n",
       "      <td>NaN</td>\n",
       "      <td>79</td>\n",
       "      <td>1</td>\n",
       "      <td>4</td>\n",
       "      <td>0</td>\n",
       "      <td>1283</td>\n",
       "      <td>NaN</td>\n",
       "      <td>52 YOM WAS UNICYCLING DOWN STREET WHEN HE WAS ...</td>\n",
       "      <td>AT LOW SPEED.  DX:  COCCYGEAL CONT.</td>\n",
       "    </tr>\n",
       "  </tbody>\n",
       "</table>\n",
       "</div>"
      ],
      "text/plain": [
       "        CPSC Case #   trmt_date  psu   weight stratum  age  sex  \\\n",
       "4171      150744255  06/23/2015    8   5.6748       C   12    2   \n",
       "46499     150502967  04/22/2015   41  15.0591       V   62    1   \n",
       "51052     150337697  03/15/2015   67  15.0591       V    9    2   \n",
       "119639    151223619  12/08/2015   51  74.8813       L   56    1   \n",
       "180961    150919495  08/18/2015   93  15.7762       V   52    1   \n",
       "\n",
       "                          race race_other  diag diag_other  body_part  \\\n",
       "4171                     White        NaN    57        NaN         33   \n",
       "46499                      NaN        NaN    57        NaN         33   \n",
       "51052                      NaN        NaN    71   ARM PAIN         33   \n",
       "119639  Black/African American        NaN    71       PAIN         35   \n",
       "180961                   White        NaN    53        NaN         79   \n",
       "\n",
       "        disposition  location  fmv prod1   prod2  \\\n",
       "4171              1         0    0  1283     NaN   \n",
       "46499             4         9    0  1283     NaN   \n",
       "51052             1         8    0  1283     NaN   \n",
       "119639            6         0    0  1283  1807.0   \n",
       "180961            1         4    0  1283     NaN   \n",
       "\n",
       "                                                    narr1  \\\n",
       "4171               12YOF FELL OFF A UNICYCLE; FOREARM FX.   \n",
       "46499   62YOM RIDING A UNICYCLE AT THE PARK AND FELL. ...   \n",
       "51052   DX PN RT ARM 9YOF PATIENT WITH RT ARM PN SHE H...   \n",
       "119639  56 YO M PT WAS TRYING TO TEACH A COUPLE OF KID...   \n",
       "180961  52 YOM WAS UNICYCLING DOWN STREET WHEN HE WAS ...   \n",
       "\n",
       "                                                    narr2  \n",
       "4171                                                  NaN  \n",
       "46499                                                 NaN  \n",
       "51052   FELL OFF UNICYCLE AT SCHOOL  NOW WITH ARM PAIN RT  \n",
       "119639  FELL BACKWARDS ONTO FLOOR C/O LEFT KNEE PAIN W...  \n",
       "180961                AT LOW SPEED.  DX:  COCCYGEAL CONT.  "
      ]
     },
     "execution_count": 32,
     "metadata": {},
     "output_type": "execute_result"
    }
   ],
   "source": [
    "# unicycle : 1283\n",
    "df[df['prod1']==1283]\n"
   ]
  },
  {
   "cell_type": "markdown",
   "metadata": {},
   "source": [
    "## What is the racial breakdown of people involved in unicycle accidents?\n",
    "\n",
    "I want a **percentage**, and I want that percentage to include unknowns/NaN values."
   ]
  },
  {
   "cell_type": "code",
   "execution_count": 33,
   "metadata": {},
   "outputs": [
    {
     "data": {
      "text/plain": [
       "White                     40.0\n",
       "NaN                       40.0\n",
       "Black/African American    20.0\n",
       "Name: race, dtype: float64"
      ]
     },
     "execution_count": 33,
     "metadata": {},
     "output_type": "execute_result"
    }
   ],
   "source": [
    "df[df['prod1']==1283].race.value_counts(dropna=False, normalize=True)*100\n"
   ]
  },
  {
   "cell_type": "markdown",
   "metadata": {},
   "source": [
    "## How about injuries with toboggans?\n",
    "\n",
    "Is the racial breakdown significantly different than the racial breakdown of all patients?"
   ]
  },
  {
   "cell_type": "code",
   "execution_count": 34,
   "metadata": {},
   "outputs": [
    {
     "data": {
      "text/plain": [
       "NaN         55.555556\n",
       "White       33.333333\n",
       "Hispanic    11.111111\n",
       "Name: race, dtype: float64"
      ]
     },
     "execution_count": 34,
     "metadata": {},
     "output_type": "execute_result"
    }
   ],
   "source": [
    "#  toboggan : 1273\n",
    "df[df['prod1']==1273]\n",
    "df[df['prod1']==1273].race.value_counts(dropna=False, normalize=True)*100\n"
   ]
  },
  {
   "cell_type": "markdown",
   "metadata": {},
   "source": [
    "## Find the top 5 most dangerous products\n",
    "\n",
    "Just use the `prod1` column."
   ]
  },
  {
   "cell_type": "code",
   "execution_count": 35,
   "metadata": {},
   "outputs": [
    {
     "data": {
      "text/plain": [
       "Stairs                                              28609\n",
       "Building materials, Floors or flooring materials    28255\n",
       "Bedsprings                                          16707\n",
       "Basketball                                          14095\n",
       "Bicycles                                            12737\n",
       "Name: prod1, dtype: int64"
      ]
     },
     "execution_count": 35,
     "metadata": {},
     "output_type": "execute_result"
    }
   ],
   "source": [
    "df['prod1'].value_counts().head()\n"
   ]
  },
  {
   "cell_type": "markdown",
   "metadata": {},
   "source": [
    "## Find the top 5 most dangerous products by race\n",
    "\n",
    "This is that weird groupby thing that you can either memorize or cut and paste every time. If you ask I'll tell it to you and you won't have to search!"
   ]
  },
  {
   "cell_type": "code",
   "execution_count": 36,
   "metadata": {},
   "outputs": [
    {
     "data": {
      "text/plain": [
       "race                              prod1                                           \n",
       "American Indian/Alaska Native     Building materials, Floors or flooring materials       92\n",
       "                                  Stairs                                                 70\n",
       "                                  Bicycles                                               58\n",
       "                                  Bedsprings                                             52\n",
       "                                  Basketball                                             31\n",
       "Asian                             Stairs                                                310\n",
       "                                  Building materials, Floors or flooring materials      253\n",
       "                                  Bedsprings                                            219\n",
       "                                  Basketball                                            203\n",
       "                                  Bicycles                                              198\n",
       "Black/African American            Stairs                                               4377\n",
       "                                  Basketball                                           4249\n",
       "                                  Football                                             3030\n",
       "                                  Building materials, Floors or flooring materials     2608\n",
       "                                  Bedsprings                                           2292\n",
       "Hispanic                          Stairs                                                979\n",
       "                                  1267                                                  833\n",
       "                                  Bedsprings                                            763\n",
       "                                  Building materials, Floors or flooring materials      667\n",
       "                                  Bicycles                                              585\n",
       "Native Hawaiian/Pacific Islander  Stairs                                                 28\n",
       "                                  Building materials, Floors or flooring materials       27\n",
       "                                  Football                                               20\n",
       "                                  Basketball                                             16\n",
       "                                  Bicycles                                               15\n",
       "Other                             Building materials, Floors or flooring materials      342\n",
       "                                  Bedsprings                                            272\n",
       "                                  Stairs                                                269\n",
       "                                  Basketball                                            236\n",
       "                                  1267                                                  216\n",
       "White                             Building materials, Floors or flooring materials    11649\n",
       "                                  Stairs                                              11302\n",
       "                                  Bedsprings                                           6454\n",
       "                                  Bicycles                                             4975\n",
       "                                  Football                                             4088\n",
       "Name: prod1, dtype: int64"
      ]
     },
     "execution_count": 36,
     "metadata": {},
     "output_type": "execute_result"
    }
   ],
   "source": [
    "df.groupby('race')['prod1'].value_counts().groupby(level=0).head(5)\n"
   ]
  },
  {
   "cell_type": "code",
   "execution_count": null,
   "metadata": {
    "collapsed": true
   },
   "outputs": [],
   "source": []
  }
 ],
 "metadata": {
  "kernelspec": {
   "display_name": "Python 3",
   "language": "python",
   "name": "python3"
  },
  "language_info": {
   "codemirror_mode": {
    "name": "ipython",
    "version": 3
   },
   "file_extension": ".py",
   "mimetype": "text/x-python",
   "name": "python",
   "nbconvert_exporter": "python",
   "pygments_lexer": "ipython3",
   "version": "3.6.1"
  }
 },
 "nbformat": 4,
 "nbformat_minor": 2
}
