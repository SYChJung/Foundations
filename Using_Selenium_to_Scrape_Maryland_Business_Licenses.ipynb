{
 "cells": [
  {
   "cell_type": "markdown",
   "metadata": {},
   "source": [
    "# Scraping Maryland Business Licenses with Selenium\n",
    "\n",
    "Maryland has a [great portal](https://jportal.mdcourts.gov/license/pbPublicSearch.jsp) for searching business licenses, but the only problem is you have to check a box in order to get in.\n",
    "\n",
    "1. Try to visit [the public search page](https://jportal.mdcourts.gov/license/pbPublicSearch.jsp)\n",
    "2. Get redirected to a \"I agree to this\" page. Click that you've read the disclaimer, click Enter the Site.\n",
    "3. Click \"Search License Records\" down at the bottom of the page\n",
    "4. You're now on the search page! From the \"Jurisdiction\" dropdown, select \"Statewide\"\n",
    "5. In the \"Trade Name\" field, type \"Vap%\" to try to find vape shops\n",
    "6. Click \"Next\" in the bottom right-hand corner to go to the next page\n",
    "7. Click \"Click for detail\" to see the details for a specific business license.\n",
    "\n",
    "That's a lot of stuff! **Let's get to work.**"
   ]
  },
  {
   "cell_type": "code",
   "execution_count": 1,
   "metadata": {
    "collapsed": true
   },
   "outputs": [],
   "source": [
    "# TO USE AN ENTER\n",
    "\n",
    "# from selenium.webdriver.common.keys import Keys\n",
    "# element = driver.find_element_by_class_name(\"q\")\n",
    "# element.send_keys(Keys.RETURN)\n",
    "\n",
    "# TO USE A SELECT:\n",
    "\n",
    "# from selenium.webdriver.support.ui import Select\n",
    "# select_tag = driver.find_element_by_name('phy_city')\n",
    "# select = Select(select_tag)\n",
    "# select.select_by_visible_text('Houston')\n",
    "\n",
    "# # keep going until you get an error\n",
    "# count = 0\n",
    "# while True:\n",
    "#     try :\n",
    "#         # Hey to get that link and click it\n",
    "#         driver.get_the_thing(\"Next\").click()\n",
    "#     except :\n",
    "#         # oh did you got a error? Exit the while loop break\n",
    "#     count = count + 1"
   ]
  },
  {
   "cell_type": "markdown",
   "metadata": {},
   "source": [
    "## Preparation\n",
    "\n",
    "### When you search for a business license, what URL should Selenium try to visit first?"
   ]
  },
  {
   "cell_type": "code",
   "execution_count": null,
   "metadata": {
    "collapsed": true
   },
   "outputs": [],
   "source": [
    "###"
   ]
  },
  {
   "cell_type": "code",
   "execution_count": null,
   "metadata": {
    "collapsed": true
   },
   "outputs": [],
   "source": [
    "###"
   ]
  },
  {
   "cell_type": "markdown",
   "metadata": {},
   "source": [
    "**It isn't going to work, though! It's going to redirect to that intro page.** You can use *Incognito mode* to go back through the \"Check the box, etc\" series of pages.\n",
    "\n",
    "### How will you identify the checkbox to check it?\n",
    "\n",
    "Selenium can find elements by:\n",
    "\n",
    "- name\n",
    "- Class\n",
    "- ID\n",
    "- CSS selector (**ASK ME WHAT THIS IS** if you don't know)\n",
    "- XPath (**ASK ME WHAT THIS IS** because you definitely don't know)\n",
    "- Link text\n",
    "- Partial link text\n",
    "\n",
    "So in other words, what's unique about this element?\n",
    "\n",
    "- *TIP: I have a secret awesome way to do this, but you have to ask.*"
   ]
  },
  {
   "cell_type": "code",
   "execution_count": null,
   "metadata": {
    "collapsed": true
   },
   "outputs": [],
   "source": [
    "###"
   ]
  },
  {
   "cell_type": "markdown",
   "metadata": {},
   "source": [
    "### How will you identify the button to select it, or the form to submit it?\n",
    "\n",
    "Selenium can submit forms by either\n",
    "\n",
    "- Selecting the form and using `.submit()`, or\n",
    "- Selecting the button and using `.click()`\n",
    "\n",
    "You only need to be able to get **one, not both.**"
   ]
  },
  {
   "cell_type": "code",
   "execution_count": 1,
   "metadata": {
    "collapsed": true
   },
   "outputs": [],
   "source": [
    "from selenium import webdriver\n",
    "\n",
    "chrome_options = webdriver.ChromeOptions()\n",
    "chrome_options.add_argument(\"- - icognito\")\n",
    "\n",
    "driver = webdriver.Chrome(chrome_options = chrome_options)\n",
    "driver.get(\"https://jportal.mdcourts.gov/license/index_disclaimer.jsp\")\n"
   ]
  },
  {
   "cell_type": "code",
   "execution_count": 2,
   "metadata": {
    "collapsed": true
   },
   "outputs": [],
   "source": [
    "check_box = driver.find_element_by_xpath('//*[@id=\"checkbox\"]')\n"
   ]
  },
  {
   "cell_type": "code",
   "execution_count": 3,
   "metadata": {
    "collapsed": true
   },
   "outputs": [],
   "source": [
    "check_box.click()\n"
   ]
  },
  {
   "cell_type": "code",
   "execution_count": 4,
   "metadata": {
    "collapsed": true
   },
   "outputs": [],
   "source": [
    "enter_box = driver.find_element_by_xpath('/html/body/table/tbody/tr[7]/td/form/div/input[2]')\n"
   ]
  },
  {
   "cell_type": "code",
   "execution_count": 5,
   "metadata": {
    "collapsed": true
   },
   "outputs": [],
   "source": [
    "enter_box.click()\n"
   ]
  },
  {
   "cell_type": "markdown",
   "metadata": {},
   "source": [
    "### Once you're on the next page, how will you click the \"SEARCH LICENSE RECORDS\" link or follow its URL?"
   ]
  },
  {
   "cell_type": "code",
   "execution_count": 6,
   "metadata": {
    "collapsed": true
   },
   "outputs": [],
   "source": [
    "from selenium.webdriver.support.ui import Select\n"
   ]
  },
  {
   "cell_type": "code",
   "execution_count": 7,
   "metadata": {
    "collapsed": true
   },
   "outputs": [],
   "source": [
    "select = driver.find_element_by_xpath('/html/body/table[1]/tbody/tr[2]/td[2]/table/tbody/tr/td[3]/a')\n",
    "select.click()\n"
   ]
  },
  {
   "cell_type": "markdown",
   "metadata": {},
   "source": [
    "### Now you're on the form page. How do you pick \"Statewide\" for the jurisdiction dropdown?"
   ]
  },
  {
   "cell_type": "code",
   "execution_count": 8,
   "metadata": {
    "collapsed": true
   },
   "outputs": [],
   "source": [
    "select_dd = driver.find_element_by_xpath('//*[@id=\"slcJurisdiction\"]')\n",
    "# select.click()\n"
   ]
  },
  {
   "cell_type": "code",
   "execution_count": 9,
   "metadata": {},
   "outputs": [],
   "source": [
    "search_input_dd = driver.find_element_by_xpath('//*[@id=\"slcJurisdiction\"]')\n",
    "search_input_dd.send_keys(\"Statewide\")\n"
   ]
  },
  {
   "cell_type": "markdown",
   "metadata": {},
   "source": [
    "### How do you type \"vap%\" into the Trade Name field?"
   ]
  },
  {
   "cell_type": "code",
   "execution_count": 10,
   "metadata": {
    "collapsed": true
   },
   "outputs": [],
   "source": [
    "search_input_vap = driver.find_element_by_xpath('//*[@id=\"txtTradeName\"]')\n",
    "search_input_vap.send_keys(\"vap%\")\n"
   ]
  },
  {
   "cell_type": "markdown",
   "metadata": {},
   "source": [
    "### How do you click the submit button or submit the form?"
   ]
  },
  {
   "cell_type": "code",
   "execution_count": 11,
   "metadata": {
    "collapsed": true
   },
   "outputs": [],
   "source": [
    "search_button_submit = driver.find_element_by_xpath('/html/body/table[2]/tbody/tr[4]/td[2]/form/table/tbody/tr[14]/td/input[1]')\n",
    "search_button_submit.click()\n"
   ]
  },
  {
   "cell_type": "markdown",
   "metadata": {},
   "source": [
    "### How can you find and click the 'Next' button on the search results page?"
   ]
  },
  {
   "cell_type": "code",
   "execution_count": 12,
   "metadata": {
    "collapsed": true
   },
   "outputs": [],
   "source": [
    "search_button_next = driver.find_element_by_xpath('/html/body/table[2]/tbody/tr[4]/td[2]/table[2]/tbody/tr/td[3]/a')\n",
    "search_button_next.click()\n"
   ]
  },
  {
   "cell_type": "markdown",
   "metadata": {},
   "source": [
    "# Okay, let's scrape!\n",
    "\n",
    "### Use Selenium to search for vape shops statewide, and then click through until it reaches the last page.\n",
    "\n",
    "Don't scrape yet!"
   ]
  },
  {
   "cell_type": "code",
   "execution_count": 13,
   "metadata": {
    "collapsed": true
   },
   "outputs": [],
   "source": [
    "# Next button\n",
    "search_button_next_2 = driver.find_element_by_xpath('/html/body/table[2]/tbody/tr[4]/td[2]/table[2]/tbody/tr/td[3]/a')\n",
    "search_button_next_2.click()\n",
    "# Shift + Entered for 6 times\n"
   ]
  },
  {
   "cell_type": "code",
   "execution_count": 14,
   "metadata": {
    "collapsed": true
   },
   "outputs": [],
   "source": [
    "# Back button\n",
    "search_button_back = driver.find_element_by_xpath('/html/body/table[2]/tbody/tr[4]/td[2]/table[2]/tbody/tr/td[1]/a')\n",
    "search_button_back.click()\n"
   ]
  },
  {
   "cell_type": "markdown",
   "metadata": {},
   "source": [
    "### Use Selenium to scrape the first page of search results for vape shops statewide (well, we'll try).\n",
    "\n",
    "- *TIP: You can find elements/text using Selenium, or use BeautifulSoup with `doc = BeautifulSoup(driver.page_source)`*\n",
    "\n",
    "I've included some BeautifulSoup code that might be helpful. If you use it, **ask me how I made it.** It's important."
   ]
  },
  {
   "cell_type": "code",
   "execution_count": 15,
   "metadata": {},
   "outputs": [],
   "source": [
    "from bs4 import BeautifulSoup\n",
    "doc = BeautifulSoup(driver.page_source, 'html.parser')\n"
   ]
  },
  {
   "cell_type": "code",
   "execution_count": 16,
   "metadata": {},
   "outputs": [
    {
     "data": {
      "text/plain": [
       "5"
      ]
     },
     "execution_count": 16,
     "metadata": {},
     "output_type": "execute_result"
    }
   ],
   "source": [
    "# IF YOU ARE USING BEAUTIFULSOUP, HERE IS SOME SAMPLE CODE\n",
    "# IF YOU USE THIS CODE, ASK ME HOW I MADE IT. IT'S IMPORTANT.\n",
    "business_headers = doc.find_all('tr',class_='searchfieldtitle')\n",
    "len(business_headers)\n"
   ]
  },
  {
   "cell_type": "code",
   "execution_count": 17,
   "metadata": {
    "scrolled": true
   },
   "outputs": [
    {
     "name": "stdout",
     "output_type": "stream",
     "text": [
      "HEADER is 6.\n",
      "VAPE LOFT (THE)\n",
      "ROW 0 IS DISBROW II EMERSON HARRINGTON\n",
      "Lic. Status: Issued\n",
      "ROW 1 IS 185 MITCHELLS CHANCE RD\n",
      "License: 02102408\n",
      "ROW 2 IS EDGEWATER, MD 21037\n",
      "Issued Date: 4/13/2017\n",
      "ROW 3 IS Anne Arundel County\n",
      "----\n",
      "HEADER is 7.\n",
      "VAPE N CIGAR\n",
      "ROW 0 IS DISCOUNT TOBACCO ESSEX LLC\n",
      "Lic. Status: Issued\n",
      "ROW 1 IS 7104 MINSTREL UNIT #7\n",
      "License: 13141786\n",
      "ROW 2 IS COLUMBIA, MD 21045\n",
      "Issued Date: 5/19/2017\n",
      "ROW 3 IS Howard County\n",
      "----\n",
      "HEADER is 8.\n",
      "VAPE DOJO\n",
      "ROW 0 IS FAIRGROUND VILLAGE LLC\n",
      "Lic. Status: Issued\n",
      "ROW 1 IS 330 ONE FORTY VILLAGE ROAD\n",
      "License: 06126253\n",
      "ROW 2 IS WESTMINSTER, MD 21157\n",
      "Issued Date: 4/21/2017\n",
      "ROW 3 IS Carroll County\n",
      "----\n",
      "HEADER is 9.\n",
      "VAPE HAVEN\n",
      "Pending *\n",
      "ROW 0 IS GRIMM JENNIFER\n",
      "Lic. Status: Pending\n",
      "ROW 1 IS 29890 THREE NOTCH ROAD\n",
      "ROW 2 IS CHARLOTTE HALL, MD 20622\n",
      "ROW 3 IS St. Mary's County\n",
      "----\n",
      "HEADER is 10.\n",
      "VAPE BIRD\n",
      "ROW 0 IS HUTCH VAPES LLC\n",
      "Lic. Status: Issued\n",
      "ROW 1 IS 356 ROMANCOKE ROAD\n",
      "License: 17166688\n",
      "ROW 2 IS STEVENSVILLE, MD 21666\n",
      "Issued Date: 4/13/2017\n",
      "ROW 3 IS Queen Anne's County\n",
      "----\n"
     ]
    }
   ],
   "source": [
    "# You'll probably need to find specific tds inside\n",
    "# of the rows instead of looking at the whole thing.\n",
    "for header in business_headers:\n",
    "    rows = header.find_next_siblings('tr')\n",
    "    print(\"HEADER is\", header.text.strip())\n",
    "    print(\"ROW 0 IS\", rows[0].text.strip())\n",
    "    print(\"ROW 1 IS\", rows[1].text.strip())\n",
    "    print(\"ROW 2 IS\", rows[2].text.strip())\n",
    "    print(\"ROW 3 IS\", rows[3].text.strip())\n",
    "    print(\"----\")\n",
    "    "
   ]
  },
  {
   "cell_type": "markdown",
   "metadata": {},
   "source": [
    "### Save these into `vape-results.csv`"
   ]
  },
  {
   "cell_type": "code",
   "execution_count": 18,
   "metadata": {
    "scrolled": true
   },
   "outputs": [
    {
     "data": {
      "text/plain": [
       "[{'Header': '6.\\nVAPE LOFT (THE)',\n",
       "  'Row 0': 'HUTCH VAPES LLC\\nLic. Status: Issued',\n",
       "  'Row 1': '356 ROMANCOKE ROAD\\nLicense: 17166688',\n",
       "  'Row 2': 'STEVENSVILLE, MD 21666\\nIssued Date: 4/13/2017',\n",
       "  'Row 3': \"Queen Anne's County\"},\n",
       " {'Header': '7.\\nVAPE N CIGAR',\n",
       "  'Row 0': 'HUTCH VAPES LLC\\nLic. Status: Issued',\n",
       "  'Row 1': '356 ROMANCOKE ROAD\\nLicense: 17166688',\n",
       "  'Row 2': 'STEVENSVILLE, MD 21666\\nIssued Date: 4/13/2017',\n",
       "  'Row 3': \"Queen Anne's County\"},\n",
       " {'Header': '8.\\nVAPE DOJO',\n",
       "  'Row 0': 'HUTCH VAPES LLC\\nLic. Status: Issued',\n",
       "  'Row 1': '356 ROMANCOKE ROAD\\nLicense: 17166688',\n",
       "  'Row 2': 'STEVENSVILLE, MD 21666\\nIssued Date: 4/13/2017',\n",
       "  'Row 3': \"Queen Anne's County\"},\n",
       " {'Header': '9.\\nVAPE HAVEN\\nPending *',\n",
       "  'Row 0': 'HUTCH VAPES LLC\\nLic. Status: Issued',\n",
       "  'Row 1': '356 ROMANCOKE ROAD\\nLicense: 17166688',\n",
       "  'Row 2': 'STEVENSVILLE, MD 21666\\nIssued Date: 4/13/2017',\n",
       "  'Row 3': \"Queen Anne's County\"},\n",
       " {'Header': '10.\\nVAPE BIRD',\n",
       "  'Row 0': 'HUTCH VAPES LLC\\nLic. Status: Issued',\n",
       "  'Row 1': '356 ROMANCOKE ROAD\\nLicense: 17166688',\n",
       "  'Row 2': 'STEVENSVILLE, MD 21666\\nIssued Date: 4/13/2017',\n",
       "  'Row 3': \"Queen Anne's County\"}]"
      ]
     },
     "execution_count": 18,
     "metadata": {},
     "output_type": "execute_result"
    }
   ],
   "source": [
    "vape_results_1 = []\n",
    "\n",
    "for element in business_headers :\n",
    "    vape_results_dictionary = {}\n",
    "    rows = header.find_next_siblings('tr')\n",
    "    \n",
    "    headers = element.text.strip()\n",
    "    if headers :\n",
    "#         print(headers)\n",
    "        vape_results_dictionary['Header'] = headers\n",
    "    row_0 = rows[0].text.strip()\n",
    "    if row_0 :\n",
    "#         print(row_0)\n",
    "        vape_results_dictionary['Row 0'] = row_0\n",
    "    row_1 = rows[1].text.strip()\n",
    "    if row_1 :\n",
    "#         print(row_1)\n",
    "        vape_results_dictionary['Row 1'] = row_1\n",
    "    row_2 = rows[2].text.strip()\n",
    "    if row_2 :\n",
    "#         print(row_2)\n",
    "        vape_results_dictionary['Row 2'] = row_2\n",
    "    row_3 = rows[3].text.strip()\n",
    "    if row_3 :\n",
    "#         print(row_3)\n",
    "        vape_results_dictionary['Row 3'] = row_3        \n",
    "        \n",
    "    vape_results_1.append(vape_results_dictionary)\n",
    "#     print(\"-----\")\n",
    "vape_results_1\n"
   ]
  },
  {
   "cell_type": "code",
   "execution_count": 19,
   "metadata": {},
   "outputs": [],
   "source": [
    "import pandas as pd\n",
    "df_1 = pd.DataFrame(vape_results_1)\n",
    "df_1.to_csv(\"vape_results_1.csv\", index=False)\n"
   ]
  },
  {
   "cell_type": "markdown",
   "metadata": {},
   "source": [
    "### Open `vape-results.csv` to make sure there aren't any extra weird columns"
   ]
  },
  {
   "cell_type": "code",
   "execution_count": 20,
   "metadata": {},
   "outputs": [
    {
     "data": {
      "text/html": [
       "<div>\n",
       "<style>\n",
       "    .dataframe thead tr:only-child th {\n",
       "        text-align: right;\n",
       "    }\n",
       "\n",
       "    .dataframe thead th {\n",
       "        text-align: left;\n",
       "    }\n",
       "\n",
       "    .dataframe tbody tr th {\n",
       "        vertical-align: top;\n",
       "    }\n",
       "</style>\n",
       "<table border=\"1\" class=\"dataframe\">\n",
       "  <thead>\n",
       "    <tr style=\"text-align: right;\">\n",
       "      <th></th>\n",
       "      <th>Header</th>\n",
       "      <th>Row 0</th>\n",
       "      <th>Row 1</th>\n",
       "      <th>Row 2</th>\n",
       "      <th>Row 3</th>\n",
       "    </tr>\n",
       "  </thead>\n",
       "  <tbody>\n",
       "    <tr>\n",
       "      <th>0</th>\n",
       "      <td>6.\\nVAPE LOFT (THE)</td>\n",
       "      <td>HUTCH VAPES LLC\\nLic. Status: Issued</td>\n",
       "      <td>356 ROMANCOKE ROAD\\nLicense: 17166688</td>\n",
       "      <td>STEVENSVILLE, MD 21666\\nIssued Date: 4/13/2017</td>\n",
       "      <td>Queen Anne's County</td>\n",
       "    </tr>\n",
       "    <tr>\n",
       "      <th>1</th>\n",
       "      <td>7.\\nVAPE N CIGAR</td>\n",
       "      <td>HUTCH VAPES LLC\\nLic. Status: Issued</td>\n",
       "      <td>356 ROMANCOKE ROAD\\nLicense: 17166688</td>\n",
       "      <td>STEVENSVILLE, MD 21666\\nIssued Date: 4/13/2017</td>\n",
       "      <td>Queen Anne's County</td>\n",
       "    </tr>\n",
       "    <tr>\n",
       "      <th>2</th>\n",
       "      <td>8.\\nVAPE DOJO</td>\n",
       "      <td>HUTCH VAPES LLC\\nLic. Status: Issued</td>\n",
       "      <td>356 ROMANCOKE ROAD\\nLicense: 17166688</td>\n",
       "      <td>STEVENSVILLE, MD 21666\\nIssued Date: 4/13/2017</td>\n",
       "      <td>Queen Anne's County</td>\n",
       "    </tr>\n",
       "    <tr>\n",
       "      <th>3</th>\n",
       "      <td>9.\\nVAPE HAVEN\\nPending *</td>\n",
       "      <td>HUTCH VAPES LLC\\nLic. Status: Issued</td>\n",
       "      <td>356 ROMANCOKE ROAD\\nLicense: 17166688</td>\n",
       "      <td>STEVENSVILLE, MD 21666\\nIssued Date: 4/13/2017</td>\n",
       "      <td>Queen Anne's County</td>\n",
       "    </tr>\n",
       "    <tr>\n",
       "      <th>4</th>\n",
       "      <td>10.\\nVAPE BIRD</td>\n",
       "      <td>HUTCH VAPES LLC\\nLic. Status: Issued</td>\n",
       "      <td>356 ROMANCOKE ROAD\\nLicense: 17166688</td>\n",
       "      <td>STEVENSVILLE, MD 21666\\nIssued Date: 4/13/2017</td>\n",
       "      <td>Queen Anne's County</td>\n",
       "    </tr>\n",
       "  </tbody>\n",
       "</table>\n",
       "</div>"
      ],
      "text/plain": [
       "                      Header                                 Row 0  \\\n",
       "0        6.\\nVAPE LOFT (THE)  HUTCH VAPES LLC\\nLic. Status: Issued   \n",
       "1           7.\\nVAPE N CIGAR  HUTCH VAPES LLC\\nLic. Status: Issued   \n",
       "2              8.\\nVAPE DOJO  HUTCH VAPES LLC\\nLic. Status: Issued   \n",
       "3  9.\\nVAPE HAVEN\\nPending *  HUTCH VAPES LLC\\nLic. Status: Issued   \n",
       "4             10.\\nVAPE BIRD  HUTCH VAPES LLC\\nLic. Status: Issued   \n",
       "\n",
       "                                   Row 1  \\\n",
       "0  356 ROMANCOKE ROAD\\nLicense: 17166688   \n",
       "1  356 ROMANCOKE ROAD\\nLicense: 17166688   \n",
       "2  356 ROMANCOKE ROAD\\nLicense: 17166688   \n",
       "3  356 ROMANCOKE ROAD\\nLicense: 17166688   \n",
       "4  356 ROMANCOKE ROAD\\nLicense: 17166688   \n",
       "\n",
       "                                            Row 2                Row 3  \n",
       "0  STEVENSVILLE, MD 21666\\nIssued Date: 4/13/2017  Queen Anne's County  \n",
       "1  STEVENSVILLE, MD 21666\\nIssued Date: 4/13/2017  Queen Anne's County  \n",
       "2  STEVENSVILLE, MD 21666\\nIssued Date: 4/13/2017  Queen Anne's County  \n",
       "3  STEVENSVILLE, MD 21666\\nIssued Date: 4/13/2017  Queen Anne's County  \n",
       "4  STEVENSVILLE, MD 21666\\nIssued Date: 4/13/2017  Queen Anne's County  "
      ]
     },
     "execution_count": 20,
     "metadata": {},
     "output_type": "execute_result"
    }
   ],
   "source": [
    "df_1 = pd.read_csv(\"vape_results_1.csv\")\n",
    "df_1.head()\n"
   ]
  },
  {
   "cell_type": "code",
   "execution_count": 21,
   "metadata": {
    "collapsed": true
   },
   "outputs": [],
   "source": [
    "# search_button_next_2 = driver.find_element_by_xpath('/html/body/table[2]/tbody/tr[4]/td[2]/table[2]/tbody/tr/td[3]/a')\n",
    "# search_button_next_2.click()\n",
    "\n",
    "# search_the_first_page = driver.find_element_by_xpath('/html/body/table[2]/tbody/tr[4]/td[2]/table[2]/tbody/tr/td[2]/a[1]')\n",
    "# search_the_first_page.click()"
   ]
  },
  {
   "cell_type": "markdown",
   "metadata": {},
   "source": [
    "## Use Selenium to scrape ALL pages of results, save the results into `vape-results-all.csv`."
   ]
  },
  {
   "cell_type": "code",
   "execution_count": 22,
   "metadata": {},
   "outputs": [],
   "source": [
    "vape_results_all = []\n",
    "\n",
    "# The 1st page\n",
    "search_the_first_page = driver.find_element_by_xpath('/html/body/table[2]/tbody/tr[4]/td[2]/table[2]/tbody/tr/td[2]/a[1]')\n",
    "search_the_first_page.click()\n",
    "\n",
    "while True :\n",
    "\n",
    "    try :\n",
    "\n",
    "        doc = BeautifulSoup(driver.page_source, 'html.parser')\n",
    "\n",
    "        business_headers = doc.find_all('tr',class_='searchfieldtitle')\n",
    "\n",
    "        for element in business_headers :\n",
    "            vape_results_all_dictionary = {}\n",
    "            \n",
    "            headers = element.text.strip()\n",
    "            if headers :\n",
    "                vape_results_all_dictionary['Header'] = headers\n",
    "            \n",
    "            rows = header.find_next_siblings('tr')\n",
    "            row_0 = rows[0].text.strip()\n",
    "            if row_0 :\n",
    "                vape_results_all_dictionary['Row 0'] = row_0\n",
    "            row_1 = rows[1].text.strip()\n",
    "            if row_1 :\n",
    "                vape_results_all_dictionary['Row 1'] = row_1\n",
    "            row_2 = rows[2].text.strip()\n",
    "            if row_2 :\n",
    "                vape_results_all_dictionary['Row 2'] = row_2\n",
    "            row_3 = rows[3].text.strip()\n",
    "            if row_3 :\n",
    "                vape_results_all_dictionary['Row 3'] = row_3        \n",
    "            \n",
    "            vape_results_all.append(vape_results_all_dictionary)\n",
    "        \n",
    "        # The next page\n",
    "        search_button_next_2 = driver.find_element_by_xpath('/html/body/table[2]/tbody/tr[4]/td[2]/table[2]/tbody/tr/td[3]/a')\n",
    "        search_button_next_2.click()\n",
    "    except :\n",
    "        break\n",
    "        \n",
    "# vape_results_all\n"
   ]
  },
  {
   "cell_type": "code",
   "execution_count": 23,
   "metadata": {},
   "outputs": [
    {
     "data": {
      "text/html": [
       "<div>\n",
       "<style>\n",
       "    .dataframe thead tr:only-child th {\n",
       "        text-align: right;\n",
       "    }\n",
       "\n",
       "    .dataframe thead th {\n",
       "        text-align: left;\n",
       "    }\n",
       "\n",
       "    .dataframe tbody tr th {\n",
       "        vertical-align: top;\n",
       "    }\n",
       "</style>\n",
       "<table border=\"1\" class=\"dataframe\">\n",
       "  <thead>\n",
       "    <tr style=\"text-align: right;\">\n",
       "      <th></th>\n",
       "      <th>Header</th>\n",
       "      <th>Row 0</th>\n",
       "      <th>Row 1</th>\n",
       "      <th>Row 2</th>\n",
       "      <th>Row 3</th>\n",
       "    </tr>\n",
       "  </thead>\n",
       "  <tbody>\n",
       "    <tr>\n",
       "      <th>0</th>\n",
       "      <td>1.\\nVAPE IT STORE I</td>\n",
       "      <td>HUTCH VAPES LLC\\nLic. Status: Issued</td>\n",
       "      <td>356 ROMANCOKE ROAD\\nLicense: 17166688</td>\n",
       "      <td>STEVENSVILLE, MD 21666\\nIssued Date: 4/13/2017</td>\n",
       "      <td>Queen Anne's County</td>\n",
       "    </tr>\n",
       "    <tr>\n",
       "      <th>1</th>\n",
       "      <td>2.\\nVAPE IT STORE II</td>\n",
       "      <td>HUTCH VAPES LLC\\nLic. Status: Issued</td>\n",
       "      <td>356 ROMANCOKE ROAD\\nLicense: 17166688</td>\n",
       "      <td>STEVENSVILLE, MD 21666\\nIssued Date: 4/13/2017</td>\n",
       "      <td>Queen Anne's County</td>\n",
       "    </tr>\n",
       "    <tr>\n",
       "      <th>2</th>\n",
       "      <td>3.\\nVAPEPAD THE</td>\n",
       "      <td>HUTCH VAPES LLC\\nLic. Status: Issued</td>\n",
       "      <td>356 ROMANCOKE ROAD\\nLicense: 17166688</td>\n",
       "      <td>STEVENSVILLE, MD 21666\\nIssued Date: 4/13/2017</td>\n",
       "      <td>Queen Anne's County</td>\n",
       "    </tr>\n",
       "    <tr>\n",
       "      <th>3</th>\n",
       "      <td>4.\\nVAPE FROG</td>\n",
       "      <td>HUTCH VAPES LLC\\nLic. Status: Issued</td>\n",
       "      <td>356 ROMANCOKE ROAD\\nLicense: 17166688</td>\n",
       "      <td>STEVENSVILLE, MD 21666\\nIssued Date: 4/13/2017</td>\n",
       "      <td>Queen Anne's County</td>\n",
       "    </tr>\n",
       "    <tr>\n",
       "      <th>4</th>\n",
       "      <td>5.\\nVAPE FROG\\nPending *</td>\n",
       "      <td>HUTCH VAPES LLC\\nLic. Status: Issued</td>\n",
       "      <td>356 ROMANCOKE ROAD\\nLicense: 17166688</td>\n",
       "      <td>STEVENSVILLE, MD 21666\\nIssued Date: 4/13/2017</td>\n",
       "      <td>Queen Anne's County</td>\n",
       "    </tr>\n",
       "    <tr>\n",
       "      <th>5</th>\n",
       "      <td>6.\\nVAPE LOFT (THE)</td>\n",
       "      <td>HUTCH VAPES LLC\\nLic. Status: Issued</td>\n",
       "      <td>356 ROMANCOKE ROAD\\nLicense: 17166688</td>\n",
       "      <td>STEVENSVILLE, MD 21666\\nIssued Date: 4/13/2017</td>\n",
       "      <td>Queen Anne's County</td>\n",
       "    </tr>\n",
       "    <tr>\n",
       "      <th>6</th>\n",
       "      <td>7.\\nVAPE N CIGAR</td>\n",
       "      <td>HUTCH VAPES LLC\\nLic. Status: Issued</td>\n",
       "      <td>356 ROMANCOKE ROAD\\nLicense: 17166688</td>\n",
       "      <td>STEVENSVILLE, MD 21666\\nIssued Date: 4/13/2017</td>\n",
       "      <td>Queen Anne's County</td>\n",
       "    </tr>\n",
       "    <tr>\n",
       "      <th>7</th>\n",
       "      <td>8.\\nVAPE DOJO</td>\n",
       "      <td>HUTCH VAPES LLC\\nLic. Status: Issued</td>\n",
       "      <td>356 ROMANCOKE ROAD\\nLicense: 17166688</td>\n",
       "      <td>STEVENSVILLE, MD 21666\\nIssued Date: 4/13/2017</td>\n",
       "      <td>Queen Anne's County</td>\n",
       "    </tr>\n",
       "    <tr>\n",
       "      <th>8</th>\n",
       "      <td>9.\\nVAPE HAVEN\\nPending *</td>\n",
       "      <td>HUTCH VAPES LLC\\nLic. Status: Issued</td>\n",
       "      <td>356 ROMANCOKE ROAD\\nLicense: 17166688</td>\n",
       "      <td>STEVENSVILLE, MD 21666\\nIssued Date: 4/13/2017</td>\n",
       "      <td>Queen Anne's County</td>\n",
       "    </tr>\n",
       "    <tr>\n",
       "      <th>9</th>\n",
       "      <td>10.\\nVAPE BIRD</td>\n",
       "      <td>HUTCH VAPES LLC\\nLic. Status: Issued</td>\n",
       "      <td>356 ROMANCOKE ROAD\\nLicense: 17166688</td>\n",
       "      <td>STEVENSVILLE, MD 21666\\nIssued Date: 4/13/2017</td>\n",
       "      <td>Queen Anne's County</td>\n",
       "    </tr>\n",
       "    <tr>\n",
       "      <th>10</th>\n",
       "      <td>11.\\nVAPE FROG\\nPending *</td>\n",
       "      <td>HUTCH VAPES LLC\\nLic. Status: Issued</td>\n",
       "      <td>356 ROMANCOKE ROAD\\nLicense: 17166688</td>\n",
       "      <td>STEVENSVILLE, MD 21666\\nIssued Date: 4/13/2017</td>\n",
       "      <td>Queen Anne's County</td>\n",
       "    </tr>\n",
       "    <tr>\n",
       "      <th>11</th>\n",
       "      <td>12.\\nVAPORS LOUNGE</td>\n",
       "      <td>HUTCH VAPES LLC\\nLic. Status: Issued</td>\n",
       "      <td>356 ROMANCOKE ROAD\\nLicense: 17166688</td>\n",
       "      <td>STEVENSVILLE, MD 21666\\nIssued Date: 4/13/2017</td>\n",
       "      <td>Queen Anne's County</td>\n",
       "    </tr>\n",
       "    <tr>\n",
       "      <th>12</th>\n",
       "      <td>13.\\nVAPORS LOUNGE\\nPending *</td>\n",
       "      <td>HUTCH VAPES LLC\\nLic. Status: Issued</td>\n",
       "      <td>356 ROMANCOKE ROAD\\nLicense: 17166688</td>\n",
       "      <td>STEVENSVILLE, MD 21666\\nIssued Date: 4/13/2017</td>\n",
       "      <td>Queen Anne's County</td>\n",
       "    </tr>\n",
       "    <tr>\n",
       "      <th>13</th>\n",
       "      <td>14.\\nVAPIST MD\\nPending *</td>\n",
       "      <td>HUTCH VAPES LLC\\nLic. Status: Issued</td>\n",
       "      <td>356 ROMANCOKE ROAD\\nLicense: 17166688</td>\n",
       "      <td>STEVENSVILLE, MD 21666\\nIssued Date: 4/13/2017</td>\n",
       "      <td>Queen Anne's County</td>\n",
       "    </tr>\n",
       "    <tr>\n",
       "      <th>14</th>\n",
       "      <td>15.\\nVAPIST MD LLC\\nPending *</td>\n",
       "      <td>HUTCH VAPES LLC\\nLic. Status: Issued</td>\n",
       "      <td>356 ROMANCOKE ROAD\\nLicense: 17166688</td>\n",
       "      <td>STEVENSVILLE, MD 21666\\nIssued Date: 4/13/2017</td>\n",
       "      <td>Queen Anne's County</td>\n",
       "    </tr>\n",
       "    <tr>\n",
       "      <th>15</th>\n",
       "      <td>16.\\nVAPERTETMD\\nPending *</td>\n",
       "      <td>HUTCH VAPES LLC\\nLic. Status: Issued</td>\n",
       "      <td>356 ROMANCOKE ROAD\\nLicense: 17166688</td>\n",
       "      <td>STEVENSVILLE, MD 21666\\nIssued Date: 4/13/2017</td>\n",
       "      <td>Queen Anne's County</td>\n",
       "    </tr>\n",
       "    <tr>\n",
       "      <th>16</th>\n",
       "      <td>17.\\nVAPERTEKMD\\nPending *</td>\n",
       "      <td>HUTCH VAPES LLC\\nLic. Status: Issued</td>\n",
       "      <td>356 ROMANCOKE ROAD\\nLicense: 17166688</td>\n",
       "      <td>STEVENSVILLE, MD 21666\\nIssued Date: 4/13/2017</td>\n",
       "      <td>Queen Anne's County</td>\n",
       "    </tr>\n",
       "    <tr>\n",
       "      <th>17</th>\n",
       "      <td>18.\\nVAPORIOT\\nPending *</td>\n",
       "      <td>HUTCH VAPES LLC\\nLic. Status: Issued</td>\n",
       "      <td>356 ROMANCOKE ROAD\\nLicense: 17166688</td>\n",
       "      <td>STEVENSVILLE, MD 21666\\nIssued Date: 4/13/2017</td>\n",
       "      <td>Queen Anne's County</td>\n",
       "    </tr>\n",
       "    <tr>\n",
       "      <th>18</th>\n",
       "      <td>19.\\nVAPE PLUS</td>\n",
       "      <td>HUTCH VAPES LLC\\nLic. Status: Issued</td>\n",
       "      <td>356 ROMANCOKE ROAD\\nLicense: 17166688</td>\n",
       "      <td>STEVENSVILLE, MD 21666\\nIssued Date: 4/13/2017</td>\n",
       "      <td>Queen Anne's County</td>\n",
       "    </tr>\n",
       "    <tr>\n",
       "      <th>19</th>\n",
       "      <td>20.\\nVAPE  SOCIAL</td>\n",
       "      <td>HUTCH VAPES LLC\\nLic. Status: Issued</td>\n",
       "      <td>356 ROMANCOKE ROAD\\nLicense: 17166688</td>\n",
       "      <td>STEVENSVILLE, MD 21666\\nIssued Date: 4/13/2017</td>\n",
       "      <td>Queen Anne's County</td>\n",
       "    </tr>\n",
       "    <tr>\n",
       "      <th>20</th>\n",
       "      <td>21.\\nVAPE JUNGLE</td>\n",
       "      <td>HUTCH VAPES LLC\\nLic. Status: Issued</td>\n",
       "      <td>356 ROMANCOKE ROAD\\nLicense: 17166688</td>\n",
       "      <td>STEVENSVILLE, MD 21666\\nIssued Date: 4/13/2017</td>\n",
       "      <td>Queen Anne's County</td>\n",
       "    </tr>\n",
       "    <tr>\n",
       "      <th>21</th>\n",
       "      <td>22.\\nVAPE TIME\\nPending *</td>\n",
       "      <td>HUTCH VAPES LLC\\nLic. Status: Issued</td>\n",
       "      <td>356 ROMANCOKE ROAD\\nLicense: 17166688</td>\n",
       "      <td>STEVENSVILLE, MD 21666\\nIssued Date: 4/13/2017</td>\n",
       "      <td>Queen Anne's County</td>\n",
       "    </tr>\n",
       "    <tr>\n",
       "      <th>22</th>\n",
       "      <td>23.\\nVAPEBAR EXPESS\\nPending *</td>\n",
       "      <td>HUTCH VAPES LLC\\nLic. Status: Issued</td>\n",
       "      <td>356 ROMANCOKE ROAD\\nLicense: 17166688</td>\n",
       "      <td>STEVENSVILLE, MD 21666\\nIssued Date: 4/13/2017</td>\n",
       "      <td>Queen Anne's County</td>\n",
       "    </tr>\n",
       "    <tr>\n",
       "      <th>23</th>\n",
       "      <td>24.\\nVAPOR 99</td>\n",
       "      <td>HUTCH VAPES LLC\\nLic. Status: Issued</td>\n",
       "      <td>356 ROMANCOKE ROAD\\nLicense: 17166688</td>\n",
       "      <td>STEVENSVILLE, MD 21666\\nIssued Date: 4/13/2017</td>\n",
       "      <td>Queen Anne's County</td>\n",
       "    </tr>\n",
       "    <tr>\n",
       "      <th>24</th>\n",
       "      <td>25.\\nVAPOR ALLEY</td>\n",
       "      <td>HUTCH VAPES LLC\\nLic. Status: Issued</td>\n",
       "      <td>356 ROMANCOKE ROAD\\nLicense: 17166688</td>\n",
       "      <td>STEVENSVILLE, MD 21666\\nIssued Date: 4/13/2017</td>\n",
       "      <td>Queen Anne's County</td>\n",
       "    </tr>\n",
       "    <tr>\n",
       "      <th>25</th>\n",
       "      <td>26.\\nVAPOR EMPORIUM</td>\n",
       "      <td>HUTCH VAPES LLC\\nLic. Status: Issued</td>\n",
       "      <td>356 ROMANCOKE ROAD\\nLicense: 17166688</td>\n",
       "      <td>STEVENSVILLE, MD 21666\\nIssued Date: 4/13/2017</td>\n",
       "      <td>Queen Anne's County</td>\n",
       "    </tr>\n",
       "    <tr>\n",
       "      <th>26</th>\n",
       "      <td>27.\\nVAPOR VILLA</td>\n",
       "      <td>HUTCH VAPES LLC\\nLic. Status: Issued</td>\n",
       "      <td>356 ROMANCOKE ROAD\\nLicense: 17166688</td>\n",
       "      <td>STEVENSVILLE, MD 21666\\nIssued Date: 4/13/2017</td>\n",
       "      <td>Queen Anne's County</td>\n",
       "    </tr>\n",
       "    <tr>\n",
       "      <th>27</th>\n",
       "      <td>28.\\nVAPOR VILLA</td>\n",
       "      <td>HUTCH VAPES LLC\\nLic. Status: Issued</td>\n",
       "      <td>356 ROMANCOKE ROAD\\nLicense: 17166688</td>\n",
       "      <td>STEVENSVILLE, MD 21666\\nIssued Date: 4/13/2017</td>\n",
       "      <td>Queen Anne's County</td>\n",
       "    </tr>\n",
       "    <tr>\n",
       "      <th>28</th>\n",
       "      <td>29.\\nVAPE DOJO</td>\n",
       "      <td>HUTCH VAPES LLC\\nLic. Status: Issued</td>\n",
       "      <td>356 ROMANCOKE ROAD\\nLicense: 17166688</td>\n",
       "      <td>STEVENSVILLE, MD 21666\\nIssued Date: 4/13/2017</td>\n",
       "      <td>Queen Anne's County</td>\n",
       "    </tr>\n",
       "    <tr>\n",
       "      <th>29</th>\n",
       "      <td>30.\\nVAPE DOJO</td>\n",
       "      <td>HUTCH VAPES LLC\\nLic. Status: Issued</td>\n",
       "      <td>356 ROMANCOKE ROAD\\nLicense: 17166688</td>\n",
       "      <td>STEVENSVILLE, MD 21666\\nIssued Date: 4/13/2017</td>\n",
       "      <td>Queen Anne's County</td>\n",
       "    </tr>\n",
       "    <tr>\n",
       "      <th>30</th>\n",
       "      <td>31.\\nVAPE DOJO\\nPending *</td>\n",
       "      <td>HUTCH VAPES LLC\\nLic. Status: Issued</td>\n",
       "      <td>356 ROMANCOKE ROAD\\nLicense: 17166688</td>\n",
       "      <td>STEVENSVILLE, MD 21666\\nIssued Date: 4/13/2017</td>\n",
       "      <td>Queen Anne's County</td>\n",
       "    </tr>\n",
       "    <tr>\n",
       "      <th>31</th>\n",
       "      <td>32.\\nVAPEZ YARDHOUSE\\nPending *</td>\n",
       "      <td>HUTCH VAPES LLC\\nLic. Status: Issued</td>\n",
       "      <td>356 ROMANCOKE ROAD\\nLicense: 17166688</td>\n",
       "      <td>STEVENSVILLE, MD 21666\\nIssued Date: 4/13/2017</td>\n",
       "      <td>Queen Anne's County</td>\n",
       "    </tr>\n",
       "  </tbody>\n",
       "</table>\n",
       "</div>"
      ],
      "text/plain": [
       "                             Header                                 Row 0  \\\n",
       "0               1.\\nVAPE IT STORE I  HUTCH VAPES LLC\\nLic. Status: Issued   \n",
       "1              2.\\nVAPE IT STORE II  HUTCH VAPES LLC\\nLic. Status: Issued   \n",
       "2                   3.\\nVAPEPAD THE  HUTCH VAPES LLC\\nLic. Status: Issued   \n",
       "3                     4.\\nVAPE FROG  HUTCH VAPES LLC\\nLic. Status: Issued   \n",
       "4          5.\\nVAPE FROG\\nPending *  HUTCH VAPES LLC\\nLic. Status: Issued   \n",
       "5               6.\\nVAPE LOFT (THE)  HUTCH VAPES LLC\\nLic. Status: Issued   \n",
       "6                  7.\\nVAPE N CIGAR  HUTCH VAPES LLC\\nLic. Status: Issued   \n",
       "7                     8.\\nVAPE DOJO  HUTCH VAPES LLC\\nLic. Status: Issued   \n",
       "8         9.\\nVAPE HAVEN\\nPending *  HUTCH VAPES LLC\\nLic. Status: Issued   \n",
       "9                    10.\\nVAPE BIRD  HUTCH VAPES LLC\\nLic. Status: Issued   \n",
       "10        11.\\nVAPE FROG\\nPending *  HUTCH VAPES LLC\\nLic. Status: Issued   \n",
       "11               12.\\nVAPORS LOUNGE  HUTCH VAPES LLC\\nLic. Status: Issued   \n",
       "12    13.\\nVAPORS LOUNGE\\nPending *  HUTCH VAPES LLC\\nLic. Status: Issued   \n",
       "13        14.\\nVAPIST MD\\nPending *  HUTCH VAPES LLC\\nLic. Status: Issued   \n",
       "14    15.\\nVAPIST MD LLC\\nPending *  HUTCH VAPES LLC\\nLic. Status: Issued   \n",
       "15       16.\\nVAPERTETMD\\nPending *  HUTCH VAPES LLC\\nLic. Status: Issued   \n",
       "16       17.\\nVAPERTEKMD\\nPending *  HUTCH VAPES LLC\\nLic. Status: Issued   \n",
       "17         18.\\nVAPORIOT\\nPending *  HUTCH VAPES LLC\\nLic. Status: Issued   \n",
       "18                   19.\\nVAPE PLUS  HUTCH VAPES LLC\\nLic. Status: Issued   \n",
       "19                20.\\nVAPE  SOCIAL  HUTCH VAPES LLC\\nLic. Status: Issued   \n",
       "20                 21.\\nVAPE JUNGLE  HUTCH VAPES LLC\\nLic. Status: Issued   \n",
       "21        22.\\nVAPE TIME\\nPending *  HUTCH VAPES LLC\\nLic. Status: Issued   \n",
       "22   23.\\nVAPEBAR EXPESS\\nPending *  HUTCH VAPES LLC\\nLic. Status: Issued   \n",
       "23                    24.\\nVAPOR 99  HUTCH VAPES LLC\\nLic. Status: Issued   \n",
       "24                 25.\\nVAPOR ALLEY  HUTCH VAPES LLC\\nLic. Status: Issued   \n",
       "25              26.\\nVAPOR EMPORIUM  HUTCH VAPES LLC\\nLic. Status: Issued   \n",
       "26                 27.\\nVAPOR VILLA  HUTCH VAPES LLC\\nLic. Status: Issued   \n",
       "27                 28.\\nVAPOR VILLA  HUTCH VAPES LLC\\nLic. Status: Issued   \n",
       "28                   29.\\nVAPE DOJO  HUTCH VAPES LLC\\nLic. Status: Issued   \n",
       "29                   30.\\nVAPE DOJO  HUTCH VAPES LLC\\nLic. Status: Issued   \n",
       "30        31.\\nVAPE DOJO\\nPending *  HUTCH VAPES LLC\\nLic. Status: Issued   \n",
       "31  32.\\nVAPEZ YARDHOUSE\\nPending *  HUTCH VAPES LLC\\nLic. Status: Issued   \n",
       "\n",
       "                                    Row 1  \\\n",
       "0   356 ROMANCOKE ROAD\\nLicense: 17166688   \n",
       "1   356 ROMANCOKE ROAD\\nLicense: 17166688   \n",
       "2   356 ROMANCOKE ROAD\\nLicense: 17166688   \n",
       "3   356 ROMANCOKE ROAD\\nLicense: 17166688   \n",
       "4   356 ROMANCOKE ROAD\\nLicense: 17166688   \n",
       "5   356 ROMANCOKE ROAD\\nLicense: 17166688   \n",
       "6   356 ROMANCOKE ROAD\\nLicense: 17166688   \n",
       "7   356 ROMANCOKE ROAD\\nLicense: 17166688   \n",
       "8   356 ROMANCOKE ROAD\\nLicense: 17166688   \n",
       "9   356 ROMANCOKE ROAD\\nLicense: 17166688   \n",
       "10  356 ROMANCOKE ROAD\\nLicense: 17166688   \n",
       "11  356 ROMANCOKE ROAD\\nLicense: 17166688   \n",
       "12  356 ROMANCOKE ROAD\\nLicense: 17166688   \n",
       "13  356 ROMANCOKE ROAD\\nLicense: 17166688   \n",
       "14  356 ROMANCOKE ROAD\\nLicense: 17166688   \n",
       "15  356 ROMANCOKE ROAD\\nLicense: 17166688   \n",
       "16  356 ROMANCOKE ROAD\\nLicense: 17166688   \n",
       "17  356 ROMANCOKE ROAD\\nLicense: 17166688   \n",
       "18  356 ROMANCOKE ROAD\\nLicense: 17166688   \n",
       "19  356 ROMANCOKE ROAD\\nLicense: 17166688   \n",
       "20  356 ROMANCOKE ROAD\\nLicense: 17166688   \n",
       "21  356 ROMANCOKE ROAD\\nLicense: 17166688   \n",
       "22  356 ROMANCOKE ROAD\\nLicense: 17166688   \n",
       "23  356 ROMANCOKE ROAD\\nLicense: 17166688   \n",
       "24  356 ROMANCOKE ROAD\\nLicense: 17166688   \n",
       "25  356 ROMANCOKE ROAD\\nLicense: 17166688   \n",
       "26  356 ROMANCOKE ROAD\\nLicense: 17166688   \n",
       "27  356 ROMANCOKE ROAD\\nLicense: 17166688   \n",
       "28  356 ROMANCOKE ROAD\\nLicense: 17166688   \n",
       "29  356 ROMANCOKE ROAD\\nLicense: 17166688   \n",
       "30  356 ROMANCOKE ROAD\\nLicense: 17166688   \n",
       "31  356 ROMANCOKE ROAD\\nLicense: 17166688   \n",
       "\n",
       "                                             Row 2                Row 3  \n",
       "0   STEVENSVILLE, MD 21666\\nIssued Date: 4/13/2017  Queen Anne's County  \n",
       "1   STEVENSVILLE, MD 21666\\nIssued Date: 4/13/2017  Queen Anne's County  \n",
       "2   STEVENSVILLE, MD 21666\\nIssued Date: 4/13/2017  Queen Anne's County  \n",
       "3   STEVENSVILLE, MD 21666\\nIssued Date: 4/13/2017  Queen Anne's County  \n",
       "4   STEVENSVILLE, MD 21666\\nIssued Date: 4/13/2017  Queen Anne's County  \n",
       "5   STEVENSVILLE, MD 21666\\nIssued Date: 4/13/2017  Queen Anne's County  \n",
       "6   STEVENSVILLE, MD 21666\\nIssued Date: 4/13/2017  Queen Anne's County  \n",
       "7   STEVENSVILLE, MD 21666\\nIssued Date: 4/13/2017  Queen Anne's County  \n",
       "8   STEVENSVILLE, MD 21666\\nIssued Date: 4/13/2017  Queen Anne's County  \n",
       "9   STEVENSVILLE, MD 21666\\nIssued Date: 4/13/2017  Queen Anne's County  \n",
       "10  STEVENSVILLE, MD 21666\\nIssued Date: 4/13/2017  Queen Anne's County  \n",
       "11  STEVENSVILLE, MD 21666\\nIssued Date: 4/13/2017  Queen Anne's County  \n",
       "12  STEVENSVILLE, MD 21666\\nIssued Date: 4/13/2017  Queen Anne's County  \n",
       "13  STEVENSVILLE, MD 21666\\nIssued Date: 4/13/2017  Queen Anne's County  \n",
       "14  STEVENSVILLE, MD 21666\\nIssued Date: 4/13/2017  Queen Anne's County  \n",
       "15  STEVENSVILLE, MD 21666\\nIssued Date: 4/13/2017  Queen Anne's County  \n",
       "16  STEVENSVILLE, MD 21666\\nIssued Date: 4/13/2017  Queen Anne's County  \n",
       "17  STEVENSVILLE, MD 21666\\nIssued Date: 4/13/2017  Queen Anne's County  \n",
       "18  STEVENSVILLE, MD 21666\\nIssued Date: 4/13/2017  Queen Anne's County  \n",
       "19  STEVENSVILLE, MD 21666\\nIssued Date: 4/13/2017  Queen Anne's County  \n",
       "20  STEVENSVILLE, MD 21666\\nIssued Date: 4/13/2017  Queen Anne's County  \n",
       "21  STEVENSVILLE, MD 21666\\nIssued Date: 4/13/2017  Queen Anne's County  \n",
       "22  STEVENSVILLE, MD 21666\\nIssued Date: 4/13/2017  Queen Anne's County  \n",
       "23  STEVENSVILLE, MD 21666\\nIssued Date: 4/13/2017  Queen Anne's County  \n",
       "24  STEVENSVILLE, MD 21666\\nIssued Date: 4/13/2017  Queen Anne's County  \n",
       "25  STEVENSVILLE, MD 21666\\nIssued Date: 4/13/2017  Queen Anne's County  \n",
       "26  STEVENSVILLE, MD 21666\\nIssued Date: 4/13/2017  Queen Anne's County  \n",
       "27  STEVENSVILLE, MD 21666\\nIssued Date: 4/13/2017  Queen Anne's County  \n",
       "28  STEVENSVILLE, MD 21666\\nIssued Date: 4/13/2017  Queen Anne's County  \n",
       "29  STEVENSVILLE, MD 21666\\nIssued Date: 4/13/2017  Queen Anne's County  \n",
       "30  STEVENSVILLE, MD 21666\\nIssued Date: 4/13/2017  Queen Anne's County  \n",
       "31  STEVENSVILLE, MD 21666\\nIssued Date: 4/13/2017  Queen Anne's County  "
      ]
     },
     "execution_count": 23,
     "metadata": {},
     "output_type": "execute_result"
    }
   ],
   "source": [
    "df_all = pd.DataFrame(vape_results_all)\n",
    "df_all.to_csv(\"vape-results-all.csv\", index=False)\n",
    "df_all = pd.read_csv(\"vape-results-all.csv\")\n",
    "df_all\n"
   ]
  },
  {
   "cell_type": "code",
   "execution_count": null,
   "metadata": {
    "collapsed": true
   },
   "outputs": [],
   "source": []
  }
 ],
 "metadata": {
  "kernelspec": {
   "display_name": "Python 3",
   "language": "python",
   "name": "python3"
  },
  "language_info": {
   "codemirror_mode": {
    "name": "ipython",
    "version": 3
   },
   "file_extension": ".py",
   "mimetype": "text/x-python",
   "name": "python",
   "nbconvert_exporter": "python",
   "pygments_lexer": "ipython3",
   "version": "3.6.1"
  }
 },
 "nbformat": 4,
 "nbformat_minor": 2
}
